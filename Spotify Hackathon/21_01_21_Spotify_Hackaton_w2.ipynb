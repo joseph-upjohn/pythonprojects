{
 "cells": [
  {
   "cell_type": "markdown",
   "metadata": {},
   "source": [
    "# Hackaton: Applying Python to Spotify data\n",
    "### Author: Alberto Romero Vázquez\n",
    "\n"
   ]
  },
  {
   "cell_type": "markdown",
   "metadata": {},
   "source": [
    "#### Use Case Spotify"
   ]
  },
  {
   "cell_type": "markdown",
   "metadata": {},
   "source": [
    "Welcome to this hackathon!\n",
    "\n",
    "__Rules__: \n",
    "\n",
    "* __Groups__: you work in groups, you are assigned to a table\n",
    "* __The first block__: The groups will work to answer some questions.  Manage your time!\n",
    "* Presentation of the first block\n",
    "* __Second block__: The teacher will show you how far you can go. Guided questions and answers"
   ]
  },
  {
   "cell_type": "markdown",
   "metadata": {},
   "source": [
    "# Block I - Time: 9:00 to 16:30\n",
    "#### By 16:30 a zip file must be sent to alberto@thebridgeschool.es with: 1) the notebook with the solutions of the team, 2) the Excel of solutions and 3) the presentation of the remarkable questions \n",
    "\n",
    "The notebook must show the code for the solutions.\\\n",
    "The Excel file must have __all the solutions to all the questions.__\\\n",
    "The presentation must have your explanation to the __remarkable questions: 7, 14, 19, 20, 22, 26, 28, 30, 39, 40, 45, 48__. The presentation can be in PowerPoint, in Word or in a Notebook. If you want to use other format, please check in advance with the teachers.\n",
    "\n",
    "##### You don't know one answer, then go for another!\n",
    "#### Teachers will NOT help you in this 1st block\n",
    "##### The group will present its results (only the remarkable questions, not all) when 1st block is finished"
   ]
  },
  {
   "cell_type": "markdown",
   "metadata": {},
   "source": [
    "### Use Case"
   ]
  },
  {
   "cell_type": "markdown",
   "metadata": {},
   "source": [
    "This work is based on studying the behaviour of the users of Spotify, analysing real data.\n",
    "\n",
    "1. The data come from an IA web for Data Science. The data come from a real problem that Spotify brought previously to a contest (and closed in January 2019). Look for the datasets attached to this Hackathon. There are 2 datasets: Track_features and Training_set. You need BOTH datasets. Work with the datasets separated until you are told to join them.\n",
    "\n",
    "2. When you have found the datasets, go and find the Dataset Description. It is a pdf file. Do not read it now.\n",
    "3. Go find Solutions.xlsx\n",
    "\n",
    "3. You have all you need to start"
   ]
  },
  {
   "cell_type": "markdown",
   "metadata": {},
   "source": [
    "#### Problem"
   ]
  },
  {
   "cell_type": "markdown",
   "metadata": {},
   "source": [
    "Spotify is a service of streaming music. They have tracks (the music). Say you have tracks X and Y.\n",
    "When a user opens Spotify, does things (browse a track X, then goes to a playlist and listens to Y, then pauses the track Y, then keeps on listening to Y and exits Spotify, THAT is a session. \n",
    "\n",
    "The tracks are stored in a dataset that knows features of the tracks. \n",
    "The sessions are stored in a dataset of sessions that knows the actions of the users.\n",
    "We want to explore the data and the relations between them.\n",
    "\n",
    "__YOU WILL HAVE GOOD ANSWERS IF YOU EXTRACT INFORMATION FROM THE NUMBERS__\n",
    "\n"
   ]
  },
  {
   "cell_type": "markdown",
   "metadata": {},
   "source": [
    "Let's begin!"
   ]
  },
  {
   "cell_type": "markdown",
   "metadata": {},
   "source": [
    "Read the pdf file describing the data"
   ]
  },
  {
   "cell_type": "markdown",
   "metadata": {},
   "source": [
    "##### Block A: understand the data\n",
    "QUESTIONS\n",
    "##### Note: you DO NOT need to code here and you HAVE all the information in the exercise"
   ]
  },
  {
   "cell_type": "markdown",
   "metadata": {},
   "source": [
    "\n",
    "1. Spotify wants to predict which user is going to skip a track before the track has ended.\n",
    "Why do you think that Spotify is willing to pay a price for that?\n",
    "2. Which variable tells us if a song has been listened to entirely or not?\n",
    "3. The length of the tracks are stored in which units?\n",
    "4. Does Spotify use Deep Learning?\n",
    "5. Which is the maximun number of playlist that a developer can get returned when he requests to get playlists?\n",
    "6. Which status code would get a developer if Spotify has accepted the request for processing, but the processing has not been completed?\n",
    "7. Which filter can identify if songs are in Chinese? __REMARKABLE__\n",
    "8. Which DJ has lots of tracks in Spotify?\n",
    "9. We can easily identify carnival music from which countries?\n"
   ]
  },
  {
   "cell_type": "markdown",
   "metadata": {},
   "source": [
    "##### Block B read the data QUESTIONS\n",
    "You need to code in this section"
   ]
  },
  {
   "cell_type": "markdown",
   "metadata": {},
   "source": [
    "10. How many track IDs do we have?\n",
    "11. How many session IDs do we have?\n",
    "12. Which variables are 'objects'? What kind of 'real' type behind those variables do you think that is 'hidden'?\n",
    "13. Release_year is an int, what other type of data casting could we apply?\n",
    "14. You know that the variables of the DataFrame can be accessed by the dot operator or by the bracket operator.\n",
    "my_DataFrame.duration or my_DataFrame[duration]\n",
    "One will not work well with our data, why? __REMARKABLE__"
   ]
  },
  {
   "cell_type": "markdown",
   "metadata": {},
   "source": [
    "We recommend you to calculate these values:\n",
    "\n",
    "* Null values management\n",
    "* Are the classes balanced?\n",
    "* Pearson correlations\n",
    "* Skewness\n",
    "* Histograms\n",
    "* Outliers\n",
    "\n",
    "\n"
   ]
  },
  {
   "cell_type": "markdown",
   "metadata": {},
   "source": [
    "##### Block C QUESTIONS\n",
    "\n",
    "15. What is the duration of a track in general? Check the histogram and the median of the tracks (you have calculated it)\n",
    "16. The most antique track was released in the year...\n",
    "17. The most recent track was released in the year...\n",
    "18. Looking at the median of the duration, after which year do you consider that the dataset bursts?\n",
    "19. Which market do you think that fits well with most of the Spotify tracks? __REMARKABLE__\n",
    "\n",
    "##### Block D QUESTIONS\n",
    "\n",
    "20. Are the tracks acoustic? __REMARKABLE__\n",
    "21. Beat strength is quite symmetric, what do you imply?\n",
    "22. Check speechiness and compare the histogram with its skewness __REMARKABLE__\n",
    "23. What can you say about bouncing and dancing?\n",
    "24. Instrumentalness, loudness, speechiness: how are they related?\n",
    "\n",
    "##### Block E QUESTIONS\n",
    "\n",
    "25. Which is the most common time signature?\n",
    "26. Skip 1, skip 2, skip 3, what can you see? __REMARKABLE__\n",
    "27. People do not change the context, what can you imply?\n",
    "28. Pauses before play, what can you imply? __REMARKABLE__\n",
    "29. hist_user_behaviour_and_seek_forward and hist_user_behaviour_and_seek_backward are not very useful, why?\n",
    "\n",
    "##### Block F QUESTIONS\n",
    "\n",
    "30. Do you think that the listeners know what they want to listen to? __REMARKABLE__\n",
    "31. When do people tend to listen to tracks?\n",
    "32. Why do we have more Premium users than non Premium?\n",
    "\n",
    "##### Block G QUESTIONS\n",
    "\n",
    "33. At what time do listeneres usually listen to Spotify? Do you think that knowing the country can have an impact?\n",
    "34. Check the reasons due to which a track started\n",
    "35. The most antique session\n",
    "36. The most recent session\n",
    "\n",
    "##### Block H QUESTIONS\n",
    "\n",
    "37. 3 object variables in the session dataset that we might want to be numeric\n",
    "38. Do you think that the outliers are coherent with the information analysed so far?\n",
    "39. Bounciness has no outliers, and Danceability does. What can you imply? __REMARKABLE__\n",
    "40. Regarding the tempo, say you find a track that is an outlier, is it more likely that it is very slow or very fast? __REMARKABLE__"
   ]
  },
  {
   "cell_type": "markdown",
   "metadata": {},
   "source": [
    "##### BLOCK I JOIN QUESTIONS"
   ]
  },
  {
   "cell_type": "markdown",
   "metadata": {},
   "source": [
    "\n",
    "41. Check how the same session id is related to different track_id_clean, which are the track's IDs\n",
    "42. Check that the format of the track's IDs fit to the format of the session's IDs\n",
    "43. Check whether all the tracks in the sessions appear in the track dataset\n",
    "44. __Join the 2 datasets into 1. THE MOMENT IS NOW.__\n",
    "45. Which join are yu going to use and why? __REMARKABLE__\n",
    "46. Delete outliers applying an IQR \n",
    "47. Delete the columns that are constant after removing the outliers\n",
    "48. Plot the correlation __REMARKABLE__\n",
    "\n"
   ]
  },
  {
   "cell_type": "markdown",
   "metadata": {},
   "source": [
    "## END OF BLOCK I"
   ]
  },
  {
   "cell_type": "markdown",
   "metadata": {},
   "source": [
    "Now you will present your results. After that, the teacher will show you what you could have found.\n",
    "When we are done, we will learn new things!"
   ]
  }
 ],
 "metadata": {
  "kernelspec": {
   "display_name": "Python 3",
   "language": "python",
   "name": "python3"
  },
  "language_info": {
   "codemirror_mode": {
    "name": "ipython",
    "version": 3
   },
   "file_extension": ".py",
   "mimetype": "text/x-python",
   "name": "python",
   "nbconvert_exporter": "python",
   "pygments_lexer": "ipython3",
   "version": "3.7.4"
  },
  "varInspector": {
   "cols": {
    "lenName": 16,
    "lenType": 16,
    "lenVar": 40
   },
   "kernels_config": {
    "python": {
     "delete_cmd_postfix": "",
     "delete_cmd_prefix": "del ",
     "library": "var_list.py",
     "varRefreshCmd": "print(var_dic_list())"
    },
    "r": {
     "delete_cmd_postfix": ") ",
     "delete_cmd_prefix": "rm(",
     "library": "var_list.r",
     "varRefreshCmd": "cat(var_dic_list()) "
    }
   },
   "types_to_exclude": [
    "module",
    "function",
    "builtin_function_or_method",
    "instance",
    "_Feature"
   ],
   "window_display": false
  }
 },
 "nbformat": 4,
 "nbformat_minor": 4
}

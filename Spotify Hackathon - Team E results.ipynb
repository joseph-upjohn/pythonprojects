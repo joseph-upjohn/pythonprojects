{
 "cells": [
  {
   "cell_type": "code",
   "execution_count": 3,
   "metadata": {},
   "outputs": [],
   "source": [
    "import pandas as pd\n",
    "import numpy as np\n",
    "spotify_track = pd.read_csv(\"tf_mini.csv\")\n",
    "spotify_set = pd.read_csv(\"log_mini.csv\")"
   ]
  },
  {
   "cell_type": "markdown",
   "metadata": {},
   "source": [
    "**B10 - How many track IDs do we have?"
   ]
  },
  {
   "cell_type": "code",
   "execution_count": 4,
   "metadata": {},
   "outputs": [
    {
     "name": "stdout",
     "output_type": "stream",
     "text": [
      "50704\n",
      "50704\n"
     ]
    }
   ],
   "source": [
    "print(len(spotify_track[\"track_id\"].unique()))\n",
    "print(len(spotify_track[\"track_id\"]))\n",
    "# We have 50704 tracks - all of them are unique. "
   ]
  },
  {
   "cell_type": "markdown",
   "metadata": {},
   "source": [
    "**B11 - How many session IDs do we have?"
   ]
  },
  {
   "cell_type": "code",
   "execution_count": 5,
   "metadata": {},
   "outputs": [
    {
     "name": "stdout",
     "output_type": "stream",
     "text": [
      "10000\n",
      "167880\n"
     ]
    }
   ],
   "source": [
    "print(len(spotify_set[\"session_id\"].unique()))\n",
    "print(len(spotify_set[\"session_id\"]))\n",
    "\n",
    "# We have 10000 unique sessions out of 167880 session ids."
   ]
  },
  {
   "cell_type": "markdown",
   "metadata": {},
   "source": [
    "**B12 - Which variables are 'objects'? What kind of 'real' type behind those variables do you think that is 'hidden'?"
   ]
  },
  {
   "cell_type": "code",
   "execution_count": 6,
   "metadata": {},
   "outputs": [
    {
     "data": {
      "text/plain": [
       "track_id                   object\n",
       "duration                  float64\n",
       "release_year                int64\n",
       "us_popularity_estimate    float64\n",
       "acousticness              float64\n",
       "beat_strength             float64\n",
       "bounciness                float64\n",
       "danceability              float64\n",
       "dyn_range_mean            float64\n",
       "energy                    float64\n",
       "flatness                  float64\n",
       "instrumentalness          float64\n",
       "key                         int64\n",
       "liveness                  float64\n",
       "loudness                  float64\n",
       "mechanism                 float64\n",
       "mode                       object\n",
       "organism                  float64\n",
       "speechiness               float64\n",
       "tempo                     float64\n",
       "time_signature              int64\n",
       "valence                   float64\n",
       "acoustic_vector_0         float64\n",
       "acoustic_vector_1         float64\n",
       "acoustic_vector_2         float64\n",
       "acoustic_vector_3         float64\n",
       "acoustic_vector_4         float64\n",
       "acoustic_vector_5         float64\n",
       "acoustic_vector_6         float64\n",
       "acoustic_vector_7         float64\n",
       "dtype: object"
      ]
     },
     "execution_count": 6,
     "metadata": {},
     "output_type": "execute_result"
    }
   ],
   "source": [
    "spotify_track.dtypes"
   ]
  },
  {
   "cell_type": "code",
   "execution_count": 7,
   "metadata": {},
   "outputs": [
    {
     "data": {
      "text/plain": [
       "0    t_a540e552-16d4-42f8-a185-232bd650ea7d\n",
       "1    t_67965da0-132b-4b1e-8a69-0ef99b32287c\n",
       "2    t_0614ecd3-a7d5-40a1-816e-156d5872a467\n",
       "3    t_070a63a0-744a-434e-9913-a97b02926a29\n",
       "4    t_d6990e17-9c31-4b01-8559-47d9ce476df1\n",
       "Name: track_id, dtype: object"
      ]
     },
     "execution_count": 7,
     "metadata": {},
     "output_type": "execute_result"
    }
   ],
   "source": [
    "spotify_track[\"track_id\"].head()"
   ]
  },
  {
   "cell_type": "code",
   "execution_count": 8,
   "metadata": {},
   "outputs": [
    {
     "data": {
      "text/plain": [
       "0    major\n",
       "1    major\n",
       "2    minor\n",
       "3    major\n",
       "4    major\n",
       "Name: mode, dtype: object"
      ]
     },
     "execution_count": 8,
     "metadata": {},
     "output_type": "execute_result"
    }
   ],
   "source": [
    "spotify_track[\"mode\"].head()"
   ]
  },
  {
   "cell_type": "code",
   "execution_count": 9,
   "metadata": {},
   "outputs": [
    {
     "data": {
      "text/plain": [
       "session_id                         object\n",
       "session_position                    int64\n",
       "session_length                      int64\n",
       "track_id_clean                     object\n",
       "skip_1                               bool\n",
       "skip_2                               bool\n",
       "skip_3                               bool\n",
       "not_skipped                          bool\n",
       "context_switch                      int64\n",
       "no_pause_before_play                int64\n",
       "short_pause_before_play             int64\n",
       "long_pause_before_play              int64\n",
       "hist_user_behavior_n_seekfwd        int64\n",
       "hist_user_behavior_n_seekback       int64\n",
       "hist_user_behavior_is_shuffle        bool\n",
       "hour_of_day                         int64\n",
       "date                               object\n",
       "premium                              bool\n",
       "context_type                       object\n",
       "hist_user_behavior_reason_start    object\n",
       "hist_user_behavior_reason_end      object\n",
       "dtype: object"
      ]
     },
     "execution_count": 9,
     "metadata": {},
     "output_type": "execute_result"
    }
   ],
   "source": [
    "spotify_set.dtypes"
   ]
  },
  {
   "cell_type": "code",
   "execution_count": 10,
   "metadata": {},
   "outputs": [
    {
     "data": {
      "text/plain": [
       "0    0_00006f66-33e5-4de7-a324-2d18e439fc1e\n",
       "1    0_00006f66-33e5-4de7-a324-2d18e439fc1e\n",
       "2    0_00006f66-33e5-4de7-a324-2d18e439fc1e\n",
       "3    0_00006f66-33e5-4de7-a324-2d18e439fc1e\n",
       "4    0_00006f66-33e5-4de7-a324-2d18e439fc1e\n",
       "Name: session_id, dtype: object"
      ]
     },
     "execution_count": 10,
     "metadata": {},
     "output_type": "execute_result"
    }
   ],
   "source": [
    "spotify_set[\"session_id\"].head()"
   ]
  },
  {
   "cell_type": "code",
   "execution_count": 11,
   "metadata": {},
   "outputs": [
    {
     "data": {
      "text/plain": [
       "0         t_0479f24c-27d2-46d6-a00c-7ec928f2b539\n",
       "1         t_9099cd7b-c238-47b7-9381-f23f2c1d1043\n",
       "2         t_fc5df5ba-5396-49a7-8b29-35d0d28249e0\n",
       "3         t_23cff8d6-d874-4b20-83dc-94e450e8aa20\n",
       "4         t_64f3743c-f624-46bb-a579-0f3f9a07a123\n",
       "                           ...                  \n",
       "167875    t_360910e8-2a84-42b0-baf1-59abcf96a1f2\n",
       "167876    t_aa2fff77-9b0a-4fa3-a685-ecef50310e8a\n",
       "167877    t_f673e1b7-4ebe-4fc1-ac24-a9f25de70381\n",
       "167878    t_e172e8e7-7161-42a9-acb0-d606346c8f87\n",
       "167879    t_77977dd6-597e-4425-8f8f-4efb32ecfba6\n",
       "Name: track_id_clean, Length: 167880, dtype: object"
      ]
     },
     "execution_count": 11,
     "metadata": {},
     "output_type": "execute_result"
    }
   ],
   "source": [
    "spotify_set[\"track_id_clean\"]"
   ]
  },
  {
   "cell_type": "code",
   "execution_count": 12,
   "metadata": {},
   "outputs": [
    {
     "data": {
      "text/plain": [
       "0         2018-07-15\n",
       "1         2018-07-15\n",
       "2         2018-07-15\n",
       "3         2018-07-15\n",
       "4         2018-07-15\n",
       "             ...    \n",
       "167875    2018-07-15\n",
       "167876    2018-07-15\n",
       "167877    2018-07-15\n",
       "167878    2018-07-15\n",
       "167879    2018-07-15\n",
       "Name: date, Length: 167880, dtype: object"
      ]
     },
     "execution_count": 12,
     "metadata": {},
     "output_type": "execute_result"
    }
   ],
   "source": [
    "spotify_set[\"date\"]"
   ]
  },
  {
   "cell_type": "code",
   "execution_count": 13,
   "metadata": {},
   "outputs": [
    {
     "data": {
      "text/plain": [
       "0         editorial_playlist\n",
       "1         editorial_playlist\n",
       "2         editorial_playlist\n",
       "3         editorial_playlist\n",
       "4         editorial_playlist\n",
       "                 ...        \n",
       "167875       user_collection\n",
       "167876       user_collection\n",
       "167877       user_collection\n",
       "167878       user_collection\n",
       "167879       user_collection\n",
       "Name: context_type, Length: 167880, dtype: object"
      ]
     },
     "execution_count": 13,
     "metadata": {},
     "output_type": "execute_result"
    }
   ],
   "source": [
    "spotify_set[\"context_type\"]"
   ]
  },
  {
   "cell_type": "code",
   "execution_count": 14,
   "metadata": {},
   "outputs": [
    {
     "data": {
      "text/plain": [
       "0         trackdone\n",
       "1         trackdone\n",
       "2         trackdone\n",
       "3         trackdone\n",
       "4         trackdone\n",
       "            ...    \n",
       "167875    trackdone\n",
       "167876    trackdone\n",
       "167877    trackdone\n",
       "167878    trackdone\n",
       "167879    trackdone\n",
       "Name: hist_user_behavior_reason_start, Length: 167880, dtype: object"
      ]
     },
     "execution_count": 14,
     "metadata": {},
     "output_type": "execute_result"
    }
   ],
   "source": [
    "spotify_set[\"hist_user_behavior_reason_start\"]"
   ]
  },
  {
   "cell_type": "code",
   "execution_count": 15,
   "metadata": {},
   "outputs": [
    {
     "data": {
      "text/plain": [
       "0         trackdone\n",
       "1         trackdone\n",
       "2         trackdone\n",
       "3         trackdone\n",
       "4         trackdone\n",
       "            ...    \n",
       "167875    trackdone\n",
       "167876    trackdone\n",
       "167877    trackdone\n",
       "167878    trackdone\n",
       "167879    trackdone\n",
       "Name: hist_user_behavior_reason_end, Length: 167880, dtype: object"
      ]
     },
     "execution_count": 15,
     "metadata": {},
     "output_type": "execute_result"
    }
   ],
   "source": [
    "spotify_set[\"hist_user_behavior_reason_end\"]"
   ]
  },
  {
   "cell_type": "markdown",
   "metadata": {},
   "source": [
    "** B13 - Release_year is an int, what other type of data casting could we apply?"
   ]
  },
  {
   "cell_type": "markdown",
   "metadata": {},
   "source": [
    "Release_year could be casted as a date or in int16 and int 32.  Given the data only has 4 integers and doesn't go over the limits imposed by these casts, doing so would save some memory."
   ]
  },
  {
   "cell_type": "markdown",
   "metadata": {},
   "source": [
    "**B14 - You know that the variables of the DataFrame can be accessed by the dot operator or by the bracket operator. my_DataFrame.duration or my_DataFrame[duration] One will not work well, why?"
   ]
  },
  {
   "cell_type": "code",
   "execution_count": 16,
   "metadata": {},
   "outputs": [
    {
     "data": {
      "text/plain": [
       "0        109.706673\n",
       "1        187.693329\n",
       "2        160.839996\n",
       "3        175.399994\n",
       "4        369.600006\n",
       "            ...    \n",
       "50699    184.686798\n",
       "50700    251.813324\n",
       "50701    157.520004\n",
       "50702    129.105392\n",
       "50703    213.689392\n",
       "Name: duration, Length: 50704, dtype: float64"
      ]
     },
     "execution_count": 16,
     "metadata": {},
     "output_type": "execute_result"
    }
   ],
   "source": [
    "spotify_track.duration"
   ]
  },
  {
   "cell_type": "code",
   "execution_count": 17,
   "metadata": {},
   "outputs": [
    {
     "data": {
      "text/plain": [
       "0        109.706673\n",
       "1        187.693329\n",
       "2        160.839996\n",
       "3        175.399994\n",
       "4        369.600006\n",
       "            ...    \n",
       "50699    184.686798\n",
       "50700    251.813324\n",
       "50701    157.520004\n",
       "50702    129.105392\n",
       "50703    213.689392\n",
       "Name: duration, Length: 50704, dtype: float64"
      ]
     },
     "execution_count": 17,
     "metadata": {},
     "output_type": "execute_result"
    }
   ],
   "source": [
    "spotify_track[\"duration\"]"
   ]
  },
  {
   "cell_type": "code",
   "execution_count": null,
   "metadata": {},
   "outputs": [],
   "source": []
  },
  {
   "cell_type": "markdown",
   "metadata": {},
   "source": [
    "** C15 - What is the duration of a track in general? Check the histogram and the median of the tracks (you have calculated it)"
   ]
  },
  {
   "cell_type": "code",
   "execution_count": 31,
   "metadata": {},
   "outputs": [
    {
     "data": {
      "text/plain": [
       "222.267980437205"
      ]
     },
     "execution_count": 31,
     "metadata": {},
     "output_type": "execute_result"
    }
   ],
   "source": [
    "\n",
    "\n",
    "mean = spotify_track[\"duration\"].mean()\n",
    "mean"
   ]
  },
  {
   "cell_type": "code",
   "execution_count": 15,
   "metadata": {},
   "outputs": [
    {
     "data": {
      "text/plain": [
       "214.86666870117188"
      ]
     },
     "execution_count": 15,
     "metadata": {},
     "output_type": "execute_result"
    }
   ],
   "source": [
    "median = spotify_track[\"duration\"].median()\n",
    "median"
   ]
  },
  {
   "cell_type": "code",
   "execution_count": 16,
   "metadata": {},
   "outputs": [],
   "source": [
    "import seaborn as sns"
   ]
  },
  {
   "cell_type": "code",
   "execution_count": 17,
   "metadata": {},
   "outputs": [],
   "source": [
    "import matplotlib.pyplot as plt"
   ]
  },
  {
   "cell_type": "code",
   "execution_count": 18,
   "metadata": {
    "scrolled": true
   },
   "outputs": [
    {
     "name": "stderr",
     "output_type": "stream",
     "text": [
      "C:\\Users\\josep\\anaconda3\\lib\\site-packages\\seaborn\\distributions.py:2551: FutureWarning: `distplot` is a deprecated function and will be removed in a future version. Please adapt your code to use either `displot` (a figure-level function with similar flexibility) or `histplot` (an axes-level function for histograms).\n",
      "  warnings.warn(msg, FutureWarning)\n"
     ]
    },
    {
     "data": {
      "image/png": "[encoded data removed]",
      "text/plain": [
       "<Figure size 720x360 with 1 Axes>"
      ]
     },
     "metadata": {
      "needs_background": "light"
     },
     "output_type": "display_data"
    }
   ],
   "source": [
    "plt.figure(figsize=(10,5))\n",
    "sns.distplot(spotify_track[\"duration\"],\n",
    "             kde=False,  #kernel density estimation\n",
    "             color='g');\n",
    "\n"
   ]
  },
  {
   "cell_type": "markdown",
   "metadata": {},
   "source": [
    "** C16 & C17 - The most antique track was released in the year / The most recent track was released in the year"
   ]
  },
  {
   "cell_type": "code",
   "execution_count": 19,
   "metadata": {},
   "outputs": [
    {
     "data": {
      "text/plain": [
       "1950"
      ]
     },
     "execution_count": 19,
     "metadata": {},
     "output_type": "execute_result"
    }
   ],
   "source": [
    "\n",
    "\n",
    "spotify_track.release_year.min()"
   ]
  },
  {
   "cell_type": "code",
   "execution_count": 20,
   "metadata": {},
   "outputs": [
    {
     "data": {
      "text/plain": [
       "2018"
      ]
     },
     "execution_count": 20,
     "metadata": {},
     "output_type": "execute_result"
    }
   ],
   "source": [
    "#17\n",
    "#most recent track year\n",
    "\n",
    "spotify_track.release_year.max()"
   ]
  },
  {
   "cell_type": "markdown",
   "metadata": {},
   "source": [
    "** C18 & C19 - Looking at the median of the duration, after which year do you consider that the dataset bursts? \n",
    "(after what year, does the number of songs explode?) / Which market do you think that fits well with most of the Spotify tracks?"
   ]
  },
  {
   "cell_type": "code",
   "execution_count": 32,
   "metadata": {},
   "outputs": [
    {
     "name": "stderr",
     "output_type": "stream",
     "text": [
      "C:\\Users\\josep\\anaconda3\\lib\\site-packages\\seaborn\\distributions.py:2551: FutureWarning: `distplot` is a deprecated function and will be removed in a future version. Please adapt your code to use either `displot` (a figure-level function with similar flexibility) or `histplot` (an axes-level function for histograms).\n",
      "  warnings.warn(msg, FutureWarning)\n"
     ]
    },
    {
     "name": "stdout",
     "output_type": "stream",
     "text": [
      "median release year: 2015.0\n"
     ]
    },
    {
     "data": {
      "image/png": "[encoded data removed]",
      "text/plain": [
       "<Figure size 1080x360 with 1 Axes>"
      ]
     },
     "metadata": {
      "needs_background": "light"
     },
     "output_type": "display_data"
    }
   ],
   "source": [
    "#18\n",
    "#which year does the dataset burst (explode)?\n",
    "\n",
    "plt.figure(figsize=(15,5))\n",
    "sns.distplot(spotify_track[\"release_year\"],\n",
    "             kde=False,  #kernel density estimation\n",
    "             color='g');\n",
    "plt.xticks([1950, 2000, 2005, 2010, 2015, 2017, 2020])\n",
    "\n",
    "\n",
    "mymedian = spotify_track[\"release_year\"].median()\n",
    "plt.vlines(mymedian, ymin = 0, ymax = 20000, \n",
    "           color=\"red\")\n",
    "\n",
    "#(\"median\", xy =(200, 200), color = \"red\")\n",
    "\n",
    "print(\"median release year:\", spotify_track[\"release_year\"].median())"
   ]
  },
  {
   "cell_type": "markdown",
   "metadata": {},
   "source": [
    "#  Part D\n",
    "# #20 and 23"
   ]
  },
  {
   "cell_type": "code",
   "execution_count": 14,
   "metadata": {},
   "outputs": [],
   "source": [
    "from sklearn.datasets import load_iris, load_boston\n",
    "import seaborn as sns\n",
    "import pandas as pd\n",
    "import numpy as np\n",
    "import matplotlib.pyplot as plt\n",
    "import warnings\n",
    "warnings.filterwarnings(\"ignore\")"
   ]
  },
  {
   "cell_type": "code",
   "execution_count": 15,
   "metadata": {
    "scrolled": true
   },
   "outputs": [
    {
     "name": "stdout",
     "output_type": "stream",
     "text": [
      "acousticness mean: 0.2503359701668723\n",
      "bounciness mean 0.5145259658418024\n"
     ]
    }
   ],
   "source": [
    "#question 20 (part D)\n",
    "print(\"acousticness mean:\", spotify_track[\"acousticness\"].mean())\n",
    "\n",
    "\n",
    "\n",
    "\n",
    "\n"
   ]
  },
  {
   "cell_type": "markdown",
   "metadata": {},
   "source": [
    "# #21"
   ]
  },
  {
   "cell_type": "code",
   "execution_count": 17,
   "metadata": {},
   "outputs": [
    {
     "data": {
      "image/png": "[encoded data removed]",
      "text/plain": [
       "<Figure size 720x360 with 1 Axes>"
      ]
     },
     "metadata": {
      "needs_background": "light"
     },
     "output_type": "display_data"
    }
   ],
   "source": [
    "plt.figure(figsize=(10,5))\n",
    "sns.distplot(spotify_track[\"beat_strength\"],\n",
    "             color='g');"
   ]
  },
  {
   "cell_type": "markdown",
   "metadata": {},
   "source": [
    "# #22"
   ]
  },
  {
   "cell_type": "code",
   "execution_count": 20,
   "metadata": {},
   "outputs": [
    {
     "name": "stdout",
     "output_type": "stream",
     "text": [
      "speechiness mean: 0.12299781460360541\n"
     ]
    },
    {
     "data": {
      "image/png": "[encoded data removed]",
      "text/plain": [
       "<Figure size 1080x360 with 1 Axes>"
      ]
     },
     "metadata": {
      "needs_background": "light"
     },
     "output_type": "display_data"
    }
   ],
   "source": [
    "#22\n",
    "#speechiness skew on histogram\n",
    "\n",
    "plt.figure(figsize=(15,5))\n",
    "sns.distplot(spotify_track[\"speechiness\"],\n",
    "             kde=False,  #kernel density estimation\n",
    "             color='g');\n",
    "\n",
    "\n",
    "mymedian = spotify_track[\"speechiness\"].median()\n",
    "plt.vlines(mymedian, ymin = 0, ymax = 20000, \n",
    "           color=\"red\")\n",
    "\n",
    "mymean = spotify_track[\"speechiness\"].mean()\n",
    "plt.vlines(mymedian, ymin = 0, ymax = 20000, \n",
    "           color=\"blue\")\n",
    "\n",
    "print(\"speechiness mean:\", mymean)"
   ]
  },
  {
   "cell_type": "markdown",
   "metadata": {},
   "source": [
    "# #23"
   ]
  },
  {
   "cell_type": "code",
   "execution_count": 18,
   "metadata": {},
   "outputs": [
    {
     "name": "stdout",
     "output_type": "stream",
     "text": [
      "bounciness mean 0.5145259658418024\n"
     ]
    }
   ],
   "source": [
    "#questions 23 \n",
    "print(\"bounciness mean\", spotify_track[\"bounciness\"].mean())"
   ]
  },
  {
   "cell_type": "code",
   "execution_count": 20,
   "metadata": {},
   "outputs": [
    {
     "data": {
      "text/plain": [
       "0.5222655236721039"
      ]
     },
     "execution_count": 20,
     "metadata": {},
     "output_type": "execute_result"
    }
   ],
   "source": [
    "spotify[\"bounciness\"].median()"
   ]
  },
  {
   "cell_type": "code",
   "execution_count": 22,
   "metadata": {},
   "outputs": [
    {
     "data": {
      "text/plain": [
       "0.6117423804904901"
      ]
     },
     "execution_count": 22,
     "metadata": {},
     "output_type": "execute_result"
    }
   ],
   "source": [
    "spotify[\"danceability\"].mean()\n"
   ]
  },
  {
   "cell_type": "code",
   "execution_count": 23,
   "metadata": {},
   "outputs": [
    {
     "data": {
      "text/plain": [
       "0.6251445114612579"
      ]
     },
     "execution_count": 23,
     "metadata": {},
     "output_type": "execute_result"
    }
   ],
   "source": [
    "spotify[\"danceability\"].median()"
   ]
  },
  {
   "cell_type": "markdown",
   "metadata": {},
   "source": [
    "# D24 - Instrumentalness, loudness, speechiness: how are they related?"
   ]
  },
  {
   "cell_type": "code",
   "execution_count": null,
   "metadata": {},
   "outputs": [],
   "source": [
    "relations = spotify_track[['release_year', 'loudness', 'speechiness', 'instrumentalness']]\n",
    "relations2 = relations.groupby('release_year').mean()\n",
    "relations2"
   ]
  },
  {
   "cell_type": "code",
   "execution_count": null,
   "metadata": {},
   "outputs": [],
   "source": [
    "plt.figure(figsize=(13,5))\n",
    "sns.lineplot(data = relations2,\n",
    "             x = relations2.index,\n",
    "            y=relations2['loudness']\n",
    "            );"
   ]
  },
  {
   "cell_type": "code",
   "execution_count": null,
   "metadata": {},
   "outputs": [],
   "source": [
    "plt.figure(figsize=(13,10))\n",
    "sns.lineplot(data = spotify_track,\n",
    "             x = spotify_track['release_year'],\n",
    "            y=spotify_track['acousticness']\n",
    "            );"
   ]
  },
  {
   "cell_type": "code",
   "execution_count": null,
   "metadata": {},
   "outputs": [],
   "source": [
    "plt.figure(figsize=(13,10))\n",
    "sns.lineplot(data = relations2,\n",
    "             x = relations2.index,\n",
    "            y=relations2['speechiness']\n",
    "            );"
   ]
  },
  {
   "cell_type": "code",
   "execution_count": null,
   "metadata": {},
   "outputs": [],
   "source": [
    "plt.figure(figsize=(13,5))\n",
    "sns.lineplot(data = relations2,\n",
    "             x = relations2.index,\n",
    "            y=relations2['instrumentalness']\n",
    "            );"
   ]
  },
  {
   "cell_type": "code",
   "execution_count": null,
   "metadata": {},
   "outputs": [],
   "source": [
    "from sklearn.linear_model import LinearRegression"
   ]
  },
  {
   "cell_type": "code",
   "execution_count": null,
   "metadata": {},
   "outputs": [],
   "source": [
    "sp_tr_corr = spotify_track[['speechiness', 'instrumentalness', 'loudness']]"
   ]
  },
  {
   "cell_type": "code",
   "execution_count": null,
   "metadata": {},
   "outputs": [],
   "source": [
    "sp_tr_corr.corr()"
   ]
  },
  {
   "cell_type": "code",
   "execution_count": null,
   "metadata": {},
   "outputs": [],
   "source": [
    "spotify_track.duration"
   ]
  },
  {
   "cell_type": "code",
   "execution_count": null,
   "metadata": {},
   "outputs": [],
   "source": [
    "spotify_track['duration']"
   ]
  },
  {
   "cell_type": "code",
   "execution_count": null,
   "metadata": {},
   "outputs": [],
   "source": [
    "plt.figure(figsize=(13,5))\n",
    "sns.scatterplot(data=spotify_track, x=\"release_year\", y=\"us_popularity_estimate\")"
   ]
  },
  {
   "cell_type": "markdown",
   "metadata": {},
   "source": [
    "# E25 - Which is the most common time signature?"
   ]
  },
  {
   "cell_type": "code",
   "execution_count": 271,
   "metadata": {},
   "outputs": [
    {
     "data": {
      "text/plain": [
       "89.77792679078573"
      ]
     },
     "execution_count": 271,
     "metadata": {},
     "output_type": "execute_result"
    }
   ],
   "source": [
    "common_signature = spotify_track.groupby('time_signature').count()[['track_id']].max()[0]\n",
    "\n",
    "total_signature = spotify_track.groupby('time_signature').count()[['track_id']].sum()[0]\n",
    "\n",
    "common_signature/total_signature*100"
   ]
  },
  {
   "cell_type": "markdown",
   "metadata": {},
   "source": [
    "# E26 - Skip 1, skip 2, skip 3, what can you see?"
   ]
  },
  {
   "cell_type": "code",
   "execution_count": 272,
   "metadata": {},
   "outputs": [],
   "source": [
    "total_count = spotify_set.describe().iloc[0][0]"
   ]
  },
  {
   "cell_type": "code",
   "execution_count": 273,
   "metadata": {},
   "outputs": [
    {
     "data": {
      "text/plain": [
       "57.849654515129856"
      ]
     },
     "execution_count": 273,
     "metadata": {},
     "output_type": "execute_result"
    }
   ],
   "source": [
    "skip_1_true = spotify_set[(spotify_set['skip_1'] == False)].count()[0]\n",
    "skip_1_true / total_count * 100"
   ]
  },
  {
   "cell_type": "code",
   "execution_count": 274,
   "metadata": {},
   "outputs": [
    {
     "data": {
      "text/plain": [
       "48.28210626638075"
      ]
     },
     "execution_count": 274,
     "metadata": {},
     "output_type": "execute_result"
    }
   ],
   "source": [
    "skip_2_true = spotify_set[(spotify_set['skip_2'] == False)].count()[0]\n",
    "skip_2_true / total_count * 100"
   ]
  },
  {
   "cell_type": "code",
   "execution_count": 275,
   "metadata": {},
   "outputs": [
    {
     "data": {
      "text/plain": [
       "35.16202049082678"
      ]
     },
     "execution_count": 275,
     "metadata": {},
     "output_type": "execute_result"
    }
   ],
   "source": [
    "skip_3_true = spotify_set[(spotify_set['skip_3'] == False)].count()[0]\n",
    "skip_3_true / total_count * 100"
   ]
  },
  {
   "cell_type": "code",
   "execution_count": 276,
   "metadata": {},
   "outputs": [
    {
     "data": {
      "text/plain": [
       "33.28806290207291"
      ]
     },
     "execution_count": 276,
     "metadata": {},
     "output_type": "execute_result"
    }
   ],
   "source": [
    "no_skip_true = spotify_set[(spotify_set['not_skipped'] == True)].count()[0]\n",
    "no_skip_true / total_count * 100"
   ]
  },
  {
   "cell_type": "markdown",
   "metadata": {},
   "source": [
    "# E27 - People do not change the context, what can you imply?"
   ]
  },
  {
   "cell_type": "code",
   "execution_count": 277,
   "metadata": {},
   "outputs": [
    {
     "data": {
      "text/plain": [
       "4.090421729807005"
      ]
     },
     "execution_count": 277,
     "metadata": {},
     "output_type": "execute_result"
    }
   ],
   "source": [
    "context_switch_count = spotify_set[(spotify_set['context_switch'] == 1)].count()[0]\n",
    "context_switch_count\n",
    "\n",
    "context_switch_total = spotify_set['context_switch'].count()\n",
    "context_switch_total\n",
    "\n",
    "context_switch_count / context_switch_total * 100"
   ]
  },
  {
   "cell_type": "code",
   "execution_count": 278,
   "metadata": {},
   "outputs": [
    {
     "data": {
      "text/html": [
       "<div>\n",
       "<style scoped>\n",
       "    .dataframe tbody tr th:only-of-type {\n",
       "        vertical-align: middle;\n",
       "    }\n",
       "\n",
       "    .dataframe tbody tr th {\n",
       "        vertical-align: top;\n",
       "    }\n",
       "\n",
       "    .dataframe thead th {\n",
       "        text-align: right;\n",
       "    }\n",
       "</style>\n",
       "<table border=\"1\" class=\"dataframe\">\n",
       "  <thead>\n",
       "    <tr style=\"text-align: right;\">\n",
       "      <th></th>\n",
       "      <th>session_position</th>\n",
       "    </tr>\n",
       "    <tr>\n",
       "      <th>session_id</th>\n",
       "      <th></th>\n",
       "    </tr>\n",
       "  </thead>\n",
       "  <tbody>\n",
       "    <tr>\n",
       "      <th>0_0002fbb5-29c2-4d54-9636-e6d15e77b58c</th>\n",
       "      <td>3</td>\n",
       "    </tr>\n",
       "    <tr>\n",
       "      <th>0_0003e8a0-ea43-47fe-ac5a-8b502f4d38ef</th>\n",
       "      <td>2</td>\n",
       "    </tr>\n",
       "    <tr>\n",
       "      <th>0_00070b9a-c9da-404f-81d0-c22f4f79b933</th>\n",
       "      <td>2</td>\n",
       "    </tr>\n",
       "    <tr>\n",
       "      <th>0_00074d75-33c6-40b3-99e1-a88e9d015e42</th>\n",
       "      <td>2</td>\n",
       "    </tr>\n",
       "    <tr>\n",
       "      <th>0_00076eea-e6d9-4a1a-ad1a-dd083fd05a96</th>\n",
       "      <td>4</td>\n",
       "    </tr>\n",
       "    <tr>\n",
       "      <th>...</th>\n",
       "      <td>...</td>\n",
       "    </tr>\n",
       "    <tr>\n",
       "      <th>0_0e9c9956-319e-4ec4-98af-fc0aee495174</th>\n",
       "      <td>2</td>\n",
       "    </tr>\n",
       "    <tr>\n",
       "      <th>0_0e9e752f-99fc-45f0-935c-efeb7563bf9c</th>\n",
       "      <td>2</td>\n",
       "    </tr>\n",
       "    <tr>\n",
       "      <th>0_0e9ec47b-a987-405b-82d9-1f5dfc64a760</th>\n",
       "      <td>2</td>\n",
       "    </tr>\n",
       "    <tr>\n",
       "      <th>0_0ea2f112-878a-4be1-80c4-ad54e1404597</th>\n",
       "      <td>6</td>\n",
       "    </tr>\n",
       "    <tr>\n",
       "      <th>0_0ea62357-c83f-4f9f-8a49-c0d701c19141</th>\n",
       "      <td>2</td>\n",
       "    </tr>\n",
       "  </tbody>\n",
       "</table>\n",
       "<p>1707 rows × 1 columns</p>\n",
       "</div>"
      ],
      "text/plain": [
       "                                        session_position\n",
       "session_id                                              \n",
       "0_0002fbb5-29c2-4d54-9636-e6d15e77b58c                 3\n",
       "0_0003e8a0-ea43-47fe-ac5a-8b502f4d38ef                 2\n",
       "0_00070b9a-c9da-404f-81d0-c22f4f79b933                 2\n",
       "0_00074d75-33c6-40b3-99e1-a88e9d015e42                 2\n",
       "0_00076eea-e6d9-4a1a-ad1a-dd083fd05a96                 4\n",
       "...                                                  ...\n",
       "0_0e9c9956-319e-4ec4-98af-fc0aee495174                 2\n",
       "0_0e9e752f-99fc-45f0-935c-efeb7563bf9c                 2\n",
       "0_0e9ec47b-a987-405b-82d9-1f5dfc64a760                 2\n",
       "0_0ea2f112-878a-4be1-80c4-ad54e1404597                 6\n",
       "0_0ea62357-c83f-4f9f-8a49-c0d701c19141                 2\n",
       "\n",
       "[1707 rows x 1 columns]"
      ]
     },
     "execution_count": 278,
     "metadata": {},
     "output_type": "execute_result"
    }
   ],
   "source": [
    "switchers = spotify_set.loc[(spotify_set['context_switch'] == 1)]\n",
    "switchers_group = switchers.groupby('session_id')[['session_position']].count()\n",
    "switchers_group.loc[switchers_group['session_position'] > 1]"
   ]
  },
  {
   "cell_type": "code",
   "execution_count": 279,
   "metadata": {},
   "outputs": [
    {
     "data": {
      "text/html": [
       "<div>\n",
       "<style scoped>\n",
       "    .dataframe tbody tr th:only-of-type {\n",
       "        vertical-align: middle;\n",
       "    }\n",
       "\n",
       "    .dataframe tbody tr th {\n",
       "        vertical-align: top;\n",
       "    }\n",
       "\n",
       "    .dataframe thead th {\n",
       "        text-align: right;\n",
       "    }\n",
       "</style>\n",
       "<table border=\"1\" class=\"dataframe\">\n",
       "  <thead>\n",
       "    <tr style=\"text-align: right;\">\n",
       "      <th></th>\n",
       "      <th>session_id</th>\n",
       "    </tr>\n",
       "    <tr>\n",
       "      <th>context_switch</th>\n",
       "      <th></th>\n",
       "    </tr>\n",
       "  </thead>\n",
       "  <tbody>\n",
       "    <tr>\n",
       "      <th>0</th>\n",
       "      <td>161013</td>\n",
       "    </tr>\n",
       "    <tr>\n",
       "      <th>1</th>\n",
       "      <td>6867</td>\n",
       "    </tr>\n",
       "  </tbody>\n",
       "</table>\n",
       "</div>"
      ],
      "text/plain": [
       "                session_id\n",
       "context_switch            \n",
       "0                   161013\n",
       "1                     6867"
      ]
     },
     "execution_count": 279,
     "metadata": {},
     "output_type": "execute_result"
    }
   ],
   "source": [
    "switch_graph = spotify_set.groupby('context_switch')[['session_id']].count()\n",
    "switch_graph"
   ]
  },
  {
   "cell_type": "code",
   "execution_count": 280,
   "metadata": {},
   "outputs": [
    {
     "data": {
      "image/png": "[encoded data removed]",
      "text/plain": [
       "<Figure size 936x360 with 1 Axes>"
      ]
     },
     "metadata": {
      "needs_background": "light"
     },
     "output_type": "display_data"
    }
   ],
   "source": [
    "plt.figure(figsize=(13,5))\n",
    "sns.distplot(switchers_group[\"session_position\"],\n",
    "             kde=False,\n",
    "             color='g');"
   ]
  },
  {
   "cell_type": "code",
   "execution_count": 281,
   "metadata": {},
   "outputs": [
    {
     "data": {
      "image/png": "[encoded data removed]",
      "text/plain": [
       "<Figure size 936x360 with 1 Axes>"
      ]
     },
     "metadata": {
      "needs_background": "light"
     },
     "output_type": "display_data"
    }
   ],
   "source": [
    "plt.figure(figsize=(13,5))\n",
    "sns.barplot(x=switch_graph.index,\n",
    "            y='session_id',\n",
    "            data=switch_graph);"
   ]
  },
  {
   "cell_type": "markdown",
   "metadata": {},
   "source": [
    "# E28 - Pauses before play, what can you imply?"
   ]
  },
  {
   "cell_type": "code",
   "execution_count": 284,
   "metadata": {},
   "outputs": [
    {
     "data": {
      "text/plain": [
       "0         0_00006f66-33e5-4de7-a324-2d18e439fc1e\n",
       "1         0_00006f66-33e5-4de7-a324-2d18e439fc1e\n",
       "2         0_00006f66-33e5-4de7-a324-2d18e439fc1e\n",
       "3         0_00006f66-33e5-4de7-a324-2d18e439fc1e\n",
       "4         0_00006f66-33e5-4de7-a324-2d18e439fc1e\n",
       "                           ...                  \n",
       "167875    0_0eaeef5d-25e9-4429-bd55-af15d3604c9f\n",
       "167876    0_0eaeef5d-25e9-4429-bd55-af15d3604c9f\n",
       "167877    0_0eaeef5d-25e9-4429-bd55-af15d3604c9f\n",
       "167878    0_0eaeef5d-25e9-4429-bd55-af15d3604c9f\n",
       "167879    0_0eaeef5d-25e9-4429-bd55-af15d3604c9f\n",
       "Name: session_id, Length: 167880, dtype: object"
      ]
     },
     "execution_count": 284,
     "metadata": {},
     "output_type": "execute_result"
    }
   ],
   "source": [
    "spotify_set['session_id']"
   ]
  },
  {
   "cell_type": "code",
   "execution_count": null,
   "metadata": {},
   "outputs": [],
   "source": [
    "no_pause_false = spotify_set[(spotify_set['no_pause_before_play'] == False)].count()[0]\n",
    "no_pause_false / total_count * 100"
   ]
  },
  {
   "cell_type": "code",
   "execution_count": null,
   "metadata": {},
   "outputs": [],
   "source": [
    "no_pause_true = spotify_set[(spotify_set['no_pause_before_play'] == True)].count()[0]\n",
    "no_pause_true / total_count * 100"
   ]
  },
  {
   "cell_type": "code",
   "execution_count": null,
   "metadata": {},
   "outputs": [],
   "source": [
    "short_pause_true = spotify_set[(spotify_set['short_pause_before_play'] == True)].count()[0]\n",
    "short_pause_true / total_count * 100"
   ]
  },
  {
   "cell_type": "code",
   "execution_count": null,
   "metadata": {},
   "outputs": [],
   "source": [
    "long_pause_true = spotify_set[(spotify_set['long_pause_before_play'] == True)].count()[0]\n",
    "long_pause_true / total_count * 100"
   ]
  },
  {
   "cell_type": "code",
   "execution_count": null,
   "metadata": {},
   "outputs": [],
   "source": [
    "plt.figure(figsize=(13,5))\n",
    "sns.barplot(x='no_pause_before_play',\n",
    "            hue=''\n",
    "            data=spotify_set);"
   ]
  },
  {
   "cell_type": "code",
   "execution_count": null,
   "metadata": {},
   "outputs": [],
   "source": [
    "short_pause_before_play_chart = spotify_set.groupby('hour_of_day')['short_pause_before_play'].describe()\n",
    "short_pause_before_play_chart"
   ]
  },
  {
   "cell_type": "code",
   "execution_count": null,
   "metadata": {},
   "outputs": [],
   "source": [
    "from sklearn.datasets import load_iris, load_boston\n",
    "import seaborn as sns\n",
    "import pandas as pd\n",
    "import numpy as np\n",
    "import matplotlib.pyplot as plt\n",
    "import warnings\n",
    "warnings.filterwarnings(\"ignore\")"
   ]
  },
  {
   "cell_type": "code",
   "execution_count": null,
   "metadata": {},
   "outputs": [],
   "source": [
    "plt.figure(figsize=(13,5))\n",
    "sns.lineplot(data = short_pause_before_play_chart,\n",
    "             x = 'hour_of_day',\n",
    "             y = 'count')"
   ]
  },
  {
   "cell_type": "markdown",
   "metadata": {},
   "source": [
    "# E29 - hist_user_behaviour_and_seek_forward and hist_user_behaviour_and_seek_backward are not very useful, why?"
   ]
  },
  {
   "cell_type": "code",
   "execution_count": null,
   "metadata": {},
   "outputs": [],
   "source": [
    "sp_ss.groupby('hist_user_behavior_n_seekback')['hist_user_behavior_n_seekback'].describe()"
   ]
  },
  {
   "cell_type": "code",
   "execution_count": null,
   "metadata": {},
   "outputs": [],
   "source": [
    "spotify_set.groupby('hist_user_behavior_n_seekfwd')['hist_user_behavior_n_seekfwd'].describe()"
   ]
  },
  {
   "cell_type": "markdown",
   "metadata": {},
   "source": [
    "** F30 - Do you think that the listeners know what they want to listen to?"
   ]
  },
  {
   "cell_type": "markdown",
   "metadata": {},
   "source": [
    "Answered using outputs of E26 and E27"
   ]
  },
  {
   "cell_type": "markdown",
   "metadata": {},
   "source": [
    "** F31 - When do people tend to listen to tracks?"
   ]
  },
  {
   "cell_type": "code",
   "execution_count": 19,
   "metadata": {},
   "outputs": [
    {
     "data": {
      "text/plain": [
       "hour_of_day\n",
       "0      5694\n",
       "1      4127\n",
       "2      2964\n",
       "3      2284\n",
       "4      1563\n",
       "5      1303\n",
       "6      1733\n",
       "7      2366\n",
       "8      3397\n",
       "9      5555\n",
       "10     7483\n",
       "11     8320\n",
       "12     9696\n",
       "13    10687\n",
       "14    11590\n",
       "15    11443\n",
       "16    11636\n",
       "17    10897\n",
       "18    10319\n",
       "19     9487\n",
       "20     9366\n",
       "21     9918\n",
       "22     8822\n",
       "23     7230\n",
       "Name: session_id, dtype: int64"
      ]
     },
     "execution_count": 19,
     "metadata": {},
     "output_type": "execute_result"
    }
   ],
   "source": [
    "hours=spotify_set[[\"hour_of_day\"]]\n",
    "hour_dist=spotify_set.groupby(\"hour_of_day\")[\"session_id\"].count()\n",
    "hour_dist"
   ]
  },
  {
   "cell_type": "code",
   "execution_count": 45,
   "metadata": {},
   "outputs": [],
   "source": [
    "from sklearn.datasets import load_iris, load_boston\n",
    "import seaborn as sns\n",
    "import pandas as pd\n",
    "import numpy as np\n",
    "import matplotlib.pyplot as plt\n",
    "import warnings\n",
    "warnings.filterwarnings(\"ignore\")"
   ]
  },
  {
   "cell_type": "code",
   "execution_count": 111,
   "metadata": {},
   "outputs": [
    {
     "data": {
      "image/png": "[encoded data removed]",
      "text/plain": [
       "<Figure size 720x360 with 1 Axes>"
      ]
     },
     "metadata": {
      "needs_background": "light"
     },
     "output_type": "display_data"
    }
   ],
   "source": [
    "plt.figure(figsize=(10,5))\n",
    "sns.distplot(spotify_set[\"hour_of_day\"],\n",
    "             kde=False,\n",
    "             color='g');"
   ]
  },
  {
   "cell_type": "markdown",
   "metadata": {},
   "source": [
    "** F32 - Why do we have more Premium users than non Premium?"
   ]
  },
  {
   "cell_type": "code",
   "execution_count": 69,
   "metadata": {},
   "outputs": [
    {
     "data": {
      "text/html": [
       "<div>\n",
       "<style scoped>\n",
       "    .dataframe tbody tr th:only-of-type {\n",
       "        vertical-align: middle;\n",
       "    }\n",
       "\n",
       "    .dataframe tbody tr th {\n",
       "        vertical-align: top;\n",
       "    }\n",
       "\n",
       "    .dataframe thead th {\n",
       "        text-align: right;\n",
       "    }\n",
       "</style>\n",
       "<table border=\"1\" class=\"dataframe\">\n",
       "  <thead>\n",
       "    <tr style=\"text-align: right;\">\n",
       "      <th></th>\n",
       "      <th>premium</th>\n",
       "    </tr>\n",
       "  </thead>\n",
       "  <tbody>\n",
       "    <tr>\n",
       "      <th>session_position</th>\n",
       "      <td>0.023865</td>\n",
       "    </tr>\n",
       "    <tr>\n",
       "      <th>session_length</th>\n",
       "      <td>0.075817</td>\n",
       "    </tr>\n",
       "    <tr>\n",
       "      <th>skip_1</th>\n",
       "      <td>-0.027076</td>\n",
       "    </tr>\n",
       "    <tr>\n",
       "      <th>skip_2</th>\n",
       "      <td>-0.016049</td>\n",
       "    </tr>\n",
       "    <tr>\n",
       "      <th>skip_3</th>\n",
       "      <td>-0.004615</td>\n",
       "    </tr>\n",
       "    <tr>\n",
       "      <th>not_skipped</th>\n",
       "      <td>0.002696</td>\n",
       "    </tr>\n",
       "    <tr>\n",
       "      <th>context_switch</th>\n",
       "      <td>0.023390</td>\n",
       "    </tr>\n",
       "    <tr>\n",
       "      <th>no_pause_before_play</th>\n",
       "      <td>0.010235</td>\n",
       "    </tr>\n",
       "    <tr>\n",
       "      <th>short_pause_before_play</th>\n",
       "      <td>0.027277</td>\n",
       "    </tr>\n",
       "    <tr>\n",
       "      <th>long_pause_before_play</th>\n",
       "      <td>-0.008371</td>\n",
       "    </tr>\n",
       "    <tr>\n",
       "      <th>hist_user_behavior_n_seekfwd</th>\n",
       "      <td>-0.009626</td>\n",
       "    </tr>\n",
       "    <tr>\n",
       "      <th>hist_user_behavior_n_seekback</th>\n",
       "      <td>-0.008636</td>\n",
       "    </tr>\n",
       "    <tr>\n",
       "      <th>hist_user_behavior_is_shuffle</th>\n",
       "      <td>0.112602</td>\n",
       "    </tr>\n",
       "    <tr>\n",
       "      <th>hour_of_day</th>\n",
       "      <td>0.013413</td>\n",
       "    </tr>\n",
       "    <tr>\n",
       "      <th>premium</th>\n",
       "      <td>1.000000</td>\n",
       "    </tr>\n",
       "  </tbody>\n",
       "</table>\n",
       "</div>"
      ],
      "text/plain": [
       "                                premium\n",
       "session_position               0.023865\n",
       "session_length                 0.075817\n",
       "skip_1                        -0.027076\n",
       "skip_2                        -0.016049\n",
       "skip_3                        -0.004615\n",
       "not_skipped                    0.002696\n",
       "context_switch                 0.023390\n",
       "no_pause_before_play           0.010235\n",
       "short_pause_before_play        0.027277\n",
       "long_pause_before_play        -0.008371\n",
       "hist_user_behavior_n_seekfwd  -0.009626\n",
       "hist_user_behavior_n_seekback -0.008636\n",
       "hist_user_behavior_is_shuffle  0.112602\n",
       "hour_of_day                    0.013413\n",
       "premium                        1.000000"
      ]
     },
     "execution_count": 69,
     "metadata": {},
     "output_type": "execute_result"
    }
   ],
   "source": [
    "users.corr()[[\"premium\"]]"
   ]
  },
  {
   "cell_type": "code",
   "execution_count": 86,
   "metadata": {},
   "outputs": [
    {
     "data": {
      "text/plain": [
       "0.8104181558255897"
      ]
     },
     "execution_count": 86,
     "metadata": {},
     "output_type": "execute_result"
    }
   ],
   "source": [
    "prem=len(users[users[\"premium\"]==True])/len(users[\"premium\"])\n",
    "prem\n"
   ]
  },
  {
   "cell_type": "markdown",
   "metadata": {},
   "source": [
    "Answered also using outputs of E26 and E27"
   ]
  },
  {
   "cell_type": "code",
   "execution_count": null,
   "metadata": {},
   "outputs": [],
   "source": []
  },
  {
   "cell_type": "code",
   "execution_count": null,
   "metadata": {},
   "outputs": [],
   "source": []
  },
  {
   "cell_type": "markdown",
   "metadata": {},
   "source": [
    "**G33 - At what time do listeneres usually listen to Spotify? Do you think that knowing the country can have an impact?"
   ]
  },
  {
   "cell_type": "code",
   "execution_count": 17,
   "metadata": {},
   "outputs": [
    {
     "name": "stdout",
     "output_type": "stream",
     "text": [
      "14.1930843459614\n"
     ]
    },
    {
     "data": {
      "text/plain": [
       "11.4"
      ]
     },
     "execution_count": 17,
     "metadata": {},
     "output_type": "execute_result"
    }
   ],
   "source": [
    "print(spotify_set[\"hour_of_day\"].mean())\n",
    "0.19*60"
   ]
  },
  {
   "cell_type": "code",
   "execution_count": 18,
   "metadata": {},
   "outputs": [
    {
     "name": "stdout",
     "output_type": "stream",
     "text": [
      "15.0\n"
     ]
    }
   ],
   "source": [
    "print(spotify_set[\"hour_of_day\"].median())"
   ]
  },
  {
   "cell_type": "markdown",
   "metadata": {},
   "source": [
    "**G34 - Check the reasons due to which a track started"
   ]
  },
  {
   "cell_type": "code",
   "execution_count": 19,
   "metadata": {},
   "outputs": [
    {
     "data": {
      "text/plain": [
       "array(['trackdone', 'fwdbtn', 'backbtn', 'clickrow', 'appload', 'playbtn',\n",
       "       'remote', 'trackerror', 'endplay'], dtype=object)"
      ]
     },
     "execution_count": 19,
     "metadata": {},
     "output_type": "execute_result"
    }
   ],
   "source": [
    "spotify_set[\"hist_user_behavior_reason_start\"].unique()"
   ]
  },
  {
   "cell_type": "markdown",
   "metadata": {},
   "source": [
    "**G35 - The most antique session"
   ]
  },
  {
   "cell_type": "code",
   "execution_count": 20,
   "metadata": {},
   "outputs": [
    {
     "data": {
      "text/html": [
       "<div>\n",
       "<style scoped>\n",
       "    .dataframe tbody tr th:only-of-type {\n",
       "        vertical-align: middle;\n",
       "    }\n",
       "\n",
       "    .dataframe tbody tr th {\n",
       "        vertical-align: top;\n",
       "    }\n",
       "\n",
       "    .dataframe thead th {\n",
       "        text-align: right;\n",
       "    }\n",
       "</style>\n",
       "<table border=\"1\" class=\"dataframe\">\n",
       "  <thead>\n",
       "    <tr style=\"text-align: right;\">\n",
       "      <th></th>\n",
       "      <th>date</th>\n",
       "    </tr>\n",
       "  </thead>\n",
       "  <tbody>\n",
       "    <tr>\n",
       "      <th>102199</th>\n",
       "      <td>2018-05-12</td>\n",
       "    </tr>\n",
       "  </tbody>\n",
       "</table>\n",
       "</div>"
      ],
      "text/plain": [
       "              date\n",
       "102199  2018-05-12"
      ]
     },
     "execution_count": 20,
     "metadata": {},
     "output_type": "execute_result"
    }
   ],
   "source": [
    "g35 = spotify_set.columns.get_loc(\"date\")\n",
    "\n",
    "spotify_set.sort_values(by=['date']).iloc[:1,g35:g35+1]"
   ]
  },
  {
   "cell_type": "markdown",
   "metadata": {},
   "source": [
    "**G36 - The most recent session"
   ]
  },
  {
   "cell_type": "code",
   "execution_count": 21,
   "metadata": {},
   "outputs": [
    {
     "data": {
      "text/html": [
       "<div>\n",
       "<style scoped>\n",
       "    .dataframe tbody tr th:only-of-type {\n",
       "        vertical-align: middle;\n",
       "    }\n",
       "\n",
       "    .dataframe tbody tr th {\n",
       "        vertical-align: top;\n",
       "    }\n",
       "\n",
       "    .dataframe thead th {\n",
       "        text-align: right;\n",
       "    }\n",
       "</style>\n",
       "<table border=\"1\" class=\"dataframe\">\n",
       "  <thead>\n",
       "    <tr style=\"text-align: right;\">\n",
       "      <th></th>\n",
       "      <th>date</th>\n",
       "    </tr>\n",
       "  </thead>\n",
       "  <tbody>\n",
       "    <tr>\n",
       "      <th>12784</th>\n",
       "      <td>2018-07-16</td>\n",
       "    </tr>\n",
       "  </tbody>\n",
       "</table>\n",
       "</div>"
      ],
      "text/plain": [
       "             date\n",
       "12784  2018-07-16"
      ]
     },
     "execution_count": 21,
     "metadata": {},
     "output_type": "execute_result"
    }
   ],
   "source": [
    "g35 = spotify_set.columns.get_loc(\"date\")\n",
    "\n",
    "spotify_set.sort_values(by=['date'],ascending=False).iloc[:1,g35:g35+1]"
   ]
  },
  {
   "cell_type": "markdown",
   "metadata": {},
   "source": [
    "**H37 - 3 object variables in the session dataset that we might want to be numeric"
   ]
  },
  {
   "cell_type": "code",
   "execution_count": null,
   "metadata": {},
   "outputs": [],
   "source": []
  },
  {
   "cell_type": "markdown",
   "metadata": {},
   "source": [
    "**H38 - Do you think that the outliers are coherent with the information analysed so far?"
   ]
  },
  {
   "cell_type": "code",
   "execution_count": 22,
   "metadata": {},
   "outputs": [
    {
     "name": "stderr",
     "output_type": "stream",
     "text": [
      "C:\\Users\\pedro\\anaconda3\\lib\\site-packages\\seaborn\\_decorators.py:36: FutureWarning: Pass the following variable as a keyword arg: x. From version 0.12, the only valid positional argument will be `data`, and passing other arguments without an explicit keyword will result in an error or misinterpretation.\n",
      "  warnings.warn(\n"
     ]
    },
    {
     "data": {
      "image/png": "[encoded data removed]",
      "text/plain": [
       "<Figure size 1440x360 with 1 Axes>"
      ]
     },
     "metadata": {
      "needs_background": "light"
     },
     "output_type": "display_data"
    }
   ],
   "source": [
    "import seaborn as sns\n",
    "import matplotlib.pyplot as plt\n",
    "plt.figure(figsize=(20,5))\n",
    "sns.boxplot(spotify_track[\"release_year\"], color=\"sienna\");"
   ]
  },
  {
   "cell_type": "code",
   "execution_count": 23,
   "metadata": {},
   "outputs": [
    {
     "name": "stderr",
     "output_type": "stream",
     "text": [
      "C:\\Users\\pedro\\anaconda3\\lib\\site-packages\\seaborn\\_decorators.py:36: FutureWarning: Pass the following variable as a keyword arg: x. From version 0.12, the only valid positional argument will be `data`, and passing other arguments without an explicit keyword will result in an error or misinterpretation.\n",
      "  warnings.warn(\n"
     ]
    },
    {
     "data": {
      "text/plain": [
       "<AxesSubplot:xlabel='us_popularity_estimate'>"
      ]
     },
     "execution_count": 23,
     "metadata": {},
     "output_type": "execute_result"
    },
    {
     "data": {
      "image/png": "[encoded data removed]",
      "text/plain": [
       "<Figure size 1440x360 with 1 Axes>"
      ]
     },
     "metadata": {
      "needs_background": "light"
     },
     "output_type": "display_data"
    }
   ],
   "source": [
    "plt.figure(figsize=(20,5))\n",
    "sns.boxplot(spotify_track[\"us_popularity_estimate\"], color=\"sienna\")"
   ]
  },
  {
   "cell_type": "code",
   "execution_count": 24,
   "metadata": {},
   "outputs": [
    {
     "name": "stderr",
     "output_type": "stream",
     "text": [
      "C:\\Users\\pedro\\anaconda3\\lib\\site-packages\\seaborn\\_decorators.py:36: FutureWarning: Pass the following variable as a keyword arg: x. From version 0.12, the only valid positional argument will be `data`, and passing other arguments without an explicit keyword will result in an error or misinterpretation.\n",
      "  warnings.warn(\n"
     ]
    },
    {
     "data": {
      "text/plain": [
       "<AxesSubplot:xlabel='acousticness'>"
      ]
     },
     "execution_count": 24,
     "metadata": {},
     "output_type": "execute_result"
    },
    {
     "data": {
      "image/png": "[encoded data removed]",
      "text/plain": [
       "<Figure size 1440x360 with 1 Axes>"
      ]
     },
     "metadata": {
      "needs_background": "light"
     },
     "output_type": "display_data"
    }
   ],
   "source": [
    "plt.figure(figsize=(20,5))\n",
    "sns.boxplot(spotify_track[\"acousticness\"], color=\"sienna\")"
   ]
  },
  {
   "cell_type": "code",
   "execution_count": 25,
   "metadata": {},
   "outputs": [
    {
     "name": "stderr",
     "output_type": "stream",
     "text": [
      "C:\\Users\\pedro\\anaconda3\\lib\\site-packages\\seaborn\\_decorators.py:36: FutureWarning: Pass the following variable as a keyword arg: x. From version 0.12, the only valid positional argument will be `data`, and passing other arguments without an explicit keyword will result in an error or misinterpretation.\n",
      "  warnings.warn(\n"
     ]
    },
    {
     "data": {
      "text/plain": [
       "<AxesSubplot:xlabel='beat_strength'>"
      ]
     },
     "execution_count": 25,
     "metadata": {},
     "output_type": "execute_result"
    },
    {
     "data": {
      "image/png": "[encoded data removed]",
      "text/plain": [
       "<Figure size 1440x360 with 1 Axes>"
      ]
     },
     "metadata": {
      "needs_background": "light"
     },
     "output_type": "display_data"
    }
   ],
   "source": [
    "plt.figure(figsize=(20,5))\n",
    "sns.boxplot(spotify_track[\"beat_strength\"], color=\"sienna\")"
   ]
  },
  {
   "cell_type": "code",
   "execution_count": 26,
   "metadata": {},
   "outputs": [
    {
     "name": "stderr",
     "output_type": "stream",
     "text": [
      "C:\\Users\\pedro\\anaconda3\\lib\\site-packages\\seaborn\\_decorators.py:36: FutureWarning: Pass the following variable as a keyword arg: x. From version 0.12, the only valid positional argument will be `data`, and passing other arguments without an explicit keyword will result in an error or misinterpretation.\n",
      "  warnings.warn(\n"
     ]
    },
    {
     "data": {
      "text/plain": [
       "<AxesSubplot:xlabel='bounciness'>"
      ]
     },
     "execution_count": 26,
     "metadata": {},
     "output_type": "execute_result"
    },
    {
     "data": {
      "image/png": "[encoded data removed]",
      "text/plain": [
       "<Figure size 1440x360 with 1 Axes>"
      ]
     },
     "metadata": {
      "needs_background": "light"
     },
     "output_type": "display_data"
    }
   ],
   "source": [
    "plt.figure(figsize=(20,5))\n",
    "sns.boxplot(spotify_track[\"bounciness\"], color=\"sienna\")"
   ]
  },
  {
   "cell_type": "code",
   "execution_count": 27,
   "metadata": {},
   "outputs": [
    {
     "name": "stderr",
     "output_type": "stream",
     "text": [
      "C:\\Users\\pedro\\anaconda3\\lib\\site-packages\\seaborn\\_decorators.py:36: FutureWarning: Pass the following variable as a keyword arg: x. From version 0.12, the only valid positional argument will be `data`, and passing other arguments without an explicit keyword will result in an error or misinterpretation.\n",
      "  warnings.warn(\n"
     ]
    },
    {
     "data": {
      "text/plain": [
       "<AxesSubplot:xlabel='danceability'>"
      ]
     },
     "execution_count": 27,
     "metadata": {},
     "output_type": "execute_result"
    },
    {
     "data": {
      "image/png": "[encoded data removed]",
      "text/plain": [
       "<Figure size 1440x360 with 1 Axes>"
      ]
     },
     "metadata": {
      "needs_background": "light"
     },
     "output_type": "display_data"
    }
   ],
   "source": [
    "plt.figure(figsize=(20,5))\n",
    "sns.boxplot(spotify_track[\"danceability\"], color=\"sienna\")"
   ]
  },
  {
   "cell_type": "code",
   "execution_count": 28,
   "metadata": {},
   "outputs": [
    {
     "name": "stderr",
     "output_type": "stream",
     "text": [
      "C:\\Users\\pedro\\anaconda3\\lib\\site-packages\\seaborn\\_decorators.py:36: FutureWarning: Pass the following variable as a keyword arg: x. From version 0.12, the only valid positional argument will be `data`, and passing other arguments without an explicit keyword will result in an error or misinterpretation.\n",
      "  warnings.warn(\n"
     ]
    },
    {
     "data": {
      "text/plain": [
       "<AxesSubplot:xlabel='dyn_range_mean'>"
      ]
     },
     "execution_count": 28,
     "metadata": {},
     "output_type": "execute_result"
    },
    {
     "data": {
      "image/png": "[encoded data removed]",
      "text/plain": [
       "<Figure size 1440x360 with 1 Axes>"
      ]
     },
     "metadata": {
      "needs_background": "light"
     },
     "output_type": "display_data"
    }
   ],
   "source": [
    "plt.figure(figsize=(20,5))\n",
    "sns.boxplot(spotify_track[\"dyn_range_mean\"], color=\"sienna\")"
   ]
  },
  {
   "cell_type": "code",
   "execution_count": 29,
   "metadata": {},
   "outputs": [
    {
     "name": "stderr",
     "output_type": "stream",
     "text": [
      "C:\\Users\\pedro\\anaconda3\\lib\\site-packages\\seaborn\\_decorators.py:36: FutureWarning: Pass the following variable as a keyword arg: x. From version 0.12, the only valid positional argument will be `data`, and passing other arguments without an explicit keyword will result in an error or misinterpretation.\n",
      "  warnings.warn(\n"
     ]
    },
    {
     "data": {
      "text/plain": [
       "<AxesSubplot:xlabel='energy'>"
      ]
     },
     "execution_count": 29,
     "metadata": {},
     "output_type": "execute_result"
    },
    {
     "data": {
      "image/png": "[encoded data removed]",
      "text/plain": [
       "<Figure size 1440x360 with 1 Axes>"
      ]
     },
     "metadata": {
      "needs_background": "light"
     },
     "output_type": "display_data"
    }
   ],
   "source": [
    "plt.figure(figsize=(20,5))\n",
    "sns.boxplot(spotify_track[\"energy\"], color=\"sienna\")"
   ]
  },
  {
   "cell_type": "code",
   "execution_count": 30,
   "metadata": {},
   "outputs": [
    {
     "name": "stderr",
     "output_type": "stream",
     "text": [
      "C:\\Users\\pedro\\anaconda3\\lib\\site-packages\\seaborn\\_decorators.py:36: FutureWarning: Pass the following variable as a keyword arg: x. From version 0.12, the only valid positional argument will be `data`, and passing other arguments without an explicit keyword will result in an error or misinterpretation.\n",
      "  warnings.warn(\n"
     ]
    },
    {
     "data": {
      "text/plain": [
       "<AxesSubplot:xlabel='flatness'>"
      ]
     },
     "execution_count": 30,
     "metadata": {},
     "output_type": "execute_result"
    },
    {
     "data": {
      "image/png": "[encoded data removed]",
      "text/plain": [
       "<Figure size 1440x720 with 1 Axes>"
      ]
     },
     "metadata": {
      "needs_background": "light"
     },
     "output_type": "display_data"
    }
   ],
   "source": [
    "plt.figure(figsize=(20,10))\n",
    "sns.boxplot(spotify_track[\"flatness\"], color=\"sienna\")"
   ]
  },
  {
   "cell_type": "code",
   "execution_count": 31,
   "metadata": {},
   "outputs": [
    {
     "name": "stderr",
     "output_type": "stream",
     "text": [
      "C:\\Users\\pedro\\anaconda3\\lib\\site-packages\\seaborn\\_decorators.py:36: FutureWarning: Pass the following variable as a keyword arg: x. From version 0.12, the only valid positional argument will be `data`, and passing other arguments without an explicit keyword will result in an error or misinterpretation.\n",
      "  warnings.warn(\n"
     ]
    },
    {
     "data": {
      "text/plain": [
       "<AxesSubplot:xlabel='instrumentalness'>"
      ]
     },
     "execution_count": 31,
     "metadata": {},
     "output_type": "execute_result"
    },
    {
     "data": {
      "image/png": "[encoded data removed]",
      "text/plain": [
       "<Figure size 1440x720 with 1 Axes>"
      ]
     },
     "metadata": {
      "needs_background": "light"
     },
     "output_type": "display_data"
    }
   ],
   "source": [
    "plt.figure(figsize=(20,10))\n",
    "sns.boxplot(spotify_track[\"instrumentalness\"], color=\"sienna\")"
   ]
  },
  {
   "cell_type": "code",
   "execution_count": 32,
   "metadata": {},
   "outputs": [
    {
     "name": "stderr",
     "output_type": "stream",
     "text": [
      "C:\\Users\\pedro\\anaconda3\\lib\\site-packages\\seaborn\\_decorators.py:36: FutureWarning: Pass the following variable as a keyword arg: x. From version 0.12, the only valid positional argument will be `data`, and passing other arguments without an explicit keyword will result in an error or misinterpretation.\n",
      "  warnings.warn(\n"
     ]
    },
    {
     "data": {
      "text/plain": [
       "<AxesSubplot:xlabel='liveness'>"
      ]
     },
     "execution_count": 32,
     "metadata": {},
     "output_type": "execute_result"
    },
    {
     "data": {
      "image/png": "[encoded data removed]",
      "text/plain": [
       "<Figure size 1440x576 with 1 Axes>"
      ]
     },
     "metadata": {
      "needs_background": "light"
     },
     "output_type": "display_data"
    }
   ],
   "source": [
    "plt.figure(figsize=(20,8))\n",
    "sns.boxplot(spotify_track[\"liveness\"], color=\"sienna\")"
   ]
  },
  {
   "cell_type": "code",
   "execution_count": 33,
   "metadata": {},
   "outputs": [
    {
     "name": "stderr",
     "output_type": "stream",
     "text": [
      "C:\\Users\\pedro\\anaconda3\\lib\\site-packages\\seaborn\\_decorators.py:36: FutureWarning: Pass the following variable as a keyword arg: x. From version 0.12, the only valid positional argument will be `data`, and passing other arguments without an explicit keyword will result in an error or misinterpretation.\n",
      "  warnings.warn(\n"
     ]
    },
    {
     "data": {
      "text/plain": [
       "<AxesSubplot:xlabel='loudness'>"
      ]
     },
     "execution_count": 33,
     "metadata": {},
     "output_type": "execute_result"
    },
    {
     "data": {
      "image/png": "[encoded data removed]",
      "text/plain": [
       "<Figure size 1440x576 with 1 Axes>"
      ]
     },
     "metadata": {
      "needs_background": "light"
     },
     "output_type": "display_data"
    }
   ],
   "source": [
    "plt.figure(figsize=(20,8))\n",
    "sns.boxplot(spotify_track[\"loudness\"], color=\"sienna\")"
   ]
  },
  {
   "cell_type": "code",
   "execution_count": 34,
   "metadata": {},
   "outputs": [
    {
     "name": "stderr",
     "output_type": "stream",
     "text": [
      "C:\\Users\\pedro\\anaconda3\\lib\\site-packages\\seaborn\\_decorators.py:36: FutureWarning: Pass the following variable as a keyword arg: x. From version 0.12, the only valid positional argument will be `data`, and passing other arguments without an explicit keyword will result in an error or misinterpretation.\n",
      "  warnings.warn(\n"
     ]
    },
    {
     "data": {
      "text/plain": [
       "<AxesSubplot:xlabel='mechanism'>"
      ]
     },
     "execution_count": 34,
     "metadata": {},
     "output_type": "execute_result"
    },
    {
     "data": {
      "image/png": "[encoded data removed]",
      "text/plain": [
       "<Figure size 1440x576 with 1 Axes>"
      ]
     },
     "metadata": {
      "needs_background": "light"
     },
     "output_type": "display_data"
    }
   ],
   "source": [
    "plt.figure(figsize=(20,8))\n",
    "sns.boxplot(spotify_track[\"mechanism\"], color=\"sienna\")"
   ]
  },
  {
   "cell_type": "code",
   "execution_count": 35,
   "metadata": {},
   "outputs": [
    {
     "name": "stderr",
     "output_type": "stream",
     "text": [
      "C:\\Users\\pedro\\anaconda3\\lib\\site-packages\\seaborn\\_decorators.py:36: FutureWarning: Pass the following variable as a keyword arg: x. From version 0.12, the only valid positional argument will be `data`, and passing other arguments without an explicit keyword will result in an error or misinterpretation.\n",
      "  warnings.warn(\n"
     ]
    },
    {
     "data": {
      "text/plain": [
       "<AxesSubplot:xlabel='organism'>"
      ]
     },
     "execution_count": 35,
     "metadata": {},
     "output_type": "execute_result"
    },
    {
     "data": {
      "image/png": "[encoded data removed]",
      "text/plain": [
       "<Figure size 1440x576 with 1 Axes>"
      ]
     },
     "metadata": {
      "needs_background": "light"
     },
     "output_type": "display_data"
    }
   ],
   "source": [
    "plt.figure(figsize=(20,8))\n",
    "sns.boxplot(spotify_track[\"organism\"], color=\"sienna\")"
   ]
  },
  {
   "cell_type": "code",
   "execution_count": 36,
   "metadata": {},
   "outputs": [
    {
     "name": "stderr",
     "output_type": "stream",
     "text": [
      "C:\\Users\\pedro\\anaconda3\\lib\\site-packages\\seaborn\\_decorators.py:36: FutureWarning: Pass the following variable as a keyword arg: x. From version 0.12, the only valid positional argument will be `data`, and passing other arguments without an explicit keyword will result in an error or misinterpretation.\n",
      "  warnings.warn(\n"
     ]
    },
    {
     "data": {
      "text/plain": [
       "<AxesSubplot:xlabel='speechiness'>"
      ]
     },
     "execution_count": 36,
     "metadata": {},
     "output_type": "execute_result"
    },
    {
     "data": {
      "image/png": "[encoded data removed]",
      "text/plain": [
       "<Figure size 1440x576 with 1 Axes>"
      ]
     },
     "metadata": {
      "needs_background": "light"
     },
     "output_type": "display_data"
    }
   ],
   "source": [
    "plt.figure(figsize=(20,8))\n",
    "sns.boxplot(spotify_track[\"speechiness\"], color=\"sienna\")"
   ]
  },
  {
   "cell_type": "code",
   "execution_count": 37,
   "metadata": {},
   "outputs": [
    {
     "name": "stderr",
     "output_type": "stream",
     "text": [
      "C:\\Users\\pedro\\anaconda3\\lib\\site-packages\\seaborn\\_decorators.py:36: FutureWarning: Pass the following variable as a keyword arg: x. From version 0.12, the only valid positional argument will be `data`, and passing other arguments without an explicit keyword will result in an error or misinterpretation.\n",
      "  warnings.warn(\n"
     ]
    },
    {
     "data": {
      "text/plain": [
       "<AxesSubplot:xlabel='tempo'>"
      ]
     },
     "execution_count": 37,
     "metadata": {},
     "output_type": "execute_result"
    },
    {
     "data": {
      "image/png": "[encoded data removed]",
      "text/plain": [
       "<Figure size 1440x576 with 1 Axes>"
      ]
     },
     "metadata": {
      "needs_background": "light"
     },
     "output_type": "display_data"
    }
   ],
   "source": [
    "plt.figure(figsize=(20,8))\n",
    "sns.boxplot(spotify_track[\"tempo\"], color=\"sienna\")"
   ]
  },
  {
   "cell_type": "code",
   "execution_count": 38,
   "metadata": {},
   "outputs": [
    {
     "name": "stderr",
     "output_type": "stream",
     "text": [
      "C:\\Users\\pedro\\anaconda3\\lib\\site-packages\\seaborn\\_decorators.py:36: FutureWarning: Pass the following variable as a keyword arg: x. From version 0.12, the only valid positional argument will be `data`, and passing other arguments without an explicit keyword will result in an error or misinterpretation.\n",
      "  warnings.warn(\n"
     ]
    },
    {
     "data": {
      "text/plain": [
       "<AxesSubplot:xlabel='valence'>"
      ]
     },
     "execution_count": 38,
     "metadata": {},
     "output_type": "execute_result"
    },
    {
     "data": {
      "image/png": "[encoded data removed]",
      "text/plain": [
       "<Figure size 1440x576 with 1 Axes>"
      ]
     },
     "metadata": {
      "needs_background": "light"
     },
     "output_type": "display_data"
    }
   ],
   "source": [
    "plt.figure(figsize=(20,8))\n",
    "sns.boxplot(spotify_track[\"valence\"], color=\"sienna\")"
   ]
  },
  {
   "cell_type": "code",
   "execution_count": 39,
   "metadata": {},
   "outputs": [
    {
     "name": "stderr",
     "output_type": "stream",
     "text": [
      "C:\\Users\\pedro\\anaconda3\\lib\\site-packages\\seaborn\\_decorators.py:36: FutureWarning: Pass the following variable as a keyword arg: x. From version 0.12, the only valid positional argument will be `data`, and passing other arguments without an explicit keyword will result in an error or misinterpretation.\n",
      "  warnings.warn(\n"
     ]
    },
    {
     "data": {
      "text/plain": [
       "<AxesSubplot:xlabel='session_position'>"
      ]
     },
     "execution_count": 39,
     "metadata": {},
     "output_type": "execute_result"
    },
    {
     "data": {
      "image/png": "[encoded data removed]",
      "text/plain": [
       "<Figure size 1440x576 with 1 Axes>"
      ]
     },
     "metadata": {
      "needs_background": "light"
     },
     "output_type": "display_data"
    }
   ],
   "source": [
    "plt.figure(figsize=(20,8))\n",
    "sns.boxplot(spotify_set[\"session_position\"], color=\"sienna\")"
   ]
  },
  {
   "cell_type": "code",
   "execution_count": 40,
   "metadata": {},
   "outputs": [
    {
     "name": "stderr",
     "output_type": "stream",
     "text": [
      "C:\\Users\\pedro\\anaconda3\\lib\\site-packages\\seaborn\\_decorators.py:36: FutureWarning: Pass the following variable as a keyword arg: x. From version 0.12, the only valid positional argument will be `data`, and passing other arguments without an explicit keyword will result in an error or misinterpretation.\n",
      "  warnings.warn(\n"
     ]
    },
    {
     "data": {
      "text/plain": [
       "<AxesSubplot:xlabel='session_length'>"
      ]
     },
     "execution_count": 40,
     "metadata": {},
     "output_type": "execute_result"
    },
    {
     "data": {
      "image/png": "[encoded data removed]",
      "text/plain": [
       "<Figure size 1440x576 with 1 Axes>"
      ]
     },
     "metadata": {
      "needs_background": "light"
     },
     "output_type": "display_data"
    }
   ],
   "source": [
    "plt.figure(figsize=(20,8))\n",
    "sns.boxplot(spotify_set[\"session_length\"], color=\"sienna\")"
   ]
  },
  {
   "cell_type": "code",
   "execution_count": 41,
   "metadata": {},
   "outputs": [
    {
     "name": "stderr",
     "output_type": "stream",
     "text": [
      "C:\\Users\\pedro\\anaconda3\\lib\\site-packages\\seaborn\\_decorators.py:36: FutureWarning: Pass the following variable as a keyword arg: x. From version 0.12, the only valid positional argument will be `data`, and passing other arguments without an explicit keyword will result in an error or misinterpretation.\n",
      "  warnings.warn(\n"
     ]
    },
    {
     "data": {
      "text/plain": [
       "<AxesSubplot:xlabel='hour_of_day'>"
      ]
     },
     "execution_count": 41,
     "metadata": {},
     "output_type": "execute_result"
    },
    {
     "data": {
      "image/png": "[encoded data removed]",
      "text/plain": [
       "<Figure size 1440x576 with 1 Axes>"
      ]
     },
     "metadata": {
      "needs_background": "light"
     },
     "output_type": "display_data"
    }
   ],
   "source": [
    "plt.figure(figsize=(20,8))\n",
    "sns.boxplot(spotify_set[\"hour_of_day\"], color=\"sienna\")"
   ]
  },
  {
   "cell_type": "code",
   "execution_count": 42,
   "metadata": {},
   "outputs": [
    {
     "name": "stderr",
     "output_type": "stream",
     "text": [
      "C:\\Users\\pedro\\anaconda3\\lib\\site-packages\\seaborn\\_decorators.py:36: FutureWarning: Pass the following variable as a keyword arg: x. From version 0.12, the only valid positional argument will be `data`, and passing other arguments without an explicit keyword will result in an error or misinterpretation.\n",
      "  warnings.warn(\n"
     ]
    },
    {
     "data": {
      "text/plain": [
       "<AxesSubplot:xlabel='hist_user_behavior_n_seekfwd'>"
      ]
     },
     "execution_count": 42,
     "metadata": {},
     "output_type": "execute_result"
    },
    {
     "data": {
      "image/png": "[encoded data removed]",
      "text/plain": [
       "<Figure size 1440x576 with 1 Axes>"
      ]
     },
     "metadata": {
      "needs_background": "light"
     },
     "output_type": "display_data"
    }
   ],
   "source": [
    "plt.figure(figsize=(20,8))\n",
    "sns.boxplot(spotify_set[\"hist_user_behavior_n_seekfwd\"], color=\"sienna\")"
   ]
  },
  {
   "cell_type": "code",
   "execution_count": 43,
   "metadata": {},
   "outputs": [
    {
     "name": "stderr",
     "output_type": "stream",
     "text": [
      "C:\\Users\\pedro\\anaconda3\\lib\\site-packages\\seaborn\\_decorators.py:36: FutureWarning: Pass the following variable as a keyword arg: x. From version 0.12, the only valid positional argument will be `data`, and passing other arguments without an explicit keyword will result in an error or misinterpretation.\n",
      "  warnings.warn(\n"
     ]
    },
    {
     "data": {
      "text/plain": [
       "<AxesSubplot:xlabel='hist_user_behavior_n_seekback'>"
      ]
     },
     "execution_count": 43,
     "metadata": {},
     "output_type": "execute_result"
    },
    {
     "data": {
      "image/png": "[encoded data removed]",
      "text/plain": [
       "<Figure size 1440x576 with 1 Axes>"
      ]
     },
     "metadata": {
      "needs_background": "light"
     },
     "output_type": "display_data"
    }
   ],
   "source": [
    "plt.figure(figsize=(20,8))\n",
    "sns.boxplot(spotify_set[\"hist_user_behavior_n_seekback\"], color=\"sienna\")"
   ]
  },
  {
   "cell_type": "code",
   "execution_count": 44,
   "metadata": {},
   "outputs": [
    {
     "data": {
      "text/plain": [
       "session_id                         object\n",
       "session_position                    int64\n",
       "session_length                      int64\n",
       "track_id_clean                     object\n",
       "skip_1                               bool\n",
       "skip_2                               bool\n",
       "skip_3                               bool\n",
       "not_skipped                          bool\n",
       "context_switch                      int64\n",
       "no_pause_before_play                int64\n",
       "short_pause_before_play             int64\n",
       "long_pause_before_play              int64\n",
       "hist_user_behavior_n_seekfwd        int64\n",
       "hist_user_behavior_n_seekback       int64\n",
       "hist_user_behavior_is_shuffle        bool\n",
       "hour_of_day                         int64\n",
       "date                               object\n",
       "premium                              bool\n",
       "context_type                       object\n",
       "hist_user_behavior_reason_start    object\n",
       "hist_user_behavior_reason_end      object\n",
       "dtype: object"
      ]
     },
     "execution_count": 44,
     "metadata": {},
     "output_type": "execute_result"
    }
   ],
   "source": [
    "spotify_set.dtypes"
   ]
  },
  {
   "cell_type": "markdown",
   "metadata": {},
   "source": [
    "**H40 - Regarding the tempo, say you find a track that is an outlier, is it more likely that it is very slow or very fast?"
   ]
  },
  {
   "cell_type": "code",
   "execution_count": 45,
   "metadata": {},
   "outputs": [
    {
     "data": {
      "text/plain": [
       "43.85501098632814"
      ]
     },
     "execution_count": 45,
     "metadata": {},
     "output_type": "execute_result"
    }
   ],
   "source": [
    "Q1 = spotify_track[\"tempo\"].quantile(0.25)\n",
    "Q3 = spotify_track[\"tempo\"].quantile(0.75)\n",
    "IQR = Q3 - Q1\n",
    "IQR"
   ]
  },
  {
   "cell_type": "code",
   "execution_count": 46,
   "metadata": {},
   "outputs": [
    {
     "data": {
      "text/plain": [
       "79"
      ]
     },
     "execution_count": 46,
     "metadata": {},
     "output_type": "execute_result"
    }
   ],
   "source": [
    "tempo_outliers = spotify_track.tempo[(spotify_track[\"tempo\"] < (Q1 - 1.5 * IQR)) | ((spotify_track[\"tempo\"] > (Q3 + 1.5 * IQR)))].count()\n",
    "tempo_outliers"
   ]
  },
  {
   "cell_type": "code",
   "execution_count": 47,
   "metadata": {},
   "outputs": [
    {
     "data": {
      "text/plain": [
       "53"
      ]
     },
     "execution_count": 47,
     "metadata": {},
     "output_type": "execute_result"
    }
   ],
   "source": [
    "fast_tempo_outliers = spotify_track.tempo[((spotify_track[\"tempo\"] > (Q3 + 1.5 * IQR)))].count()\n",
    "fast_tempo_outliers"
   ]
  },
  {
   "cell_type": "code",
   "execution_count": 48,
   "metadata": {},
   "outputs": [
    {
     "data": {
      "text/plain": [
       "0.6708860759493671"
      ]
     },
     "execution_count": 48,
     "metadata": {},
     "output_type": "execute_result"
    }
   ],
   "source": [
    "fast_tempo_outliers / tempo_outliers"
   ]
  },
  {
   "cell_type": "markdown",
   "metadata": {},
   "source": [
    "**I41 - Check how the same session id is related to different track_id_clean, which are the track's IDs"
   ]
  },
  {
   "cell_type": "code",
   "execution_count": 49,
   "metadata": {},
   "outputs": [
    {
     "data": {
      "text/html": [
       "<div>\n",
       "<style scoped>\n",
       "    .dataframe tbody tr th:only-of-type {\n",
       "        vertical-align: middle;\n",
       "    }\n",
       "\n",
       "    .dataframe tbody tr th {\n",
       "        vertical-align: top;\n",
       "    }\n",
       "\n",
       "    .dataframe thead th {\n",
       "        text-align: right;\n",
       "    }\n",
       "</style>\n",
       "<table border=\"1\" class=\"dataframe\">\n",
       "  <thead>\n",
       "    <tr style=\"text-align: right;\">\n",
       "      <th></th>\n",
       "      <th>session_id</th>\n",
       "      <th>track_id_clean</th>\n",
       "    </tr>\n",
       "  </thead>\n",
       "  <tbody>\n",
       "    <tr>\n",
       "      <th>0</th>\n",
       "      <td>0_00006f66-33e5-4de7-a324-2d18e439fc1e</td>\n",
       "      <td>t_0479f24c-27d2-46d6-a00c-7ec928f2b539</td>\n",
       "    </tr>\n",
       "    <tr>\n",
       "      <th>1</th>\n",
       "      <td>0_00006f66-33e5-4de7-a324-2d18e439fc1e</td>\n",
       "      <td>t_9099cd7b-c238-47b7-9381-f23f2c1d1043</td>\n",
       "    </tr>\n",
       "    <tr>\n",
       "      <th>2</th>\n",
       "      <td>0_00006f66-33e5-4de7-a324-2d18e439fc1e</td>\n",
       "      <td>t_fc5df5ba-5396-49a7-8b29-35d0d28249e0</td>\n",
       "    </tr>\n",
       "    <tr>\n",
       "      <th>3</th>\n",
       "      <td>0_00006f66-33e5-4de7-a324-2d18e439fc1e</td>\n",
       "      <td>t_23cff8d6-d874-4b20-83dc-94e450e8aa20</td>\n",
       "    </tr>\n",
       "    <tr>\n",
       "      <th>4</th>\n",
       "      <td>0_00006f66-33e5-4de7-a324-2d18e439fc1e</td>\n",
       "      <td>t_64f3743c-f624-46bb-a579-0f3f9a07a123</td>\n",
       "    </tr>\n",
       "    <tr>\n",
       "      <th>...</th>\n",
       "      <td>...</td>\n",
       "      <td>...</td>\n",
       "    </tr>\n",
       "    <tr>\n",
       "      <th>167875</th>\n",
       "      <td>0_0eaeef5d-25e9-4429-bd55-af15d3604c9f</td>\n",
       "      <td>t_360910e8-2a84-42b0-baf1-59abcf96a1f2</td>\n",
       "    </tr>\n",
       "    <tr>\n",
       "      <th>167876</th>\n",
       "      <td>0_0eaeef5d-25e9-4429-bd55-af15d3604c9f</td>\n",
       "      <td>t_aa2fff77-9b0a-4fa3-a685-ecef50310e8a</td>\n",
       "    </tr>\n",
       "    <tr>\n",
       "      <th>167877</th>\n",
       "      <td>0_0eaeef5d-25e9-4429-bd55-af15d3604c9f</td>\n",
       "      <td>t_f673e1b7-4ebe-4fc1-ac24-a9f25de70381</td>\n",
       "    </tr>\n",
       "    <tr>\n",
       "      <th>167878</th>\n",
       "      <td>0_0eaeef5d-25e9-4429-bd55-af15d3604c9f</td>\n",
       "      <td>t_e172e8e7-7161-42a9-acb0-d606346c8f87</td>\n",
       "    </tr>\n",
       "    <tr>\n",
       "      <th>167879</th>\n",
       "      <td>0_0eaeef5d-25e9-4429-bd55-af15d3604c9f</td>\n",
       "      <td>t_77977dd6-597e-4425-8f8f-4efb32ecfba6</td>\n",
       "    </tr>\n",
       "  </tbody>\n",
       "</table>\n",
       "<p>167880 rows × 2 columns</p>\n",
       "</div>"
      ],
      "text/plain": [
       "                                    session_id  \\\n",
       "0       0_00006f66-33e5-4de7-a324-2d18e439fc1e   \n",
       "1       0_00006f66-33e5-4de7-a324-2d18e439fc1e   \n",
       "2       0_00006f66-33e5-4de7-a324-2d18e439fc1e   \n",
       "3       0_00006f66-33e5-4de7-a324-2d18e439fc1e   \n",
       "4       0_00006f66-33e5-4de7-a324-2d18e439fc1e   \n",
       "...                                        ...   \n",
       "167875  0_0eaeef5d-25e9-4429-bd55-af15d3604c9f   \n",
       "167876  0_0eaeef5d-25e9-4429-bd55-af15d3604c9f   \n",
       "167877  0_0eaeef5d-25e9-4429-bd55-af15d3604c9f   \n",
       "167878  0_0eaeef5d-25e9-4429-bd55-af15d3604c9f   \n",
       "167879  0_0eaeef5d-25e9-4429-bd55-af15d3604c9f   \n",
       "\n",
       "                                track_id_clean  \n",
       "0       t_0479f24c-27d2-46d6-a00c-7ec928f2b539  \n",
       "1       t_9099cd7b-c238-47b7-9381-f23f2c1d1043  \n",
       "2       t_fc5df5ba-5396-49a7-8b29-35d0d28249e0  \n",
       "3       t_23cff8d6-d874-4b20-83dc-94e450e8aa20  \n",
       "4       t_64f3743c-f624-46bb-a579-0f3f9a07a123  \n",
       "...                                        ...  \n",
       "167875  t_360910e8-2a84-42b0-baf1-59abcf96a1f2  \n",
       "167876  t_aa2fff77-9b0a-4fa3-a685-ecef50310e8a  \n",
       "167877  t_f673e1b7-4ebe-4fc1-ac24-a9f25de70381  \n",
       "167878  t_e172e8e7-7161-42a9-acb0-d606346c8f87  \n",
       "167879  t_77977dd6-597e-4425-8f8f-4efb32ecfba6  \n",
       "\n",
       "[167880 rows x 2 columns]"
      ]
     },
     "execution_count": 49,
     "metadata": {},
     "output_type": "execute_result"
    }
   ],
   "source": [
    "spotify_set[[\"session_id\",\"track_id_clean\"]]"
   ]
  },
  {
   "cell_type": "code",
   "execution_count": 50,
   "metadata": {},
   "outputs": [
    {
     "data": {
      "text/html": [
       "<div>\n",
       "<style scoped>\n",
       "    .dataframe tbody tr th:only-of-type {\n",
       "        vertical-align: middle;\n",
       "    }\n",
       "\n",
       "    .dataframe tbody tr th {\n",
       "        vertical-align: top;\n",
       "    }\n",
       "\n",
       "    .dataframe thead th {\n",
       "        text-align: right;\n",
       "    }\n",
       "</style>\n",
       "<table border=\"1\" class=\"dataframe\">\n",
       "  <thead>\n",
       "    <tr style=\"text-align: right;\">\n",
       "      <th></th>\n",
       "      <th></th>\n",
       "      <th>session_position</th>\n",
       "      <th>session_length</th>\n",
       "      <th>skip_1</th>\n",
       "      <th>skip_2</th>\n",
       "      <th>skip_3</th>\n",
       "      <th>not_skipped</th>\n",
       "      <th>context_switch</th>\n",
       "      <th>no_pause_before_play</th>\n",
       "      <th>short_pause_before_play</th>\n",
       "      <th>long_pause_before_play</th>\n",
       "      <th>hist_user_behavior_n_seekfwd</th>\n",
       "      <th>hist_user_behavior_n_seekback</th>\n",
       "      <th>hist_user_behavior_is_shuffle</th>\n",
       "      <th>hour_of_day</th>\n",
       "      <th>date</th>\n",
       "      <th>premium</th>\n",
       "      <th>context_type</th>\n",
       "      <th>hist_user_behavior_reason_start</th>\n",
       "      <th>hist_user_behavior_reason_end</th>\n",
       "    </tr>\n",
       "    <tr>\n",
       "      <th>session_id</th>\n",
       "      <th>track_id_clean</th>\n",
       "      <th></th>\n",
       "      <th></th>\n",
       "      <th></th>\n",
       "      <th></th>\n",
       "      <th></th>\n",
       "      <th></th>\n",
       "      <th></th>\n",
       "      <th></th>\n",
       "      <th></th>\n",
       "      <th></th>\n",
       "      <th></th>\n",
       "      <th></th>\n",
       "      <th></th>\n",
       "      <th></th>\n",
       "      <th></th>\n",
       "      <th></th>\n",
       "      <th></th>\n",
       "      <th></th>\n",
       "      <th></th>\n",
       "    </tr>\n",
       "  </thead>\n",
       "  <tbody>\n",
       "    <tr>\n",
       "      <th rowspan=\"5\" valign=\"top\">0_00006f66-33e5-4de7-a324-2d18e439fc1e</th>\n",
       "      <th>t_0479f24c-27d2-46d6-a00c-7ec928f2b539</th>\n",
       "      <td>1</td>\n",
       "      <td>1</td>\n",
       "      <td>1</td>\n",
       "      <td>1</td>\n",
       "      <td>1</td>\n",
       "      <td>1</td>\n",
       "      <td>1</td>\n",
       "      <td>1</td>\n",
       "      <td>1</td>\n",
       "      <td>1</td>\n",
       "      <td>1</td>\n",
       "      <td>1</td>\n",
       "      <td>1</td>\n",
       "      <td>1</td>\n",
       "      <td>1</td>\n",
       "      <td>1</td>\n",
       "      <td>1</td>\n",
       "      <td>1</td>\n",
       "      <td>1</td>\n",
       "    </tr>\n",
       "    <tr>\n",
       "      <th>t_0be6eced-f56f-48bd-8086-f2e0b760fdee</th>\n",
       "      <td>1</td>\n",
       "      <td>1</td>\n",
       "      <td>1</td>\n",
       "      <td>1</td>\n",
       "      <td>1</td>\n",
       "      <td>1</td>\n",
       "      <td>1</td>\n",
       "      <td>1</td>\n",
       "      <td>1</td>\n",
       "      <td>1</td>\n",
       "      <td>1</td>\n",
       "      <td>1</td>\n",
       "      <td>1</td>\n",
       "      <td>1</td>\n",
       "      <td>1</td>\n",
       "      <td>1</td>\n",
       "      <td>1</td>\n",
       "      <td>1</td>\n",
       "      <td>1</td>\n",
       "    </tr>\n",
       "    <tr>\n",
       "      <th>t_1051bc37-1a73-4301-812b-f83ae0c9bbcd</th>\n",
       "      <td>1</td>\n",
       "      <td>1</td>\n",
       "      <td>1</td>\n",
       "      <td>1</td>\n",
       "      <td>1</td>\n",
       "      <td>1</td>\n",
       "      <td>1</td>\n",
       "      <td>1</td>\n",
       "      <td>1</td>\n",
       "      <td>1</td>\n",
       "      <td>1</td>\n",
       "      <td>1</td>\n",
       "      <td>1</td>\n",
       "      <td>1</td>\n",
       "      <td>1</td>\n",
       "      <td>1</td>\n",
       "      <td>1</td>\n",
       "      <td>1</td>\n",
       "      <td>1</td>\n",
       "    </tr>\n",
       "    <tr>\n",
       "      <th>t_23cff8d6-d874-4b20-83dc-94e450e8aa20</th>\n",
       "      <td>1</td>\n",
       "      <td>1</td>\n",
       "      <td>1</td>\n",
       "      <td>1</td>\n",
       "      <td>1</td>\n",
       "      <td>1</td>\n",
       "      <td>1</td>\n",
       "      <td>1</td>\n",
       "      <td>1</td>\n",
       "      <td>1</td>\n",
       "      <td>1</td>\n",
       "      <td>1</td>\n",
       "      <td>1</td>\n",
       "      <td>1</td>\n",
       "      <td>1</td>\n",
       "      <td>1</td>\n",
       "      <td>1</td>\n",
       "      <td>1</td>\n",
       "      <td>1</td>\n",
       "    </tr>\n",
       "    <tr>\n",
       "      <th>t_2af4dfa0-7df3-4b7e-b7ab-353ba48237f9</th>\n",
       "      <td>1</td>\n",
       "      <td>1</td>\n",
       "      <td>1</td>\n",
       "      <td>1</td>\n",
       "      <td>1</td>\n",
       "      <td>1</td>\n",
       "      <td>1</td>\n",
       "      <td>1</td>\n",
       "      <td>1</td>\n",
       "      <td>1</td>\n",
       "      <td>1</td>\n",
       "      <td>1</td>\n",
       "      <td>1</td>\n",
       "      <td>1</td>\n",
       "      <td>1</td>\n",
       "      <td>1</td>\n",
       "      <td>1</td>\n",
       "      <td>1</td>\n",
       "      <td>1</td>\n",
       "    </tr>\n",
       "    <tr>\n",
       "      <th>...</th>\n",
       "      <th>...</th>\n",
       "      <td>...</td>\n",
       "      <td>...</td>\n",
       "      <td>...</td>\n",
       "      <td>...</td>\n",
       "      <td>...</td>\n",
       "      <td>...</td>\n",
       "      <td>...</td>\n",
       "      <td>...</td>\n",
       "      <td>...</td>\n",
       "      <td>...</td>\n",
       "      <td>...</td>\n",
       "      <td>...</td>\n",
       "      <td>...</td>\n",
       "      <td>...</td>\n",
       "      <td>...</td>\n",
       "      <td>...</td>\n",
       "      <td>...</td>\n",
       "      <td>...</td>\n",
       "      <td>...</td>\n",
       "    </tr>\n",
       "    <tr>\n",
       "      <th rowspan=\"5\" valign=\"top\">0_0eaeef5d-25e9-4429-bd55-af15d3604c9f</th>\n",
       "      <th>t_e172e8e7-7161-42a9-acb0-d606346c8f87</th>\n",
       "      <td>2</td>\n",
       "      <td>2</td>\n",
       "      <td>2</td>\n",
       "      <td>2</td>\n",
       "      <td>2</td>\n",
       "      <td>2</td>\n",
       "      <td>2</td>\n",
       "      <td>2</td>\n",
       "      <td>2</td>\n",
       "      <td>2</td>\n",
       "      <td>2</td>\n",
       "      <td>2</td>\n",
       "      <td>2</td>\n",
       "      <td>2</td>\n",
       "      <td>2</td>\n",
       "      <td>2</td>\n",
       "      <td>2</td>\n",
       "      <td>2</td>\n",
       "      <td>2</td>\n",
       "    </tr>\n",
       "    <tr>\n",
       "      <th>t_e76ba594-cebd-472d-a2da-483568be0406</th>\n",
       "      <td>2</td>\n",
       "      <td>2</td>\n",
       "      <td>2</td>\n",
       "      <td>2</td>\n",
       "      <td>2</td>\n",
       "      <td>2</td>\n",
       "      <td>2</td>\n",
       "      <td>2</td>\n",
       "      <td>2</td>\n",
       "      <td>2</td>\n",
       "      <td>2</td>\n",
       "      <td>2</td>\n",
       "      <td>2</td>\n",
       "      <td>2</td>\n",
       "      <td>2</td>\n",
       "      <td>2</td>\n",
       "      <td>2</td>\n",
       "      <td>2</td>\n",
       "      <td>2</td>\n",
       "    </tr>\n",
       "    <tr>\n",
       "      <th>t_e880d88c-bc6d-4f29-a220-b2d75aaade43</th>\n",
       "      <td>1</td>\n",
       "      <td>1</td>\n",
       "      <td>1</td>\n",
       "      <td>1</td>\n",
       "      <td>1</td>\n",
       "      <td>1</td>\n",
       "      <td>1</td>\n",
       "      <td>1</td>\n",
       "      <td>1</td>\n",
       "      <td>1</td>\n",
       "      <td>1</td>\n",
       "      <td>1</td>\n",
       "      <td>1</td>\n",
       "      <td>1</td>\n",
       "      <td>1</td>\n",
       "      <td>1</td>\n",
       "      <td>1</td>\n",
       "      <td>1</td>\n",
       "      <td>1</td>\n",
       "    </tr>\n",
       "    <tr>\n",
       "      <th>t_f673e1b7-4ebe-4fc1-ac24-a9f25de70381</th>\n",
       "      <td>2</td>\n",
       "      <td>2</td>\n",
       "      <td>2</td>\n",
       "      <td>2</td>\n",
       "      <td>2</td>\n",
       "      <td>2</td>\n",
       "      <td>2</td>\n",
       "      <td>2</td>\n",
       "      <td>2</td>\n",
       "      <td>2</td>\n",
       "      <td>2</td>\n",
       "      <td>2</td>\n",
       "      <td>2</td>\n",
       "      <td>2</td>\n",
       "      <td>2</td>\n",
       "      <td>2</td>\n",
       "      <td>2</td>\n",
       "      <td>2</td>\n",
       "      <td>2</td>\n",
       "    </tr>\n",
       "    <tr>\n",
       "      <th>t_f80ee4db-b284-4ef7-bdde-604ea6354f3c</th>\n",
       "      <td>2</td>\n",
       "      <td>2</td>\n",
       "      <td>2</td>\n",
       "      <td>2</td>\n",
       "      <td>2</td>\n",
       "      <td>2</td>\n",
       "      <td>2</td>\n",
       "      <td>2</td>\n",
       "      <td>2</td>\n",
       "      <td>2</td>\n",
       "      <td>2</td>\n",
       "      <td>2</td>\n",
       "      <td>2</td>\n",
       "      <td>2</td>\n",
       "      <td>2</td>\n",
       "      <td>2</td>\n",
       "      <td>2</td>\n",
       "      <td>2</td>\n",
       "      <td>2</td>\n",
       "    </tr>\n",
       "  </tbody>\n",
       "</table>\n",
       "<p>146108 rows × 19 columns</p>\n",
       "</div>"
      ],
      "text/plain": [
       "                                                                               session_position  \\\n",
       "session_id                             track_id_clean                                             \n",
       "0_00006f66-33e5-4de7-a324-2d18e439fc1e t_0479f24c-27d2-46d6-a00c-7ec928f2b539                 1   \n",
       "                                       t_0be6eced-f56f-48bd-8086-f2e0b760fdee                 1   \n",
       "                                       t_1051bc37-1a73-4301-812b-f83ae0c9bbcd                 1   \n",
       "                                       t_23cff8d6-d874-4b20-83dc-94e450e8aa20                 1   \n",
       "                                       t_2af4dfa0-7df3-4b7e-b7ab-353ba48237f9                 1   \n",
       "...                                                                                         ...   \n",
       "0_0eaeef5d-25e9-4429-bd55-af15d3604c9f t_e172e8e7-7161-42a9-acb0-d606346c8f87                 2   \n",
       "                                       t_e76ba594-cebd-472d-a2da-483568be0406                 2   \n",
       "                                       t_e880d88c-bc6d-4f29-a220-b2d75aaade43                 1   \n",
       "                                       t_f673e1b7-4ebe-4fc1-ac24-a9f25de70381                 2   \n",
       "                                       t_f80ee4db-b284-4ef7-bdde-604ea6354f3c                 2   \n",
       "\n",
       "                                                                               session_length  \\\n",
       "session_id                             track_id_clean                                           \n",
       "0_00006f66-33e5-4de7-a324-2d18e439fc1e t_0479f24c-27d2-46d6-a00c-7ec928f2b539               1   \n",
       "                                       t_0be6eced-f56f-48bd-8086-f2e0b760fdee               1   \n",
       "                                       t_1051bc37-1a73-4301-812b-f83ae0c9bbcd               1   \n",
       "                                       t_23cff8d6-d874-4b20-83dc-94e450e8aa20               1   \n",
       "                                       t_2af4dfa0-7df3-4b7e-b7ab-353ba48237f9               1   \n",
       "...                                                                                       ...   \n",
       "0_0eaeef5d-25e9-4429-bd55-af15d3604c9f t_e172e8e7-7161-42a9-acb0-d606346c8f87               2   \n",
       "                                       t_e76ba594-cebd-472d-a2da-483568be0406               2   \n",
       "                                       t_e880d88c-bc6d-4f29-a220-b2d75aaade43               1   \n",
       "                                       t_f673e1b7-4ebe-4fc1-ac24-a9f25de70381               2   \n",
       "                                       t_f80ee4db-b284-4ef7-bdde-604ea6354f3c               2   \n",
       "\n",
       "                                                                               skip_1  \\\n",
       "session_id                             track_id_clean                                   \n",
       "0_00006f66-33e5-4de7-a324-2d18e439fc1e t_0479f24c-27d2-46d6-a00c-7ec928f2b539       1   \n",
       "                                       t_0be6eced-f56f-48bd-8086-f2e0b760fdee       1   \n",
       "                                       t_1051bc37-1a73-4301-812b-f83ae0c9bbcd       1   \n",
       "                                       t_23cff8d6-d874-4b20-83dc-94e450e8aa20       1   \n",
       "                                       t_2af4dfa0-7df3-4b7e-b7ab-353ba48237f9       1   \n",
       "...                                                                               ...   \n",
       "0_0eaeef5d-25e9-4429-bd55-af15d3604c9f t_e172e8e7-7161-42a9-acb0-d606346c8f87       2   \n",
       "                                       t_e76ba594-cebd-472d-a2da-483568be0406       2   \n",
       "                                       t_e880d88c-bc6d-4f29-a220-b2d75aaade43       1   \n",
       "                                       t_f673e1b7-4ebe-4fc1-ac24-a9f25de70381       2   \n",
       "                                       t_f80ee4db-b284-4ef7-bdde-604ea6354f3c       2   \n",
       "\n",
       "                                                                               skip_2  \\\n",
       "session_id                             track_id_clean                                   \n",
       "0_00006f66-33e5-4de7-a324-2d18e439fc1e t_0479f24c-27d2-46d6-a00c-7ec928f2b539       1   \n",
       "                                       t_0be6eced-f56f-48bd-8086-f2e0b760fdee       1   \n",
       "                                       t_1051bc37-1a73-4301-812b-f83ae0c9bbcd       1   \n",
       "                                       t_23cff8d6-d874-4b20-83dc-94e450e8aa20       1   \n",
       "                                       t_2af4dfa0-7df3-4b7e-b7ab-353ba48237f9       1   \n",
       "...                                                                               ...   \n",
       "0_0eaeef5d-25e9-4429-bd55-af15d3604c9f t_e172e8e7-7161-42a9-acb0-d606346c8f87       2   \n",
       "                                       t_e76ba594-cebd-472d-a2da-483568be0406       2   \n",
       "                                       t_e880d88c-bc6d-4f29-a220-b2d75aaade43       1   \n",
       "                                       t_f673e1b7-4ebe-4fc1-ac24-a9f25de70381       2   \n",
       "                                       t_f80ee4db-b284-4ef7-bdde-604ea6354f3c       2   \n",
       "\n",
       "                                                                               skip_3  \\\n",
       "session_id                             track_id_clean                                   \n",
       "0_00006f66-33e5-4de7-a324-2d18e439fc1e t_0479f24c-27d2-46d6-a00c-7ec928f2b539       1   \n",
       "                                       t_0be6eced-f56f-48bd-8086-f2e0b760fdee       1   \n",
       "                                       t_1051bc37-1a73-4301-812b-f83ae0c9bbcd       1   \n",
       "                                       t_23cff8d6-d874-4b20-83dc-94e450e8aa20       1   \n",
       "                                       t_2af4dfa0-7df3-4b7e-b7ab-353ba48237f9       1   \n",
       "...                                                                               ...   \n",
       "0_0eaeef5d-25e9-4429-bd55-af15d3604c9f t_e172e8e7-7161-42a9-acb0-d606346c8f87       2   \n",
       "                                       t_e76ba594-cebd-472d-a2da-483568be0406       2   \n",
       "                                       t_e880d88c-bc6d-4f29-a220-b2d75aaade43       1   \n",
       "                                       t_f673e1b7-4ebe-4fc1-ac24-a9f25de70381       2   \n",
       "                                       t_f80ee4db-b284-4ef7-bdde-604ea6354f3c       2   \n",
       "\n",
       "                                                                               not_skipped  \\\n",
       "session_id                             track_id_clean                                        \n",
       "0_00006f66-33e5-4de7-a324-2d18e439fc1e t_0479f24c-27d2-46d6-a00c-7ec928f2b539            1   \n",
       "                                       t_0be6eced-f56f-48bd-8086-f2e0b760fdee            1   \n",
       "                                       t_1051bc37-1a73-4301-812b-f83ae0c9bbcd            1   \n",
       "                                       t_23cff8d6-d874-4b20-83dc-94e450e8aa20            1   \n",
       "                                       t_2af4dfa0-7df3-4b7e-b7ab-353ba48237f9            1   \n",
       "...                                                                                    ...   \n",
       "0_0eaeef5d-25e9-4429-bd55-af15d3604c9f t_e172e8e7-7161-42a9-acb0-d606346c8f87            2   \n",
       "                                       t_e76ba594-cebd-472d-a2da-483568be0406            2   \n",
       "                                       t_e880d88c-bc6d-4f29-a220-b2d75aaade43            1   \n",
       "                                       t_f673e1b7-4ebe-4fc1-ac24-a9f25de70381            2   \n",
       "                                       t_f80ee4db-b284-4ef7-bdde-604ea6354f3c            2   \n",
       "\n",
       "                                                                               context_switch  \\\n",
       "session_id                             track_id_clean                                           \n",
       "0_00006f66-33e5-4de7-a324-2d18e439fc1e t_0479f24c-27d2-46d6-a00c-7ec928f2b539               1   \n",
       "                                       t_0be6eced-f56f-48bd-8086-f2e0b760fdee               1   \n",
       "                                       t_1051bc37-1a73-4301-812b-f83ae0c9bbcd               1   \n",
       "                                       t_23cff8d6-d874-4b20-83dc-94e450e8aa20               1   \n",
       "                                       t_2af4dfa0-7df3-4b7e-b7ab-353ba48237f9               1   \n",
       "...                                                                                       ...   \n",
       "0_0eaeef5d-25e9-4429-bd55-af15d3604c9f t_e172e8e7-7161-42a9-acb0-d606346c8f87               2   \n",
       "                                       t_e76ba594-cebd-472d-a2da-483568be0406               2   \n",
       "                                       t_e880d88c-bc6d-4f29-a220-b2d75aaade43               1   \n",
       "                                       t_f673e1b7-4ebe-4fc1-ac24-a9f25de70381               2   \n",
       "                                       t_f80ee4db-b284-4ef7-bdde-604ea6354f3c               2   \n",
       "\n",
       "                                                                               no_pause_before_play  \\\n",
       "session_id                             track_id_clean                                                 \n",
       "0_00006f66-33e5-4de7-a324-2d18e439fc1e t_0479f24c-27d2-46d6-a00c-7ec928f2b539                     1   \n",
       "                                       t_0be6eced-f56f-48bd-8086-f2e0b760fdee                     1   \n",
       "                                       t_1051bc37-1a73-4301-812b-f83ae0c9bbcd                     1   \n",
       "                                       t_23cff8d6-d874-4b20-83dc-94e450e8aa20                     1   \n",
       "                                       t_2af4dfa0-7df3-4b7e-b7ab-353ba48237f9                     1   \n",
       "...                                                                                             ...   \n",
       "0_0eaeef5d-25e9-4429-bd55-af15d3604c9f t_e172e8e7-7161-42a9-acb0-d606346c8f87                     2   \n",
       "                                       t_e76ba594-cebd-472d-a2da-483568be0406                     2   \n",
       "                                       t_e880d88c-bc6d-4f29-a220-b2d75aaade43                     1   \n",
       "                                       t_f673e1b7-4ebe-4fc1-ac24-a9f25de70381                     2   \n",
       "                                       t_f80ee4db-b284-4ef7-bdde-604ea6354f3c                     2   \n",
       "\n",
       "                                                                               short_pause_before_play  \\\n",
       "session_id                             track_id_clean                                                    \n",
       "0_00006f66-33e5-4de7-a324-2d18e439fc1e t_0479f24c-27d2-46d6-a00c-7ec928f2b539                        1   \n",
       "                                       t_0be6eced-f56f-48bd-8086-f2e0b760fdee                        1   \n",
       "                                       t_1051bc37-1a73-4301-812b-f83ae0c9bbcd                        1   \n",
       "                                       t_23cff8d6-d874-4b20-83dc-94e450e8aa20                        1   \n",
       "                                       t_2af4dfa0-7df3-4b7e-b7ab-353ba48237f9                        1   \n",
       "...                                                                                                ...   \n",
       "0_0eaeef5d-25e9-4429-bd55-af15d3604c9f t_e172e8e7-7161-42a9-acb0-d606346c8f87                        2   \n",
       "                                       t_e76ba594-cebd-472d-a2da-483568be0406                        2   \n",
       "                                       t_e880d88c-bc6d-4f29-a220-b2d75aaade43                        1   \n",
       "                                       t_f673e1b7-4ebe-4fc1-ac24-a9f25de70381                        2   \n",
       "                                       t_f80ee4db-b284-4ef7-bdde-604ea6354f3c                        2   \n",
       "\n",
       "                                                                               long_pause_before_play  \\\n",
       "session_id                             track_id_clean                                                   \n",
       "0_00006f66-33e5-4de7-a324-2d18e439fc1e t_0479f24c-27d2-46d6-a00c-7ec928f2b539                       1   \n",
       "                                       t_0be6eced-f56f-48bd-8086-f2e0b760fdee                       1   \n",
       "                                       t_1051bc37-1a73-4301-812b-f83ae0c9bbcd                       1   \n",
       "                                       t_23cff8d6-d874-4b20-83dc-94e450e8aa20                       1   \n",
       "                                       t_2af4dfa0-7df3-4b7e-b7ab-353ba48237f9                       1   \n",
       "...                                                                                               ...   \n",
       "0_0eaeef5d-25e9-4429-bd55-af15d3604c9f t_e172e8e7-7161-42a9-acb0-d606346c8f87                       2   \n",
       "                                       t_e76ba594-cebd-472d-a2da-483568be0406                       2   \n",
       "                                       t_e880d88c-bc6d-4f29-a220-b2d75aaade43                       1   \n",
       "                                       t_f673e1b7-4ebe-4fc1-ac24-a9f25de70381                       2   \n",
       "                                       t_f80ee4db-b284-4ef7-bdde-604ea6354f3c                       2   \n",
       "\n",
       "                                                                               hist_user_behavior_n_seekfwd  \\\n",
       "session_id                             track_id_clean                                                         \n",
       "0_00006f66-33e5-4de7-a324-2d18e439fc1e t_0479f24c-27d2-46d6-a00c-7ec928f2b539                             1   \n",
       "                                       t_0be6eced-f56f-48bd-8086-f2e0b760fdee                             1   \n",
       "                                       t_1051bc37-1a73-4301-812b-f83ae0c9bbcd                             1   \n",
       "                                       t_23cff8d6-d874-4b20-83dc-94e450e8aa20                             1   \n",
       "                                       t_2af4dfa0-7df3-4b7e-b7ab-353ba48237f9                             1   \n",
       "...                                                                                                     ...   \n",
       "0_0eaeef5d-25e9-4429-bd55-af15d3604c9f t_e172e8e7-7161-42a9-acb0-d606346c8f87                             2   \n",
       "                                       t_e76ba594-cebd-472d-a2da-483568be0406                             2   \n",
       "                                       t_e880d88c-bc6d-4f29-a220-b2d75aaade43                             1   \n",
       "                                       t_f673e1b7-4ebe-4fc1-ac24-a9f25de70381                             2   \n",
       "                                       t_f80ee4db-b284-4ef7-bdde-604ea6354f3c                             2   \n",
       "\n",
       "                                                                               hist_user_behavior_n_seekback  \\\n",
       "session_id                             track_id_clean                                                          \n",
       "0_00006f66-33e5-4de7-a324-2d18e439fc1e t_0479f24c-27d2-46d6-a00c-7ec928f2b539                              1   \n",
       "                                       t_0be6eced-f56f-48bd-8086-f2e0b760fdee                              1   \n",
       "                                       t_1051bc37-1a73-4301-812b-f83ae0c9bbcd                              1   \n",
       "                                       t_23cff8d6-d874-4b20-83dc-94e450e8aa20                              1   \n",
       "                                       t_2af4dfa0-7df3-4b7e-b7ab-353ba48237f9                              1   \n",
       "...                                                                                                      ...   \n",
       "0_0eaeef5d-25e9-4429-bd55-af15d3604c9f t_e172e8e7-7161-42a9-acb0-d606346c8f87                              2   \n",
       "                                       t_e76ba594-cebd-472d-a2da-483568be0406                              2   \n",
       "                                       t_e880d88c-bc6d-4f29-a220-b2d75aaade43                              1   \n",
       "                                       t_f673e1b7-4ebe-4fc1-ac24-a9f25de70381                              2   \n",
       "                                       t_f80ee4db-b284-4ef7-bdde-604ea6354f3c                              2   \n",
       "\n",
       "                                                                               hist_user_behavior_is_shuffle  \\\n",
       "session_id                             track_id_clean                                                          \n",
       "0_00006f66-33e5-4de7-a324-2d18e439fc1e t_0479f24c-27d2-46d6-a00c-7ec928f2b539                              1   \n",
       "                                       t_0be6eced-f56f-48bd-8086-f2e0b760fdee                              1   \n",
       "                                       t_1051bc37-1a73-4301-812b-f83ae0c9bbcd                              1   \n",
       "                                       t_23cff8d6-d874-4b20-83dc-94e450e8aa20                              1   \n",
       "                                       t_2af4dfa0-7df3-4b7e-b7ab-353ba48237f9                              1   \n",
       "...                                                                                                      ...   \n",
       "0_0eaeef5d-25e9-4429-bd55-af15d3604c9f t_e172e8e7-7161-42a9-acb0-d606346c8f87                              2   \n",
       "                                       t_e76ba594-cebd-472d-a2da-483568be0406                              2   \n",
       "                                       t_e880d88c-bc6d-4f29-a220-b2d75aaade43                              1   \n",
       "                                       t_f673e1b7-4ebe-4fc1-ac24-a9f25de70381                              2   \n",
       "                                       t_f80ee4db-b284-4ef7-bdde-604ea6354f3c                              2   \n",
       "\n",
       "                                                                               hour_of_day  \\\n",
       "session_id                             track_id_clean                                        \n",
       "0_00006f66-33e5-4de7-a324-2d18e439fc1e t_0479f24c-27d2-46d6-a00c-7ec928f2b539            1   \n",
       "                                       t_0be6eced-f56f-48bd-8086-f2e0b760fdee            1   \n",
       "                                       t_1051bc37-1a73-4301-812b-f83ae0c9bbcd            1   \n",
       "                                       t_23cff8d6-d874-4b20-83dc-94e450e8aa20            1   \n",
       "                                       t_2af4dfa0-7df3-4b7e-b7ab-353ba48237f9            1   \n",
       "...                                                                                    ...   \n",
       "0_0eaeef5d-25e9-4429-bd55-af15d3604c9f t_e172e8e7-7161-42a9-acb0-d606346c8f87            2   \n",
       "                                       t_e76ba594-cebd-472d-a2da-483568be0406            2   \n",
       "                                       t_e880d88c-bc6d-4f29-a220-b2d75aaade43            1   \n",
       "                                       t_f673e1b7-4ebe-4fc1-ac24-a9f25de70381            2   \n",
       "                                       t_f80ee4db-b284-4ef7-bdde-604ea6354f3c            2   \n",
       "\n",
       "                                                                               date  \\\n",
       "session_id                             track_id_clean                                 \n",
       "0_00006f66-33e5-4de7-a324-2d18e439fc1e t_0479f24c-27d2-46d6-a00c-7ec928f2b539     1   \n",
       "                                       t_0be6eced-f56f-48bd-8086-f2e0b760fdee     1   \n",
       "                                       t_1051bc37-1a73-4301-812b-f83ae0c9bbcd     1   \n",
       "                                       t_23cff8d6-d874-4b20-83dc-94e450e8aa20     1   \n",
       "                                       t_2af4dfa0-7df3-4b7e-b7ab-353ba48237f9     1   \n",
       "...                                                                             ...   \n",
       "0_0eaeef5d-25e9-4429-bd55-af15d3604c9f t_e172e8e7-7161-42a9-acb0-d606346c8f87     2   \n",
       "                                       t_e76ba594-cebd-472d-a2da-483568be0406     2   \n",
       "                                       t_e880d88c-bc6d-4f29-a220-b2d75aaade43     1   \n",
       "                                       t_f673e1b7-4ebe-4fc1-ac24-a9f25de70381     2   \n",
       "                                       t_f80ee4db-b284-4ef7-bdde-604ea6354f3c     2   \n",
       "\n",
       "                                                                               premium  \\\n",
       "session_id                             track_id_clean                                    \n",
       "0_00006f66-33e5-4de7-a324-2d18e439fc1e t_0479f24c-27d2-46d6-a00c-7ec928f2b539        1   \n",
       "                                       t_0be6eced-f56f-48bd-8086-f2e0b760fdee        1   \n",
       "                                       t_1051bc37-1a73-4301-812b-f83ae0c9bbcd        1   \n",
       "                                       t_23cff8d6-d874-4b20-83dc-94e450e8aa20        1   \n",
       "                                       t_2af4dfa0-7df3-4b7e-b7ab-353ba48237f9        1   \n",
       "...                                                                                ...   \n",
       "0_0eaeef5d-25e9-4429-bd55-af15d3604c9f t_e172e8e7-7161-42a9-acb0-d606346c8f87        2   \n",
       "                                       t_e76ba594-cebd-472d-a2da-483568be0406        2   \n",
       "                                       t_e880d88c-bc6d-4f29-a220-b2d75aaade43        1   \n",
       "                                       t_f673e1b7-4ebe-4fc1-ac24-a9f25de70381        2   \n",
       "                                       t_f80ee4db-b284-4ef7-bdde-604ea6354f3c        2   \n",
       "\n",
       "                                                                               context_type  \\\n",
       "session_id                             track_id_clean                                         \n",
       "0_00006f66-33e5-4de7-a324-2d18e439fc1e t_0479f24c-27d2-46d6-a00c-7ec928f2b539             1   \n",
       "                                       t_0be6eced-f56f-48bd-8086-f2e0b760fdee             1   \n",
       "                                       t_1051bc37-1a73-4301-812b-f83ae0c9bbcd             1   \n",
       "                                       t_23cff8d6-d874-4b20-83dc-94e450e8aa20             1   \n",
       "                                       t_2af4dfa0-7df3-4b7e-b7ab-353ba48237f9             1   \n",
       "...                                                                                     ...   \n",
       "0_0eaeef5d-25e9-4429-bd55-af15d3604c9f t_e172e8e7-7161-42a9-acb0-d606346c8f87             2   \n",
       "                                       t_e76ba594-cebd-472d-a2da-483568be0406             2   \n",
       "                                       t_e880d88c-bc6d-4f29-a220-b2d75aaade43             1   \n",
       "                                       t_f673e1b7-4ebe-4fc1-ac24-a9f25de70381             2   \n",
       "                                       t_f80ee4db-b284-4ef7-bdde-604ea6354f3c             2   \n",
       "\n",
       "                                                                               hist_user_behavior_reason_start  \\\n",
       "session_id                             track_id_clean                                                            \n",
       "0_00006f66-33e5-4de7-a324-2d18e439fc1e t_0479f24c-27d2-46d6-a00c-7ec928f2b539                                1   \n",
       "                                       t_0be6eced-f56f-48bd-8086-f2e0b760fdee                                1   \n",
       "                                       t_1051bc37-1a73-4301-812b-f83ae0c9bbcd                                1   \n",
       "                                       t_23cff8d6-d874-4b20-83dc-94e450e8aa20                                1   \n",
       "                                       t_2af4dfa0-7df3-4b7e-b7ab-353ba48237f9                                1   \n",
       "...                                                                                                        ...   \n",
       "0_0eaeef5d-25e9-4429-bd55-af15d3604c9f t_e172e8e7-7161-42a9-acb0-d606346c8f87                                2   \n",
       "                                       t_e76ba594-cebd-472d-a2da-483568be0406                                2   \n",
       "                                       t_e880d88c-bc6d-4f29-a220-b2d75aaade43                                1   \n",
       "                                       t_f673e1b7-4ebe-4fc1-ac24-a9f25de70381                                2   \n",
       "                                       t_f80ee4db-b284-4ef7-bdde-604ea6354f3c                                2   \n",
       "\n",
       "                                                                               hist_user_behavior_reason_end  \n",
       "session_id                             track_id_clean                                                         \n",
       "0_00006f66-33e5-4de7-a324-2d18e439fc1e t_0479f24c-27d2-46d6-a00c-7ec928f2b539                              1  \n",
       "                                       t_0be6eced-f56f-48bd-8086-f2e0b760fdee                              1  \n",
       "                                       t_1051bc37-1a73-4301-812b-f83ae0c9bbcd                              1  \n",
       "                                       t_23cff8d6-d874-4b20-83dc-94e450e8aa20                              1  \n",
       "                                       t_2af4dfa0-7df3-4b7e-b7ab-353ba48237f9                              1  \n",
       "...                                                                                                      ...  \n",
       "0_0eaeef5d-25e9-4429-bd55-af15d3604c9f t_e172e8e7-7161-42a9-acb0-d606346c8f87                              2  \n",
       "                                       t_e76ba594-cebd-472d-a2da-483568be0406                              2  \n",
       "                                       t_e880d88c-bc6d-4f29-a220-b2d75aaade43                              1  \n",
       "                                       t_f673e1b7-4ebe-4fc1-ac24-a9f25de70381                              2  \n",
       "                                       t_f80ee4db-b284-4ef7-bdde-604ea6354f3c                              2  \n",
       "\n",
       "[146108 rows x 19 columns]"
      ]
     },
     "execution_count": 50,
     "metadata": {},
     "output_type": "execute_result"
    }
   ],
   "source": [
    "spotify_set.groupby(by=[\"session_id\",\"track_id_clean\"]).count()"
   ]
  },
  {
   "cell_type": "code",
   "execution_count": 51,
   "metadata": {},
   "outputs": [
    {
     "data": {
      "text/html": [
       "<div>\n",
       "<style scoped>\n",
       "    .dataframe tbody tr th:only-of-type {\n",
       "        vertical-align: middle;\n",
       "    }\n",
       "\n",
       "    .dataframe tbody tr th {\n",
       "        vertical-align: top;\n",
       "    }\n",
       "\n",
       "    .dataframe thead th {\n",
       "        text-align: right;\n",
       "    }\n",
       "</style>\n",
       "<table border=\"1\" class=\"dataframe\">\n",
       "  <thead>\n",
       "    <tr style=\"text-align: right;\">\n",
       "      <th></th>\n",
       "      <th></th>\n",
       "      <th>session_position</th>\n",
       "      <th>session_length</th>\n",
       "      <th>skip_1</th>\n",
       "      <th>skip_2</th>\n",
       "      <th>skip_3</th>\n",
       "      <th>not_skipped</th>\n",
       "      <th>context_switch</th>\n",
       "      <th>no_pause_before_play</th>\n",
       "      <th>short_pause_before_play</th>\n",
       "      <th>long_pause_before_play</th>\n",
       "      <th>hist_user_behavior_n_seekfwd</th>\n",
       "      <th>hist_user_behavior_n_seekback</th>\n",
       "      <th>hist_user_behavior_is_shuffle</th>\n",
       "      <th>hour_of_day</th>\n",
       "      <th>date</th>\n",
       "      <th>premium</th>\n",
       "      <th>context_type</th>\n",
       "      <th>hist_user_behavior_reason_start</th>\n",
       "      <th>hist_user_behavior_reason_end</th>\n",
       "    </tr>\n",
       "    <tr>\n",
       "      <th>track_id_clean</th>\n",
       "      <th>session_id</th>\n",
       "      <th></th>\n",
       "      <th></th>\n",
       "      <th></th>\n",
       "      <th></th>\n",
       "      <th></th>\n",
       "      <th></th>\n",
       "      <th></th>\n",
       "      <th></th>\n",
       "      <th></th>\n",
       "      <th></th>\n",
       "      <th></th>\n",
       "      <th></th>\n",
       "      <th></th>\n",
       "      <th></th>\n",
       "      <th></th>\n",
       "      <th></th>\n",
       "      <th></th>\n",
       "      <th></th>\n",
       "      <th></th>\n",
       "    </tr>\n",
       "  </thead>\n",
       "  <tbody>\n",
       "    <tr>\n",
       "      <th>t_00007fba-6bd3-449d-85dd-54d4aea397c2</th>\n",
       "      <th>0_04eb275f-a1ca-4f6c-9296-db886ac0cd94</th>\n",
       "      <td>1</td>\n",
       "      <td>1</td>\n",
       "      <td>1</td>\n",
       "      <td>1</td>\n",
       "      <td>1</td>\n",
       "      <td>1</td>\n",
       "      <td>1</td>\n",
       "      <td>1</td>\n",
       "      <td>1</td>\n",
       "      <td>1</td>\n",
       "      <td>1</td>\n",
       "      <td>1</td>\n",
       "      <td>1</td>\n",
       "      <td>1</td>\n",
       "      <td>1</td>\n",
       "      <td>1</td>\n",
       "      <td>1</td>\n",
       "      <td>1</td>\n",
       "      <td>1</td>\n",
       "    </tr>\n",
       "    <tr>\n",
       "      <th>t_0000dc06-0c00-4a09-9dc6-3bdad9c6f0e8</th>\n",
       "      <th>0_082ccf64-4696-427d-9187-177de8a3bcb0</th>\n",
       "      <td>4</td>\n",
       "      <td>4</td>\n",
       "      <td>4</td>\n",
       "      <td>4</td>\n",
       "      <td>4</td>\n",
       "      <td>4</td>\n",
       "      <td>4</td>\n",
       "      <td>4</td>\n",
       "      <td>4</td>\n",
       "      <td>4</td>\n",
       "      <td>4</td>\n",
       "      <td>4</td>\n",
       "      <td>4</td>\n",
       "      <td>4</td>\n",
       "      <td>4</td>\n",
       "      <td>4</td>\n",
       "      <td>4</td>\n",
       "      <td>4</td>\n",
       "      <td>4</td>\n",
       "    </tr>\n",
       "    <tr>\n",
       "      <th>t_00020dc1-1b82-43e9-8327-77b074bdf626</th>\n",
       "      <th>0_04451adf-4280-4dd1-9f28-f965041c3fbf</th>\n",
       "      <td>1</td>\n",
       "      <td>1</td>\n",
       "      <td>1</td>\n",
       "      <td>1</td>\n",
       "      <td>1</td>\n",
       "      <td>1</td>\n",
       "      <td>1</td>\n",
       "      <td>1</td>\n",
       "      <td>1</td>\n",
       "      <td>1</td>\n",
       "      <td>1</td>\n",
       "      <td>1</td>\n",
       "      <td>1</td>\n",
       "      <td>1</td>\n",
       "      <td>1</td>\n",
       "      <td>1</td>\n",
       "      <td>1</td>\n",
       "      <td>1</td>\n",
       "      <td>1</td>\n",
       "    </tr>\n",
       "    <tr>\n",
       "      <th>t_0003d374-de7a-44c0-a2b6-9ee6785a0750</th>\n",
       "      <th>0_0e40f541-b2e4-40da-b2f7-c1e4b59cd061</th>\n",
       "      <td>1</td>\n",
       "      <td>1</td>\n",
       "      <td>1</td>\n",
       "      <td>1</td>\n",
       "      <td>1</td>\n",
       "      <td>1</td>\n",
       "      <td>1</td>\n",
       "      <td>1</td>\n",
       "      <td>1</td>\n",
       "      <td>1</td>\n",
       "      <td>1</td>\n",
       "      <td>1</td>\n",
       "      <td>1</td>\n",
       "      <td>1</td>\n",
       "      <td>1</td>\n",
       "      <td>1</td>\n",
       "      <td>1</td>\n",
       "      <td>1</td>\n",
       "      <td>1</td>\n",
       "    </tr>\n",
       "    <tr>\n",
       "      <th>t_00042d9b-e795-41a9-89ad-504373dd4287</th>\n",
       "      <th>0_014171a0-08bf-4672-9ff0-a26d7063e9b6</th>\n",
       "      <td>1</td>\n",
       "      <td>1</td>\n",
       "      <td>1</td>\n",
       "      <td>1</td>\n",
       "      <td>1</td>\n",
       "      <td>1</td>\n",
       "      <td>1</td>\n",
       "      <td>1</td>\n",
       "      <td>1</td>\n",
       "      <td>1</td>\n",
       "      <td>1</td>\n",
       "      <td>1</td>\n",
       "      <td>1</td>\n",
       "      <td>1</td>\n",
       "      <td>1</td>\n",
       "      <td>1</td>\n",
       "      <td>1</td>\n",
       "      <td>1</td>\n",
       "      <td>1</td>\n",
       "    </tr>\n",
       "    <tr>\n",
       "      <th>...</th>\n",
       "      <th>...</th>\n",
       "      <td>...</td>\n",
       "      <td>...</td>\n",
       "      <td>...</td>\n",
       "      <td>...</td>\n",
       "      <td>...</td>\n",
       "      <td>...</td>\n",
       "      <td>...</td>\n",
       "      <td>...</td>\n",
       "      <td>...</td>\n",
       "      <td>...</td>\n",
       "      <td>...</td>\n",
       "      <td>...</td>\n",
       "      <td>...</td>\n",
       "      <td>...</td>\n",
       "      <td>...</td>\n",
       "      <td>...</td>\n",
       "      <td>...</td>\n",
       "      <td>...</td>\n",
       "      <td>...</td>\n",
       "    </tr>\n",
       "    <tr>\n",
       "      <th>t_fff847fc-b425-4bc7-b680-9879a07739d5</th>\n",
       "      <th>0_07e9e50d-501a-40f8-b308-91c577ebcba3</th>\n",
       "      <td>1</td>\n",
       "      <td>1</td>\n",
       "      <td>1</td>\n",
       "      <td>1</td>\n",
       "      <td>1</td>\n",
       "      <td>1</td>\n",
       "      <td>1</td>\n",
       "      <td>1</td>\n",
       "      <td>1</td>\n",
       "      <td>1</td>\n",
       "      <td>1</td>\n",
       "      <td>1</td>\n",
       "      <td>1</td>\n",
       "      <td>1</td>\n",
       "      <td>1</td>\n",
       "      <td>1</td>\n",
       "      <td>1</td>\n",
       "      <td>1</td>\n",
       "      <td>1</td>\n",
       "    </tr>\n",
       "    <tr>\n",
       "      <th>t_fffb45d3-9981-4fe5-99a2-0f3c37f9af96</th>\n",
       "      <th>0_091db187-0248-443d-bd6c-ac4949a43813</th>\n",
       "      <td>1</td>\n",
       "      <td>1</td>\n",
       "      <td>1</td>\n",
       "      <td>1</td>\n",
       "      <td>1</td>\n",
       "      <td>1</td>\n",
       "      <td>1</td>\n",
       "      <td>1</td>\n",
       "      <td>1</td>\n",
       "      <td>1</td>\n",
       "      <td>1</td>\n",
       "      <td>1</td>\n",
       "      <td>1</td>\n",
       "      <td>1</td>\n",
       "      <td>1</td>\n",
       "      <td>1</td>\n",
       "      <td>1</td>\n",
       "      <td>1</td>\n",
       "      <td>1</td>\n",
       "    </tr>\n",
       "    <tr>\n",
       "      <th>t_fffc5585-4ff9-4f73-a5ae-c67afa99fbb5</th>\n",
       "      <th>0_03bbcbdb-96a3-45ff-bfe5-da6eeda8f788</th>\n",
       "      <td>1</td>\n",
       "      <td>1</td>\n",
       "      <td>1</td>\n",
       "      <td>1</td>\n",
       "      <td>1</td>\n",
       "      <td>1</td>\n",
       "      <td>1</td>\n",
       "      <td>1</td>\n",
       "      <td>1</td>\n",
       "      <td>1</td>\n",
       "      <td>1</td>\n",
       "      <td>1</td>\n",
       "      <td>1</td>\n",
       "      <td>1</td>\n",
       "      <td>1</td>\n",
       "      <td>1</td>\n",
       "      <td>1</td>\n",
       "      <td>1</td>\n",
       "      <td>1</td>\n",
       "    </tr>\n",
       "    <tr>\n",
       "      <th rowspan=\"2\" valign=\"top\">t_fffe4528-f29c-467c-a751-e9db03964faa</th>\n",
       "      <th>0_04df1099-09b2-4111-a06c-461b9519532b</th>\n",
       "      <td>1</td>\n",
       "      <td>1</td>\n",
       "      <td>1</td>\n",
       "      <td>1</td>\n",
       "      <td>1</td>\n",
       "      <td>1</td>\n",
       "      <td>1</td>\n",
       "      <td>1</td>\n",
       "      <td>1</td>\n",
       "      <td>1</td>\n",
       "      <td>1</td>\n",
       "      <td>1</td>\n",
       "      <td>1</td>\n",
       "      <td>1</td>\n",
       "      <td>1</td>\n",
       "      <td>1</td>\n",
       "      <td>1</td>\n",
       "      <td>1</td>\n",
       "      <td>1</td>\n",
       "    </tr>\n",
       "    <tr>\n",
       "      <th>0_0a6bec07-725f-4e0e-9bad-415eec90583d</th>\n",
       "      <td>2</td>\n",
       "      <td>2</td>\n",
       "      <td>2</td>\n",
       "      <td>2</td>\n",
       "      <td>2</td>\n",
       "      <td>2</td>\n",
       "      <td>2</td>\n",
       "      <td>2</td>\n",
       "      <td>2</td>\n",
       "      <td>2</td>\n",
       "      <td>2</td>\n",
       "      <td>2</td>\n",
       "      <td>2</td>\n",
       "      <td>2</td>\n",
       "      <td>2</td>\n",
       "      <td>2</td>\n",
       "      <td>2</td>\n",
       "      <td>2</td>\n",
       "      <td>2</td>\n",
       "    </tr>\n",
       "  </tbody>\n",
       "</table>\n",
       "<p>146108 rows × 19 columns</p>\n",
       "</div>"
      ],
      "text/plain": [
       "                                                                               session_position  \\\n",
       "track_id_clean                         session_id                                                 \n",
       "t_00007fba-6bd3-449d-85dd-54d4aea397c2 0_04eb275f-a1ca-4f6c-9296-db886ac0cd94                 1   \n",
       "t_0000dc06-0c00-4a09-9dc6-3bdad9c6f0e8 0_082ccf64-4696-427d-9187-177de8a3bcb0                 4   \n",
       "t_00020dc1-1b82-43e9-8327-77b074bdf626 0_04451adf-4280-4dd1-9f28-f965041c3fbf                 1   \n",
       "t_0003d374-de7a-44c0-a2b6-9ee6785a0750 0_0e40f541-b2e4-40da-b2f7-c1e4b59cd061                 1   \n",
       "t_00042d9b-e795-41a9-89ad-504373dd4287 0_014171a0-08bf-4672-9ff0-a26d7063e9b6                 1   \n",
       "...                                                                                         ...   \n",
       "t_fff847fc-b425-4bc7-b680-9879a07739d5 0_07e9e50d-501a-40f8-b308-91c577ebcba3                 1   \n",
       "t_fffb45d3-9981-4fe5-99a2-0f3c37f9af96 0_091db187-0248-443d-bd6c-ac4949a43813                 1   \n",
       "t_fffc5585-4ff9-4f73-a5ae-c67afa99fbb5 0_03bbcbdb-96a3-45ff-bfe5-da6eeda8f788                 1   \n",
       "t_fffe4528-f29c-467c-a751-e9db03964faa 0_04df1099-09b2-4111-a06c-461b9519532b                 1   \n",
       "                                       0_0a6bec07-725f-4e0e-9bad-415eec90583d                 2   \n",
       "\n",
       "                                                                               session_length  \\\n",
       "track_id_clean                         session_id                                               \n",
       "t_00007fba-6bd3-449d-85dd-54d4aea397c2 0_04eb275f-a1ca-4f6c-9296-db886ac0cd94               1   \n",
       "t_0000dc06-0c00-4a09-9dc6-3bdad9c6f0e8 0_082ccf64-4696-427d-9187-177de8a3bcb0               4   \n",
       "t_00020dc1-1b82-43e9-8327-77b074bdf626 0_04451adf-4280-4dd1-9f28-f965041c3fbf               1   \n",
       "t_0003d374-de7a-44c0-a2b6-9ee6785a0750 0_0e40f541-b2e4-40da-b2f7-c1e4b59cd061               1   \n",
       "t_00042d9b-e795-41a9-89ad-504373dd4287 0_014171a0-08bf-4672-9ff0-a26d7063e9b6               1   \n",
       "...                                                                                       ...   \n",
       "t_fff847fc-b425-4bc7-b680-9879a07739d5 0_07e9e50d-501a-40f8-b308-91c577ebcba3               1   \n",
       "t_fffb45d3-9981-4fe5-99a2-0f3c37f9af96 0_091db187-0248-443d-bd6c-ac4949a43813               1   \n",
       "t_fffc5585-4ff9-4f73-a5ae-c67afa99fbb5 0_03bbcbdb-96a3-45ff-bfe5-da6eeda8f788               1   \n",
       "t_fffe4528-f29c-467c-a751-e9db03964faa 0_04df1099-09b2-4111-a06c-461b9519532b               1   \n",
       "                                       0_0a6bec07-725f-4e0e-9bad-415eec90583d               2   \n",
       "\n",
       "                                                                               skip_1  \\\n",
       "track_id_clean                         session_id                                       \n",
       "t_00007fba-6bd3-449d-85dd-54d4aea397c2 0_04eb275f-a1ca-4f6c-9296-db886ac0cd94       1   \n",
       "t_0000dc06-0c00-4a09-9dc6-3bdad9c6f0e8 0_082ccf64-4696-427d-9187-177de8a3bcb0       4   \n",
       "t_00020dc1-1b82-43e9-8327-77b074bdf626 0_04451adf-4280-4dd1-9f28-f965041c3fbf       1   \n",
       "t_0003d374-de7a-44c0-a2b6-9ee6785a0750 0_0e40f541-b2e4-40da-b2f7-c1e4b59cd061       1   \n",
       "t_00042d9b-e795-41a9-89ad-504373dd4287 0_014171a0-08bf-4672-9ff0-a26d7063e9b6       1   \n",
       "...                                                                               ...   \n",
       "t_fff847fc-b425-4bc7-b680-9879a07739d5 0_07e9e50d-501a-40f8-b308-91c577ebcba3       1   \n",
       "t_fffb45d3-9981-4fe5-99a2-0f3c37f9af96 0_091db187-0248-443d-bd6c-ac4949a43813       1   \n",
       "t_fffc5585-4ff9-4f73-a5ae-c67afa99fbb5 0_03bbcbdb-96a3-45ff-bfe5-da6eeda8f788       1   \n",
       "t_fffe4528-f29c-467c-a751-e9db03964faa 0_04df1099-09b2-4111-a06c-461b9519532b       1   \n",
       "                                       0_0a6bec07-725f-4e0e-9bad-415eec90583d       2   \n",
       "\n",
       "                                                                               skip_2  \\\n",
       "track_id_clean                         session_id                                       \n",
       "t_00007fba-6bd3-449d-85dd-54d4aea397c2 0_04eb275f-a1ca-4f6c-9296-db886ac0cd94       1   \n",
       "t_0000dc06-0c00-4a09-9dc6-3bdad9c6f0e8 0_082ccf64-4696-427d-9187-177de8a3bcb0       4   \n",
       "t_00020dc1-1b82-43e9-8327-77b074bdf626 0_04451adf-4280-4dd1-9f28-f965041c3fbf       1   \n",
       "t_0003d374-de7a-44c0-a2b6-9ee6785a0750 0_0e40f541-b2e4-40da-b2f7-c1e4b59cd061       1   \n",
       "t_00042d9b-e795-41a9-89ad-504373dd4287 0_014171a0-08bf-4672-9ff0-a26d7063e9b6       1   \n",
       "...                                                                               ...   \n",
       "t_fff847fc-b425-4bc7-b680-9879a07739d5 0_07e9e50d-501a-40f8-b308-91c577ebcba3       1   \n",
       "t_fffb45d3-9981-4fe5-99a2-0f3c37f9af96 0_091db187-0248-443d-bd6c-ac4949a43813       1   \n",
       "t_fffc5585-4ff9-4f73-a5ae-c67afa99fbb5 0_03bbcbdb-96a3-45ff-bfe5-da6eeda8f788       1   \n",
       "t_fffe4528-f29c-467c-a751-e9db03964faa 0_04df1099-09b2-4111-a06c-461b9519532b       1   \n",
       "                                       0_0a6bec07-725f-4e0e-9bad-415eec90583d       2   \n",
       "\n",
       "                                                                               skip_3  \\\n",
       "track_id_clean                         session_id                                       \n",
       "t_00007fba-6bd3-449d-85dd-54d4aea397c2 0_04eb275f-a1ca-4f6c-9296-db886ac0cd94       1   \n",
       "t_0000dc06-0c00-4a09-9dc6-3bdad9c6f0e8 0_082ccf64-4696-427d-9187-177de8a3bcb0       4   \n",
       "t_00020dc1-1b82-43e9-8327-77b074bdf626 0_04451adf-4280-4dd1-9f28-f965041c3fbf       1   \n",
       "t_0003d374-de7a-44c0-a2b6-9ee6785a0750 0_0e40f541-b2e4-40da-b2f7-c1e4b59cd061       1   \n",
       "t_00042d9b-e795-41a9-89ad-504373dd4287 0_014171a0-08bf-4672-9ff0-a26d7063e9b6       1   \n",
       "...                                                                               ...   \n",
       "t_fff847fc-b425-4bc7-b680-9879a07739d5 0_07e9e50d-501a-40f8-b308-91c577ebcba3       1   \n",
       "t_fffb45d3-9981-4fe5-99a2-0f3c37f9af96 0_091db187-0248-443d-bd6c-ac4949a43813       1   \n",
       "t_fffc5585-4ff9-4f73-a5ae-c67afa99fbb5 0_03bbcbdb-96a3-45ff-bfe5-da6eeda8f788       1   \n",
       "t_fffe4528-f29c-467c-a751-e9db03964faa 0_04df1099-09b2-4111-a06c-461b9519532b       1   \n",
       "                                       0_0a6bec07-725f-4e0e-9bad-415eec90583d       2   \n",
       "\n",
       "                                                                               not_skipped  \\\n",
       "track_id_clean                         session_id                                            \n",
       "t_00007fba-6bd3-449d-85dd-54d4aea397c2 0_04eb275f-a1ca-4f6c-9296-db886ac0cd94            1   \n",
       "t_0000dc06-0c00-4a09-9dc6-3bdad9c6f0e8 0_082ccf64-4696-427d-9187-177de8a3bcb0            4   \n",
       "t_00020dc1-1b82-43e9-8327-77b074bdf626 0_04451adf-4280-4dd1-9f28-f965041c3fbf            1   \n",
       "t_0003d374-de7a-44c0-a2b6-9ee6785a0750 0_0e40f541-b2e4-40da-b2f7-c1e4b59cd061            1   \n",
       "t_00042d9b-e795-41a9-89ad-504373dd4287 0_014171a0-08bf-4672-9ff0-a26d7063e9b6            1   \n",
       "...                                                                                    ...   \n",
       "t_fff847fc-b425-4bc7-b680-9879a07739d5 0_07e9e50d-501a-40f8-b308-91c577ebcba3            1   \n",
       "t_fffb45d3-9981-4fe5-99a2-0f3c37f9af96 0_091db187-0248-443d-bd6c-ac4949a43813            1   \n",
       "t_fffc5585-4ff9-4f73-a5ae-c67afa99fbb5 0_03bbcbdb-96a3-45ff-bfe5-da6eeda8f788            1   \n",
       "t_fffe4528-f29c-467c-a751-e9db03964faa 0_04df1099-09b2-4111-a06c-461b9519532b            1   \n",
       "                                       0_0a6bec07-725f-4e0e-9bad-415eec90583d            2   \n",
       "\n",
       "                                                                               context_switch  \\\n",
       "track_id_clean                         session_id                                               \n",
       "t_00007fba-6bd3-449d-85dd-54d4aea397c2 0_04eb275f-a1ca-4f6c-9296-db886ac0cd94               1   \n",
       "t_0000dc06-0c00-4a09-9dc6-3bdad9c6f0e8 0_082ccf64-4696-427d-9187-177de8a3bcb0               4   \n",
       "t_00020dc1-1b82-43e9-8327-77b074bdf626 0_04451adf-4280-4dd1-9f28-f965041c3fbf               1   \n",
       "t_0003d374-de7a-44c0-a2b6-9ee6785a0750 0_0e40f541-b2e4-40da-b2f7-c1e4b59cd061               1   \n",
       "t_00042d9b-e795-41a9-89ad-504373dd4287 0_014171a0-08bf-4672-9ff0-a26d7063e9b6               1   \n",
       "...                                                                                       ...   \n",
       "t_fff847fc-b425-4bc7-b680-9879a07739d5 0_07e9e50d-501a-40f8-b308-91c577ebcba3               1   \n",
       "t_fffb45d3-9981-4fe5-99a2-0f3c37f9af96 0_091db187-0248-443d-bd6c-ac4949a43813               1   \n",
       "t_fffc5585-4ff9-4f73-a5ae-c67afa99fbb5 0_03bbcbdb-96a3-45ff-bfe5-da6eeda8f788               1   \n",
       "t_fffe4528-f29c-467c-a751-e9db03964faa 0_04df1099-09b2-4111-a06c-461b9519532b               1   \n",
       "                                       0_0a6bec07-725f-4e0e-9bad-415eec90583d               2   \n",
       "\n",
       "                                                                               no_pause_before_play  \\\n",
       "track_id_clean                         session_id                                                     \n",
       "t_00007fba-6bd3-449d-85dd-54d4aea397c2 0_04eb275f-a1ca-4f6c-9296-db886ac0cd94                     1   \n",
       "t_0000dc06-0c00-4a09-9dc6-3bdad9c6f0e8 0_082ccf64-4696-427d-9187-177de8a3bcb0                     4   \n",
       "t_00020dc1-1b82-43e9-8327-77b074bdf626 0_04451adf-4280-4dd1-9f28-f965041c3fbf                     1   \n",
       "t_0003d374-de7a-44c0-a2b6-9ee6785a0750 0_0e40f541-b2e4-40da-b2f7-c1e4b59cd061                     1   \n",
       "t_00042d9b-e795-41a9-89ad-504373dd4287 0_014171a0-08bf-4672-9ff0-a26d7063e9b6                     1   \n",
       "...                                                                                             ...   \n",
       "t_fff847fc-b425-4bc7-b680-9879a07739d5 0_07e9e50d-501a-40f8-b308-91c577ebcba3                     1   \n",
       "t_fffb45d3-9981-4fe5-99a2-0f3c37f9af96 0_091db187-0248-443d-bd6c-ac4949a43813                     1   \n",
       "t_fffc5585-4ff9-4f73-a5ae-c67afa99fbb5 0_03bbcbdb-96a3-45ff-bfe5-da6eeda8f788                     1   \n",
       "t_fffe4528-f29c-467c-a751-e9db03964faa 0_04df1099-09b2-4111-a06c-461b9519532b                     1   \n",
       "                                       0_0a6bec07-725f-4e0e-9bad-415eec90583d                     2   \n",
       "\n",
       "                                                                               short_pause_before_play  \\\n",
       "track_id_clean                         session_id                                                        \n",
       "t_00007fba-6bd3-449d-85dd-54d4aea397c2 0_04eb275f-a1ca-4f6c-9296-db886ac0cd94                        1   \n",
       "t_0000dc06-0c00-4a09-9dc6-3bdad9c6f0e8 0_082ccf64-4696-427d-9187-177de8a3bcb0                        4   \n",
       "t_00020dc1-1b82-43e9-8327-77b074bdf626 0_04451adf-4280-4dd1-9f28-f965041c3fbf                        1   \n",
       "t_0003d374-de7a-44c0-a2b6-9ee6785a0750 0_0e40f541-b2e4-40da-b2f7-c1e4b59cd061                        1   \n",
       "t_00042d9b-e795-41a9-89ad-504373dd4287 0_014171a0-08bf-4672-9ff0-a26d7063e9b6                        1   \n",
       "...                                                                                                ...   \n",
       "t_fff847fc-b425-4bc7-b680-9879a07739d5 0_07e9e50d-501a-40f8-b308-91c577ebcba3                        1   \n",
       "t_fffb45d3-9981-4fe5-99a2-0f3c37f9af96 0_091db187-0248-443d-bd6c-ac4949a43813                        1   \n",
       "t_fffc5585-4ff9-4f73-a5ae-c67afa99fbb5 0_03bbcbdb-96a3-45ff-bfe5-da6eeda8f788                        1   \n",
       "t_fffe4528-f29c-467c-a751-e9db03964faa 0_04df1099-09b2-4111-a06c-461b9519532b                        1   \n",
       "                                       0_0a6bec07-725f-4e0e-9bad-415eec90583d                        2   \n",
       "\n",
       "                                                                               long_pause_before_play  \\\n",
       "track_id_clean                         session_id                                                       \n",
       "t_00007fba-6bd3-449d-85dd-54d4aea397c2 0_04eb275f-a1ca-4f6c-9296-db886ac0cd94                       1   \n",
       "t_0000dc06-0c00-4a09-9dc6-3bdad9c6f0e8 0_082ccf64-4696-427d-9187-177de8a3bcb0                       4   \n",
       "t_00020dc1-1b82-43e9-8327-77b074bdf626 0_04451adf-4280-4dd1-9f28-f965041c3fbf                       1   \n",
       "t_0003d374-de7a-44c0-a2b6-9ee6785a0750 0_0e40f541-b2e4-40da-b2f7-c1e4b59cd061                       1   \n",
       "t_00042d9b-e795-41a9-89ad-504373dd4287 0_014171a0-08bf-4672-9ff0-a26d7063e9b6                       1   \n",
       "...                                                                                               ...   \n",
       "t_fff847fc-b425-4bc7-b680-9879a07739d5 0_07e9e50d-501a-40f8-b308-91c577ebcba3                       1   \n",
       "t_fffb45d3-9981-4fe5-99a2-0f3c37f9af96 0_091db187-0248-443d-bd6c-ac4949a43813                       1   \n",
       "t_fffc5585-4ff9-4f73-a5ae-c67afa99fbb5 0_03bbcbdb-96a3-45ff-bfe5-da6eeda8f788                       1   \n",
       "t_fffe4528-f29c-467c-a751-e9db03964faa 0_04df1099-09b2-4111-a06c-461b9519532b                       1   \n",
       "                                       0_0a6bec07-725f-4e0e-9bad-415eec90583d                       2   \n",
       "\n",
       "                                                                               hist_user_behavior_n_seekfwd  \\\n",
       "track_id_clean                         session_id                                                             \n",
       "t_00007fba-6bd3-449d-85dd-54d4aea397c2 0_04eb275f-a1ca-4f6c-9296-db886ac0cd94                             1   \n",
       "t_0000dc06-0c00-4a09-9dc6-3bdad9c6f0e8 0_082ccf64-4696-427d-9187-177de8a3bcb0                             4   \n",
       "t_00020dc1-1b82-43e9-8327-77b074bdf626 0_04451adf-4280-4dd1-9f28-f965041c3fbf                             1   \n",
       "t_0003d374-de7a-44c0-a2b6-9ee6785a0750 0_0e40f541-b2e4-40da-b2f7-c1e4b59cd061                             1   \n",
       "t_00042d9b-e795-41a9-89ad-504373dd4287 0_014171a0-08bf-4672-9ff0-a26d7063e9b6                             1   \n",
       "...                                                                                                     ...   \n",
       "t_fff847fc-b425-4bc7-b680-9879a07739d5 0_07e9e50d-501a-40f8-b308-91c577ebcba3                             1   \n",
       "t_fffb45d3-9981-4fe5-99a2-0f3c37f9af96 0_091db187-0248-443d-bd6c-ac4949a43813                             1   \n",
       "t_fffc5585-4ff9-4f73-a5ae-c67afa99fbb5 0_03bbcbdb-96a3-45ff-bfe5-da6eeda8f788                             1   \n",
       "t_fffe4528-f29c-467c-a751-e9db03964faa 0_04df1099-09b2-4111-a06c-461b9519532b                             1   \n",
       "                                       0_0a6bec07-725f-4e0e-9bad-415eec90583d                             2   \n",
       "\n",
       "                                                                               hist_user_behavior_n_seekback  \\\n",
       "track_id_clean                         session_id                                                              \n",
       "t_00007fba-6bd3-449d-85dd-54d4aea397c2 0_04eb275f-a1ca-4f6c-9296-db886ac0cd94                              1   \n",
       "t_0000dc06-0c00-4a09-9dc6-3bdad9c6f0e8 0_082ccf64-4696-427d-9187-177de8a3bcb0                              4   \n",
       "t_00020dc1-1b82-43e9-8327-77b074bdf626 0_04451adf-4280-4dd1-9f28-f965041c3fbf                              1   \n",
       "t_0003d374-de7a-44c0-a2b6-9ee6785a0750 0_0e40f541-b2e4-40da-b2f7-c1e4b59cd061                              1   \n",
       "t_00042d9b-e795-41a9-89ad-504373dd4287 0_014171a0-08bf-4672-9ff0-a26d7063e9b6                              1   \n",
       "...                                                                                                      ...   \n",
       "t_fff847fc-b425-4bc7-b680-9879a07739d5 0_07e9e50d-501a-40f8-b308-91c577ebcba3                              1   \n",
       "t_fffb45d3-9981-4fe5-99a2-0f3c37f9af96 0_091db187-0248-443d-bd6c-ac4949a43813                              1   \n",
       "t_fffc5585-4ff9-4f73-a5ae-c67afa99fbb5 0_03bbcbdb-96a3-45ff-bfe5-da6eeda8f788                              1   \n",
       "t_fffe4528-f29c-467c-a751-e9db03964faa 0_04df1099-09b2-4111-a06c-461b9519532b                              1   \n",
       "                                       0_0a6bec07-725f-4e0e-9bad-415eec90583d                              2   \n",
       "\n",
       "                                                                               hist_user_behavior_is_shuffle  \\\n",
       "track_id_clean                         session_id                                                              \n",
       "t_00007fba-6bd3-449d-85dd-54d4aea397c2 0_04eb275f-a1ca-4f6c-9296-db886ac0cd94                              1   \n",
       "t_0000dc06-0c00-4a09-9dc6-3bdad9c6f0e8 0_082ccf64-4696-427d-9187-177de8a3bcb0                              4   \n",
       "t_00020dc1-1b82-43e9-8327-77b074bdf626 0_04451adf-4280-4dd1-9f28-f965041c3fbf                              1   \n",
       "t_0003d374-de7a-44c0-a2b6-9ee6785a0750 0_0e40f541-b2e4-40da-b2f7-c1e4b59cd061                              1   \n",
       "t_00042d9b-e795-41a9-89ad-504373dd4287 0_014171a0-08bf-4672-9ff0-a26d7063e9b6                              1   \n",
       "...                                                                                                      ...   \n",
       "t_fff847fc-b425-4bc7-b680-9879a07739d5 0_07e9e50d-501a-40f8-b308-91c577ebcba3                              1   \n",
       "t_fffb45d3-9981-4fe5-99a2-0f3c37f9af96 0_091db187-0248-443d-bd6c-ac4949a43813                              1   \n",
       "t_fffc5585-4ff9-4f73-a5ae-c67afa99fbb5 0_03bbcbdb-96a3-45ff-bfe5-da6eeda8f788                              1   \n",
       "t_fffe4528-f29c-467c-a751-e9db03964faa 0_04df1099-09b2-4111-a06c-461b9519532b                              1   \n",
       "                                       0_0a6bec07-725f-4e0e-9bad-415eec90583d                              2   \n",
       "\n",
       "                                                                               hour_of_day  \\\n",
       "track_id_clean                         session_id                                            \n",
       "t_00007fba-6bd3-449d-85dd-54d4aea397c2 0_04eb275f-a1ca-4f6c-9296-db886ac0cd94            1   \n",
       "t_0000dc06-0c00-4a09-9dc6-3bdad9c6f0e8 0_082ccf64-4696-427d-9187-177de8a3bcb0            4   \n",
       "t_00020dc1-1b82-43e9-8327-77b074bdf626 0_04451adf-4280-4dd1-9f28-f965041c3fbf            1   \n",
       "t_0003d374-de7a-44c0-a2b6-9ee6785a0750 0_0e40f541-b2e4-40da-b2f7-c1e4b59cd061            1   \n",
       "t_00042d9b-e795-41a9-89ad-504373dd4287 0_014171a0-08bf-4672-9ff0-a26d7063e9b6            1   \n",
       "...                                                                                    ...   \n",
       "t_fff847fc-b425-4bc7-b680-9879a07739d5 0_07e9e50d-501a-40f8-b308-91c577ebcba3            1   \n",
       "t_fffb45d3-9981-4fe5-99a2-0f3c37f9af96 0_091db187-0248-443d-bd6c-ac4949a43813            1   \n",
       "t_fffc5585-4ff9-4f73-a5ae-c67afa99fbb5 0_03bbcbdb-96a3-45ff-bfe5-da6eeda8f788            1   \n",
       "t_fffe4528-f29c-467c-a751-e9db03964faa 0_04df1099-09b2-4111-a06c-461b9519532b            1   \n",
       "                                       0_0a6bec07-725f-4e0e-9bad-415eec90583d            2   \n",
       "\n",
       "                                                                               date  \\\n",
       "track_id_clean                         session_id                                     \n",
       "t_00007fba-6bd3-449d-85dd-54d4aea397c2 0_04eb275f-a1ca-4f6c-9296-db886ac0cd94     1   \n",
       "t_0000dc06-0c00-4a09-9dc6-3bdad9c6f0e8 0_082ccf64-4696-427d-9187-177de8a3bcb0     4   \n",
       "t_00020dc1-1b82-43e9-8327-77b074bdf626 0_04451adf-4280-4dd1-9f28-f965041c3fbf     1   \n",
       "t_0003d374-de7a-44c0-a2b6-9ee6785a0750 0_0e40f541-b2e4-40da-b2f7-c1e4b59cd061     1   \n",
       "t_00042d9b-e795-41a9-89ad-504373dd4287 0_014171a0-08bf-4672-9ff0-a26d7063e9b6     1   \n",
       "...                                                                             ...   \n",
       "t_fff847fc-b425-4bc7-b680-9879a07739d5 0_07e9e50d-501a-40f8-b308-91c577ebcba3     1   \n",
       "t_fffb45d3-9981-4fe5-99a2-0f3c37f9af96 0_091db187-0248-443d-bd6c-ac4949a43813     1   \n",
       "t_fffc5585-4ff9-4f73-a5ae-c67afa99fbb5 0_03bbcbdb-96a3-45ff-bfe5-da6eeda8f788     1   \n",
       "t_fffe4528-f29c-467c-a751-e9db03964faa 0_04df1099-09b2-4111-a06c-461b9519532b     1   \n",
       "                                       0_0a6bec07-725f-4e0e-9bad-415eec90583d     2   \n",
       "\n",
       "                                                                               premium  \\\n",
       "track_id_clean                         session_id                                        \n",
       "t_00007fba-6bd3-449d-85dd-54d4aea397c2 0_04eb275f-a1ca-4f6c-9296-db886ac0cd94        1   \n",
       "t_0000dc06-0c00-4a09-9dc6-3bdad9c6f0e8 0_082ccf64-4696-427d-9187-177de8a3bcb0        4   \n",
       "t_00020dc1-1b82-43e9-8327-77b074bdf626 0_04451adf-4280-4dd1-9f28-f965041c3fbf        1   \n",
       "t_0003d374-de7a-44c0-a2b6-9ee6785a0750 0_0e40f541-b2e4-40da-b2f7-c1e4b59cd061        1   \n",
       "t_00042d9b-e795-41a9-89ad-504373dd4287 0_014171a0-08bf-4672-9ff0-a26d7063e9b6        1   \n",
       "...                                                                                ...   \n",
       "t_fff847fc-b425-4bc7-b680-9879a07739d5 0_07e9e50d-501a-40f8-b308-91c577ebcba3        1   \n",
       "t_fffb45d3-9981-4fe5-99a2-0f3c37f9af96 0_091db187-0248-443d-bd6c-ac4949a43813        1   \n",
       "t_fffc5585-4ff9-4f73-a5ae-c67afa99fbb5 0_03bbcbdb-96a3-45ff-bfe5-da6eeda8f788        1   \n",
       "t_fffe4528-f29c-467c-a751-e9db03964faa 0_04df1099-09b2-4111-a06c-461b9519532b        1   \n",
       "                                       0_0a6bec07-725f-4e0e-9bad-415eec90583d        2   \n",
       "\n",
       "                                                                               context_type  \\\n",
       "track_id_clean                         session_id                                             \n",
       "t_00007fba-6bd3-449d-85dd-54d4aea397c2 0_04eb275f-a1ca-4f6c-9296-db886ac0cd94             1   \n",
       "t_0000dc06-0c00-4a09-9dc6-3bdad9c6f0e8 0_082ccf64-4696-427d-9187-177de8a3bcb0             4   \n",
       "t_00020dc1-1b82-43e9-8327-77b074bdf626 0_04451adf-4280-4dd1-9f28-f965041c3fbf             1   \n",
       "t_0003d374-de7a-44c0-a2b6-9ee6785a0750 0_0e40f541-b2e4-40da-b2f7-c1e4b59cd061             1   \n",
       "t_00042d9b-e795-41a9-89ad-504373dd4287 0_014171a0-08bf-4672-9ff0-a26d7063e9b6             1   \n",
       "...                                                                                     ...   \n",
       "t_fff847fc-b425-4bc7-b680-9879a07739d5 0_07e9e50d-501a-40f8-b308-91c577ebcba3             1   \n",
       "t_fffb45d3-9981-4fe5-99a2-0f3c37f9af96 0_091db187-0248-443d-bd6c-ac4949a43813             1   \n",
       "t_fffc5585-4ff9-4f73-a5ae-c67afa99fbb5 0_03bbcbdb-96a3-45ff-bfe5-da6eeda8f788             1   \n",
       "t_fffe4528-f29c-467c-a751-e9db03964faa 0_04df1099-09b2-4111-a06c-461b9519532b             1   \n",
       "                                       0_0a6bec07-725f-4e0e-9bad-415eec90583d             2   \n",
       "\n",
       "                                                                               hist_user_behavior_reason_start  \\\n",
       "track_id_clean                         session_id                                                                \n",
       "t_00007fba-6bd3-449d-85dd-54d4aea397c2 0_04eb275f-a1ca-4f6c-9296-db886ac0cd94                                1   \n",
       "t_0000dc06-0c00-4a09-9dc6-3bdad9c6f0e8 0_082ccf64-4696-427d-9187-177de8a3bcb0                                4   \n",
       "t_00020dc1-1b82-43e9-8327-77b074bdf626 0_04451adf-4280-4dd1-9f28-f965041c3fbf                                1   \n",
       "t_0003d374-de7a-44c0-a2b6-9ee6785a0750 0_0e40f541-b2e4-40da-b2f7-c1e4b59cd061                                1   \n",
       "t_00042d9b-e795-41a9-89ad-504373dd4287 0_014171a0-08bf-4672-9ff0-a26d7063e9b6                                1   \n",
       "...                                                                                                        ...   \n",
       "t_fff847fc-b425-4bc7-b680-9879a07739d5 0_07e9e50d-501a-40f8-b308-91c577ebcba3                                1   \n",
       "t_fffb45d3-9981-4fe5-99a2-0f3c37f9af96 0_091db187-0248-443d-bd6c-ac4949a43813                                1   \n",
       "t_fffc5585-4ff9-4f73-a5ae-c67afa99fbb5 0_03bbcbdb-96a3-45ff-bfe5-da6eeda8f788                                1   \n",
       "t_fffe4528-f29c-467c-a751-e9db03964faa 0_04df1099-09b2-4111-a06c-461b9519532b                                1   \n",
       "                                       0_0a6bec07-725f-4e0e-9bad-415eec90583d                                2   \n",
       "\n",
       "                                                                               hist_user_behavior_reason_end  \n",
       "track_id_clean                         session_id                                                             \n",
       "t_00007fba-6bd3-449d-85dd-54d4aea397c2 0_04eb275f-a1ca-4f6c-9296-db886ac0cd94                              1  \n",
       "t_0000dc06-0c00-4a09-9dc6-3bdad9c6f0e8 0_082ccf64-4696-427d-9187-177de8a3bcb0                              4  \n",
       "t_00020dc1-1b82-43e9-8327-77b074bdf626 0_04451adf-4280-4dd1-9f28-f965041c3fbf                              1  \n",
       "t_0003d374-de7a-44c0-a2b6-9ee6785a0750 0_0e40f541-b2e4-40da-b2f7-c1e4b59cd061                              1  \n",
       "t_00042d9b-e795-41a9-89ad-504373dd4287 0_014171a0-08bf-4672-9ff0-a26d7063e9b6                              1  \n",
       "...                                                                                                      ...  \n",
       "t_fff847fc-b425-4bc7-b680-9879a07739d5 0_07e9e50d-501a-40f8-b308-91c577ebcba3                              1  \n",
       "t_fffb45d3-9981-4fe5-99a2-0f3c37f9af96 0_091db187-0248-443d-bd6c-ac4949a43813                              1  \n",
       "t_fffc5585-4ff9-4f73-a5ae-c67afa99fbb5 0_03bbcbdb-96a3-45ff-bfe5-da6eeda8f788                              1  \n",
       "t_fffe4528-f29c-467c-a751-e9db03964faa 0_04df1099-09b2-4111-a06c-461b9519532b                              1  \n",
       "                                       0_0a6bec07-725f-4e0e-9bad-415eec90583d                              2  \n",
       "\n",
       "[146108 rows x 19 columns]"
      ]
     },
     "execution_count": 51,
     "metadata": {},
     "output_type": "execute_result"
    }
   ],
   "source": [
    "spotify_set.groupby(by=[\"track_id_clean\",\"session_id\"]).count()"
   ]
  },
  {
   "cell_type": "code",
   "execution_count": 52,
   "metadata": {},
   "outputs": [
    {
     "data": {
      "text/plain": [
       "117176"
      ]
     },
     "execution_count": 52,
     "metadata": {},
     "output_type": "execute_result"
    }
   ],
   "source": [
    "spotify_set.duplicated(subset='track_id_clean', keep='first').sum()"
   ]
  },
  {
   "cell_type": "code",
   "execution_count": 53,
   "metadata": {},
   "outputs": [
    {
     "data": {
      "text/plain": [
       "167880"
      ]
     },
     "execution_count": 53,
     "metadata": {},
     "output_type": "execute_result"
    }
   ],
   "source": [
    "len(spotify_set[\"track_id_clean\"])"
   ]
  },
  {
   "cell_type": "code",
   "execution_count": 61,
   "metadata": {},
   "outputs": [
    {
     "data": {
      "text/plain": [
       "157880"
      ]
     },
     "execution_count": 61,
     "metadata": {},
     "output_type": "execute_result"
    }
   ],
   "source": [
    "spotify_set.duplicated(subset='session_id', keep='first').sum()"
   ]
  },
  {
   "cell_type": "markdown",
   "metadata": {},
   "source": [
    "**I42 - Check that the format of the track's IDs fit to the format of the session's IDs\n",
    "**I 43 - Check whether all the tracks in the sessions appear in the track dataset"
   ]
  },
  {
   "cell_type": "code",
   "execution_count": 62,
   "metadata": {},
   "outputs": [
    {
     "ename": "KeyboardInterrupt",
     "evalue": "",
     "output_type": "error",
     "traceback": [
      "\u001b[1;31m---------------------------------------------------------------------------\u001b[0m",
      "\u001b[1;31mKeyboardInterrupt\u001b[0m                         Traceback (most recent call last)",
      "\u001b[1;32m<ipython-input-62-8bfb61be28ec>\u001b[0m in \u001b[0;36m<module>\u001b[1;34m\u001b[0m\n\u001b[0;32m      3\u001b[0m \u001b[1;32mfor\u001b[0m \u001b[0ma\u001b[0m \u001b[1;32min\u001b[0m \u001b[0mspotify_set\u001b[0m\u001b[1;33m[\u001b[0m\u001b[1;34m\"track_id_clean\"\u001b[0m\u001b[1;33m]\u001b[0m\u001b[1;33m:\u001b[0m\u001b[1;33m\u001b[0m\u001b[1;33m\u001b[0m\u001b[0m\n\u001b[0;32m      4\u001b[0m     \u001b[1;32mfor\u001b[0m \u001b[0mb\u001b[0m \u001b[1;32min\u001b[0m \u001b[0mspotify_track\u001b[0m\u001b[1;33m[\u001b[0m\u001b[1;34m\"track_id\"\u001b[0m\u001b[1;33m]\u001b[0m\u001b[1;33m:\u001b[0m\u001b[1;33m\u001b[0m\u001b[1;33m\u001b[0m\u001b[0m\n\u001b[1;32m----> 5\u001b[1;33m         \u001b[1;32mif\u001b[0m \u001b[0ma\u001b[0m \u001b[1;33m==\u001b[0m \u001b[0mb\u001b[0m\u001b[1;33m:\u001b[0m\u001b[1;33m\u001b[0m\u001b[1;33m\u001b[0m\u001b[0m\n\u001b[0m\u001b[0;32m      6\u001b[0m             \u001b[0mi43\u001b[0m\u001b[1;33m.\u001b[0m\u001b[0mappend\u001b[0m\u001b[1;33m(\u001b[0m\u001b[0ma\u001b[0m\u001b[1;33m)\u001b[0m\u001b[1;33m\u001b[0m\u001b[1;33m\u001b[0m\u001b[0m\n\u001b[0;32m      7\u001b[0m \u001b[1;33m\u001b[0m\u001b[0m\n",
      "\u001b[1;31mKeyboardInterrupt\u001b[0m: "
     ]
    }
   ],
   "source": [
    "i43 = []\n",
    "\n",
    "for a in spotify_set[\"track_id_clean\"]:\n",
    "    for b in spotify_track[\"track_id\"]:\n",
    "        if a == b:\n",
    "            i43.append(a)\n",
    "        \n",
    "i43\n",
    "\n",
    "# When we want to compare elements in the different columns using a loop, we need to define a different \"element\" (a,b) for each different column"
   ]
  },
  {
   "cell_type": "code",
   "execution_count": 56,
   "metadata": {},
   "outputs": [
    {
     "data": {
      "text/plain": [
       "50704"
      ]
     },
     "execution_count": 56,
     "metadata": {},
     "output_type": "execute_result"
    }
   ],
   "source": [
    "len(set(spotify_track[\"track_id\"]).intersection(set(spotify_set[\"track_id_clean\"])))"
   ]
  },
  {
   "cell_type": "markdown",
   "metadata": {},
   "source": [
    "**I44 - Join the 2 datasets into 1. NOW IT IS THE MOMENT."
   ]
  },
  {
   "cell_type": "code",
   "execution_count": 64,
   "metadata": {},
   "outputs": [
    {
     "data": {
      "text/html": [
       "<div>\n",
       "<style scoped>\n",
       "    .dataframe tbody tr th:only-of-type {\n",
       "        vertical-align: middle;\n",
       "    }\n",
       "\n",
       "    .dataframe tbody tr th {\n",
       "        vertical-align: top;\n",
       "    }\n",
       "\n",
       "    .dataframe thead th {\n",
       "        text-align: right;\n",
       "    }\n",
       "</style>\n",
       "<table border=\"1\" class=\"dataframe\">\n",
       "  <thead>\n",
       "    <tr style=\"text-align: right;\">\n",
       "      <th></th>\n",
       "      <th>session_id</th>\n",
       "      <th>session_position</th>\n",
       "      <th>session_length</th>\n",
       "      <th>track_id_clean</th>\n",
       "      <th>skip_1</th>\n",
       "      <th>skip_2</th>\n",
       "      <th>skip_3</th>\n",
       "      <th>not_skipped</th>\n",
       "      <th>context_switch</th>\n",
       "      <th>no_pause_before_play</th>\n",
       "      <th>...</th>\n",
       "      <th>time_signature</th>\n",
       "      <th>valence</th>\n",
       "      <th>acoustic_vector_0</th>\n",
       "      <th>acoustic_vector_1</th>\n",
       "      <th>acoustic_vector_2</th>\n",
       "      <th>acoustic_vector_3</th>\n",
       "      <th>acoustic_vector_4</th>\n",
       "      <th>acoustic_vector_5</th>\n",
       "      <th>acoustic_vector_6</th>\n",
       "      <th>acoustic_vector_7</th>\n",
       "    </tr>\n",
       "  </thead>\n",
       "  <tbody>\n",
       "    <tr>\n",
       "      <th>0</th>\n",
       "      <td>0_00006f66-33e5-4de7-a324-2d18e439fc1e</td>\n",
       "      <td>1</td>\n",
       "      <td>20</td>\n",
       "      <td>t_0479f24c-27d2-46d6-a00c-7ec928f2b539</td>\n",
       "      <td>False</td>\n",
       "      <td>False</td>\n",
       "      <td>False</td>\n",
       "      <td>True</td>\n",
       "      <td>0</td>\n",
       "      <td>0</td>\n",
       "      <td>...</td>\n",
       "      <td>4</td>\n",
       "      <td>0.152255</td>\n",
       "      <td>-0.815775</td>\n",
       "      <td>0.386409</td>\n",
       "      <td>0.230160</td>\n",
       "      <td>0.028028</td>\n",
       "      <td>-0.333373</td>\n",
       "      <td>0.015452</td>\n",
       "      <td>-0.353590</td>\n",
       "      <td>0.205826</td>\n",
       "    </tr>\n",
       "    <tr>\n",
       "      <th>1</th>\n",
       "      <td>0_00079a23-1600-486a-91bd-5208be0c745a</td>\n",
       "      <td>7</td>\n",
       "      <td>12</td>\n",
       "      <td>t_0479f24c-27d2-46d6-a00c-7ec928f2b539</td>\n",
       "      <td>False</td>\n",
       "      <td>False</td>\n",
       "      <td>True</td>\n",
       "      <td>False</td>\n",
       "      <td>0</td>\n",
       "      <td>0</td>\n",
       "      <td>...</td>\n",
       "      <td>4</td>\n",
       "      <td>0.152255</td>\n",
       "      <td>-0.815775</td>\n",
       "      <td>0.386409</td>\n",
       "      <td>0.230160</td>\n",
       "      <td>0.028028</td>\n",
       "      <td>-0.333373</td>\n",
       "      <td>0.015452</td>\n",
       "      <td>-0.353590</td>\n",
       "      <td>0.205826</td>\n",
       "    </tr>\n",
       "    <tr>\n",
       "      <th>2</th>\n",
       "      <td>0_012b0fb4-0cc3-429f-9a78-cc6e622153fb</td>\n",
       "      <td>6</td>\n",
       "      <td>20</td>\n",
       "      <td>t_0479f24c-27d2-46d6-a00c-7ec928f2b539</td>\n",
       "      <td>False</td>\n",
       "      <td>False</td>\n",
       "      <td>False</td>\n",
       "      <td>True</td>\n",
       "      <td>0</td>\n",
       "      <td>0</td>\n",
       "      <td>...</td>\n",
       "      <td>4</td>\n",
       "      <td>0.152255</td>\n",
       "      <td>-0.815775</td>\n",
       "      <td>0.386409</td>\n",
       "      <td>0.230160</td>\n",
       "      <td>0.028028</td>\n",
       "      <td>-0.333373</td>\n",
       "      <td>0.015452</td>\n",
       "      <td>-0.353590</td>\n",
       "      <td>0.205826</td>\n",
       "    </tr>\n",
       "    <tr>\n",
       "      <th>3</th>\n",
       "      <td>0_013cc010-c476-4ad2-8972-73449e0b2ef4</td>\n",
       "      <td>9</td>\n",
       "      <td>13</td>\n",
       "      <td>t_0479f24c-27d2-46d6-a00c-7ec928f2b539</td>\n",
       "      <td>False</td>\n",
       "      <td>False</td>\n",
       "      <td>False</td>\n",
       "      <td>True</td>\n",
       "      <td>0</td>\n",
       "      <td>1</td>\n",
       "      <td>...</td>\n",
       "      <td>4</td>\n",
       "      <td>0.152255</td>\n",
       "      <td>-0.815775</td>\n",
       "      <td>0.386409</td>\n",
       "      <td>0.230160</td>\n",
       "      <td>0.028028</td>\n",
       "      <td>-0.333373</td>\n",
       "      <td>0.015452</td>\n",
       "      <td>-0.353590</td>\n",
       "      <td>0.205826</td>\n",
       "    </tr>\n",
       "    <tr>\n",
       "      <th>4</th>\n",
       "      <td>0_01a5f0dc-9938-48c9-92f1-c7e51f34d290</td>\n",
       "      <td>7</td>\n",
       "      <td>12</td>\n",
       "      <td>t_0479f24c-27d2-46d6-a00c-7ec928f2b539</td>\n",
       "      <td>False</td>\n",
       "      <td>False</td>\n",
       "      <td>True</td>\n",
       "      <td>False</td>\n",
       "      <td>0</td>\n",
       "      <td>0</td>\n",
       "      <td>...</td>\n",
       "      <td>4</td>\n",
       "      <td>0.152255</td>\n",
       "      <td>-0.815775</td>\n",
       "      <td>0.386409</td>\n",
       "      <td>0.230160</td>\n",
       "      <td>0.028028</td>\n",
       "      <td>-0.333373</td>\n",
       "      <td>0.015452</td>\n",
       "      <td>-0.353590</td>\n",
       "      <td>0.205826</td>\n",
       "    </tr>\n",
       "    <tr>\n",
       "      <th>...</th>\n",
       "      <td>...</td>\n",
       "      <td>...</td>\n",
       "      <td>...</td>\n",
       "      <td>...</td>\n",
       "      <td>...</td>\n",
       "      <td>...</td>\n",
       "      <td>...</td>\n",
       "      <td>...</td>\n",
       "      <td>...</td>\n",
       "      <td>...</td>\n",
       "      <td>...</td>\n",
       "      <td>...</td>\n",
       "      <td>...</td>\n",
       "      <td>...</td>\n",
       "      <td>...</td>\n",
       "      <td>...</td>\n",
       "      <td>...</td>\n",
       "      <td>...</td>\n",
       "      <td>...</td>\n",
       "      <td>...</td>\n",
       "      <td>...</td>\n",
       "    </tr>\n",
       "    <tr>\n",
       "      <th>167875</th>\n",
       "      <td>0_0ead11fc-f32c-4eb4-8fc1-15b51432a404</td>\n",
       "      <td>8</td>\n",
       "      <td>20</td>\n",
       "      <td>t_c6d511e7-d986-4614-b694-ace9df48a665</td>\n",
       "      <td>True</td>\n",
       "      <td>True</td>\n",
       "      <td>True</td>\n",
       "      <td>False</td>\n",
       "      <td>0</td>\n",
       "      <td>0</td>\n",
       "      <td>...</td>\n",
       "      <td>4</td>\n",
       "      <td>0.599401</td>\n",
       "      <td>-0.842907</td>\n",
       "      <td>0.325243</td>\n",
       "      <td>0.207480</td>\n",
       "      <td>0.064804</td>\n",
       "      <td>-0.258140</td>\n",
       "      <td>-0.001348</td>\n",
       "      <td>-0.548543</td>\n",
       "      <td>0.176667</td>\n",
       "    </tr>\n",
       "    <tr>\n",
       "      <th>167876</th>\n",
       "      <td>0_0ead11fc-f32c-4eb4-8fc1-15b51432a404</td>\n",
       "      <td>10</td>\n",
       "      <td>20</td>\n",
       "      <td>t_44a3360f-a06d-458a-91fc-4d9efa506697</td>\n",
       "      <td>True</td>\n",
       "      <td>True</td>\n",
       "      <td>True</td>\n",
       "      <td>False</td>\n",
       "      <td>0</td>\n",
       "      <td>0</td>\n",
       "      <td>...</td>\n",
       "      <td>4</td>\n",
       "      <td>0.322569</td>\n",
       "      <td>-0.922512</td>\n",
       "      <td>0.331971</td>\n",
       "      <td>0.218592</td>\n",
       "      <td>0.093307</td>\n",
       "      <td>-0.309999</td>\n",
       "      <td>-0.004573</td>\n",
       "      <td>-0.549420</td>\n",
       "      <td>0.219733</td>\n",
       "    </tr>\n",
       "    <tr>\n",
       "      <th>167877</th>\n",
       "      <td>0_0ead11fc-f32c-4eb4-8fc1-15b51432a404</td>\n",
       "      <td>16</td>\n",
       "      <td>20</td>\n",
       "      <td>t_3f71a175-f7ca-4cd4-829d-65fc82b09486</td>\n",
       "      <td>False</td>\n",
       "      <td>False</td>\n",
       "      <td>False</td>\n",
       "      <td>True</td>\n",
       "      <td>0</td>\n",
       "      <td>1</td>\n",
       "      <td>...</td>\n",
       "      <td>4</td>\n",
       "      <td>0.443760</td>\n",
       "      <td>-0.771976</td>\n",
       "      <td>0.383800</td>\n",
       "      <td>0.367541</td>\n",
       "      <td>0.026499</td>\n",
       "      <td>-0.370684</td>\n",
       "      <td>0.083014</td>\n",
       "      <td>-0.334056</td>\n",
       "      <td>0.097527</td>\n",
       "    </tr>\n",
       "    <tr>\n",
       "      <th>167878</th>\n",
       "      <td>0_0ead11fc-f32c-4eb4-8fc1-15b51432a404</td>\n",
       "      <td>17</td>\n",
       "      <td>20</td>\n",
       "      <td>t_ac792fc0-a591-4c0f-a03c-652a97a864d2</td>\n",
       "      <td>False</td>\n",
       "      <td>False</td>\n",
       "      <td>True</td>\n",
       "      <td>False</td>\n",
       "      <td>0</td>\n",
       "      <td>0</td>\n",
       "      <td>...</td>\n",
       "      <td>4</td>\n",
       "      <td>0.416596</td>\n",
       "      <td>-0.978526</td>\n",
       "      <td>0.346568</td>\n",
       "      <td>0.250859</td>\n",
       "      <td>0.163195</td>\n",
       "      <td>-0.274763</td>\n",
       "      <td>-0.047336</td>\n",
       "      <td>-0.546883</td>\n",
       "      <td>0.142521</td>\n",
       "    </tr>\n",
       "    <tr>\n",
       "      <th>167879</th>\n",
       "      <td>0_0ead11fc-f32c-4eb4-8fc1-15b51432a404</td>\n",
       "      <td>20</td>\n",
       "      <td>20</td>\n",
       "      <td>t_76cb529c-86e9-41e2-a136-f5bd97481a9a</td>\n",
       "      <td>True</td>\n",
       "      <td>True</td>\n",
       "      <td>True</td>\n",
       "      <td>False</td>\n",
       "      <td>0</td>\n",
       "      <td>0</td>\n",
       "      <td>...</td>\n",
       "      <td>4</td>\n",
       "      <td>0.583041</td>\n",
       "      <td>-0.883477</td>\n",
       "      <td>0.275426</td>\n",
       "      <td>0.203538</td>\n",
       "      <td>0.146071</td>\n",
       "      <td>-0.287761</td>\n",
       "      <td>-0.047060</td>\n",
       "      <td>-0.573223</td>\n",
       "      <td>0.141425</td>\n",
       "    </tr>\n",
       "  </tbody>\n",
       "</table>\n",
       "<p>167880 rows × 51 columns</p>\n",
       "</div>"
      ],
      "text/plain": [
       "                                    session_id  session_position  \\\n",
       "0       0_00006f66-33e5-4de7-a324-2d18e439fc1e                 1   \n",
       "1       0_00079a23-1600-486a-91bd-5208be0c745a                 7   \n",
       "2       0_012b0fb4-0cc3-429f-9a78-cc6e622153fb                 6   \n",
       "3       0_013cc010-c476-4ad2-8972-73449e0b2ef4                 9   \n",
       "4       0_01a5f0dc-9938-48c9-92f1-c7e51f34d290                 7   \n",
       "...                                        ...               ...   \n",
       "167875  0_0ead11fc-f32c-4eb4-8fc1-15b51432a404                 8   \n",
       "167876  0_0ead11fc-f32c-4eb4-8fc1-15b51432a404                10   \n",
       "167877  0_0ead11fc-f32c-4eb4-8fc1-15b51432a404                16   \n",
       "167878  0_0ead11fc-f32c-4eb4-8fc1-15b51432a404                17   \n",
       "167879  0_0ead11fc-f32c-4eb4-8fc1-15b51432a404                20   \n",
       "\n",
       "        session_length                          track_id_clean  skip_1  \\\n",
       "0                   20  t_0479f24c-27d2-46d6-a00c-7ec928f2b539   False   \n",
       "1                   12  t_0479f24c-27d2-46d6-a00c-7ec928f2b539   False   \n",
       "2                   20  t_0479f24c-27d2-46d6-a00c-7ec928f2b539   False   \n",
       "3                   13  t_0479f24c-27d2-46d6-a00c-7ec928f2b539   False   \n",
       "4                   12  t_0479f24c-27d2-46d6-a00c-7ec928f2b539   False   \n",
       "...                ...                                     ...     ...   \n",
       "167875              20  t_c6d511e7-d986-4614-b694-ace9df48a665    True   \n",
       "167876              20  t_44a3360f-a06d-458a-91fc-4d9efa506697    True   \n",
       "167877              20  t_3f71a175-f7ca-4cd4-829d-65fc82b09486   False   \n",
       "167878              20  t_ac792fc0-a591-4c0f-a03c-652a97a864d2   False   \n",
       "167879              20  t_76cb529c-86e9-41e2-a136-f5bd97481a9a    True   \n",
       "\n",
       "        skip_2  skip_3  not_skipped  context_switch  no_pause_before_play  \\\n",
       "0        False   False         True               0                     0   \n",
       "1        False    True        False               0                     0   \n",
       "2        False   False         True               0                     0   \n",
       "3        False   False         True               0                     1   \n",
       "4        False    True        False               0                     0   \n",
       "...        ...     ...          ...             ...                   ...   \n",
       "167875    True    True        False               0                     0   \n",
       "167876    True    True        False               0                     0   \n",
       "167877   False   False         True               0                     1   \n",
       "167878   False    True        False               0                     0   \n",
       "167879    True    True        False               0                     0   \n",
       "\n",
       "        ...  time_signature   valence  acoustic_vector_0  acoustic_vector_1  \\\n",
       "0       ...               4  0.152255          -0.815775           0.386409   \n",
       "1       ...               4  0.152255          -0.815775           0.386409   \n",
       "2       ...               4  0.152255          -0.815775           0.386409   \n",
       "3       ...               4  0.152255          -0.815775           0.386409   \n",
       "4       ...               4  0.152255          -0.815775           0.386409   \n",
       "...     ...             ...       ...                ...                ...   \n",
       "167875  ...               4  0.599401          -0.842907           0.325243   \n",
       "167876  ...               4  0.322569          -0.922512           0.331971   \n",
       "167877  ...               4  0.443760          -0.771976           0.383800   \n",
       "167878  ...               4  0.416596          -0.978526           0.346568   \n",
       "167879  ...               4  0.583041          -0.883477           0.275426   \n",
       "\n",
       "        acoustic_vector_2  acoustic_vector_3 acoustic_vector_4  \\\n",
       "0                0.230160           0.028028         -0.333373   \n",
       "1                0.230160           0.028028         -0.333373   \n",
       "2                0.230160           0.028028         -0.333373   \n",
       "3                0.230160           0.028028         -0.333373   \n",
       "4                0.230160           0.028028         -0.333373   \n",
       "...                   ...                ...               ...   \n",
       "167875           0.207480           0.064804         -0.258140   \n",
       "167876           0.218592           0.093307         -0.309999   \n",
       "167877           0.367541           0.026499         -0.370684   \n",
       "167878           0.250859           0.163195         -0.274763   \n",
       "167879           0.203538           0.146071         -0.287761   \n",
       "\n",
       "        acoustic_vector_5 acoustic_vector_6 acoustic_vector_7  \n",
       "0                0.015452         -0.353590          0.205826  \n",
       "1                0.015452         -0.353590          0.205826  \n",
       "2                0.015452         -0.353590          0.205826  \n",
       "3                0.015452         -0.353590          0.205826  \n",
       "4                0.015452         -0.353590          0.205826  \n",
       "...                   ...               ...               ...  \n",
       "167875          -0.001348         -0.548543          0.176667  \n",
       "167876          -0.004573         -0.549420          0.219733  \n",
       "167877           0.083014         -0.334056          0.097527  \n",
       "167878          -0.047336         -0.546883          0.142521  \n",
       "167879          -0.047060         -0.573223          0.141425  \n",
       "\n",
       "[167880 rows x 51 columns]"
      ]
     },
     "execution_count": 64,
     "metadata": {},
     "output_type": "execute_result"
    }
   ],
   "source": [
    "extended_set = pd.merge(spotify_set,spotify_track,left_on=\"track_id_clean\", right_on=\"track_id\")\n",
    "extended_set"
   ]
  },
  {
   "cell_type": "markdown",
   "metadata": {},
   "source": [
    "**I46 - Delete outliers applying an IQR with a mask."
   ]
  },
  {
   "cell_type": "code",
   "execution_count": null,
   "metadata": {},
   "outputs": [],
   "source": [
    "duration                  float64\n",
    "release_year                int64\n",
    "us_popularity_estimate    float64\n",
    "acousticness              float64\n",
    "beat_strength             float64\n",
    "bounciness                float64\n",
    "danceability              float64\n",
    "dyn_range_mean            float64\n",
    "energy                    float64\n",
    "flatness                  float64\n",
    "instrumentalness          float64\n",
    "key                         int64\n",
    "liveness                  float64\n",
    "loudness                  float64\n",
    "mechanism                 float64\n",
    "mode                       object\n",
    "organism                  float64\n",
    "speechiness               float64\n",
    "tempo                     float64\n",
    "time_signature              int64\n",
    "valence                   float64\n",
    "acoustic_vector_0         float64\n",
    "acoustic_vector_1         float64\n",
    "acoustic_vector_2         float64\n",
    "acoustic_vector_3         float64\n",
    "acoustic_vector_4         float64\n",
    "acoustic_vector_5         float64\n",
    "acoustic_vector_6         float64\n",
    "acoustic_vector_7         float64"
   ]
  }
 ],
 "metadata": {
  "kernelspec": {
   "display_name": "Python 3",
   "language": "python",
   "name": "python3"
  },
  "language_info": {
   "codemirror_mode": {
    "name": "ipython",
    "version": 3
   },
   "file_extension": ".py",
   "mimetype": "text/x-python",
   "name": "python",
   "nbconvert_exporter": "python",
   "pygments_lexer": "ipython3",
   "version": "3.8.5"
  }
 },
 "nbformat": 4,
 "nbformat_minor": 4
}
